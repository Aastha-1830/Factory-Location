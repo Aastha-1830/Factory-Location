{
  "nbformat": 4,
  "nbformat_minor": 0,
  "metadata": {
    "colab": {
      "provenance": [],
      "collapsed_sections": []
    },
    "kernelspec": {
      "name": "python3",
      "display_name": "Python 3"
    },
    "language_info": {
      "name": "python"
    }
  },
  "cells": [
    {
      "cell_type": "code",
      "execution_count": null,
      "metadata": {
        "id": "l-OwNQJLM9zG"
      },
      "outputs": [],
      "source": [
        "!pip install -q pyomo"
      ]
    },
    {
      "cell_type": "code",
      "source": [
        "from pyomo.environ import *"
      ],
      "metadata": {
        "id": "twoBaadGPIeD"
      },
      "execution_count": null,
      "outputs": []
    },
    {
      "cell_type": "code",
      "source": [
        "import numpy as np"
      ],
      "metadata": {
        "id": "v_fYRZfvPQ2o"
      },
      "execution_count": null,
      "outputs": []
    },
    {
      "cell_type": "code",
      "source": [
        "import pandas as pd"
      ],
      "metadata": {
        "id": "2J0MGWyTPTGG"
      },
      "execution_count": null,
      "outputs": []
    },
    {
      "cell_type": "code",
      "source": [
        "data_csvfile = pd.read_csv('lab6_ex1.csv')"
      ],
      "metadata": {
        "id": "84hpffvNX_R-"
      },
      "execution_count": null,
      "outputs": []
    },
    {
      "cell_type": "code",
      "source": [
        "data_csvfile.index"
      ],
      "metadata": {
        "colab": {
          "base_uri": "https://localhost:8080/"
        },
        "id": "XJj58RqGYO9t",
        "outputId": "2a7586f1-c148-455e-f3d5-658398f293dd"
      },
      "execution_count": null,
      "outputs": [
        {
          "output_type": "execute_result",
          "data": {
            "text/plain": [
              "RangeIndex(start=0, stop=9, step=1)"
            ]
          },
          "metadata": {},
          "execution_count": 6
        }
      ]
    },
    {
      "cell_type": "code",
      "source": [
        "print(\"Number of rows: \", len(data_csvfile.index))"
      ],
      "metadata": {
        "colab": {
          "base_uri": "https://localhost:8080/"
        },
        "id": "eFdBH2LtYpRJ",
        "outputId": "72d8b77e-84d0-4733-c8f6-5aed333538a1"
      },
      "execution_count": null,
      "outputs": [
        {
          "output_type": "stream",
          "name": "stdout",
          "text": [
            "Number of rows:  9\n"
          ]
        }
      ]
    },
    {
      "cell_type": "code",
      "source": [
        "#to get the row contents corresponding to Ahmedabad\n",
        "print(data_csvfile.iloc[0, :])"
      ],
      "metadata": {
        "colab": {
          "base_uri": "https://localhost:8080/"
        },
        "id": "utHVrtgxYxw0",
        "outputId": "780b2148-993f-4371-bcd9-97b1d86310a3"
      },
      "execution_count": null,
      "outputs": [
        {
          "output_type": "stream",
          "name": "stdout",
          "text": [
            "Warehouses    Ahmedabad\n",
            "Hassan              827\n",
            "Jodhpur             817\n",
            "Trichy             1470\n",
            "Simla              2272\n",
            "Vijayawada         1615\n",
            "Dibru              3143\n",
            "Raipur             1264\n",
            "Agartala           4465\n",
            "Stock               350\n",
            "Name: 0, dtype: object\n"
          ]
        }
      ]
    },
    {
      "cell_type": "code",
      "source": [
        "#to get the column contents corresponding to Hassan\n",
        "print(data_csvfile.iloc[:, 1])"
      ],
      "metadata": {
        "colab": {
          "base_uri": "https://localhost:8080/"
        },
        "id": "2EsXa0IWZa8B",
        "outputId": "7712c0af-b03c-460b-e6e8-672278dc126f"
      },
      "execution_count": null,
      "outputs": [
        {
          "output_type": "stream",
          "name": "stdout",
          "text": [
            "0     827\n",
            "1     559\n",
            "2    1109\n",
            "3    2943\n",
            "4    3742\n",
            "5    2353\n",
            "6    1356\n",
            "7     195\n",
            "8     205\n",
            "Name: Hassan, dtype: int64\n"
          ]
        }
      ]
    },
    {
      "cell_type": "code",
      "source": [
        "#to get the row contents corresponding to Mumbai\n",
        "print(data_csvfile.iloc[6, :])"
      ],
      "metadata": {
        "colab": {
          "base_uri": "https://localhost:8080/"
        },
        "id": "5tFYihx8Zr_5",
        "outputId": "48e96bad-5f3e-448a-a925-0ea7550fd7a7"
      },
      "execution_count": null,
      "outputs": [
        {
          "output_type": "stream",
          "name": "stdout",
          "text": [
            "Warehouses    Mumbai\n",
            "Hassan          1356\n",
            "Jodhpur         1617\n",
            "Trichy          2045\n",
            "Simla           2941\n",
            "Vijayawada      2334\n",
            "Dibru           4151\n",
            "Raipur          1937\n",
            "Agartala        4287\n",
            "Stock            325\n",
            "Name: 6, dtype: object\n"
          ]
        }
      ]
    },
    {
      "cell_type": "code",
      "source": [
        "data_csvfile.columns"
      ],
      "metadata": {
        "colab": {
          "base_uri": "https://localhost:8080/"
        },
        "id": "BTNwvyNsaFHC",
        "outputId": "d0c90d13-3e27-4492-f6e7-6c4c6d86004b"
      },
      "execution_count": null,
      "outputs": [
        {
          "output_type": "execute_result",
          "data": {
            "text/plain": [
              "Index(['Warehouses', 'Hassan', 'Jodhpur', 'Trichy', 'Simla', 'Vijayawada',\n",
              "       'Dibru', 'Raipur', 'Agartala', 'Stock'],\n",
              "      dtype='object')"
            ]
          },
          "metadata": {},
          "execution_count": 11
        }
      ]
    },
    {
      "cell_type": "code",
      "source": [
        "#create a model\n",
        "model_lab6_ex1 = ConcreteModel()"
      ],
      "metadata": {
        "id": "SGCCOvaMaMYW"
      },
      "execution_count": null,
      "outputs": []
    },
    {
      "cell_type": "code",
      "source": [
        "#setting the values using python variables\n",
        "M = len(data_csvfile.index) - 1\n",
        "print(\"Number of Warehouses: \", M)"
      ],
      "metadata": {
        "colab": {
          "base_uri": "https://localhost:8080/"
        },
        "id": "Wd6XiWXpafNE",
        "outputId": "d79ab4cd-5139-4e08-b07c-629a63d0dff4"
      },
      "execution_count": null,
      "outputs": [
        {
          "output_type": "stream",
          "name": "stdout",
          "text": [
            "Number of Warehouses:  8\n"
          ]
        }
      ]
    },
    {
      "cell_type": "code",
      "source": [
        "#print the number of cities\n",
        "N = len(data_csvfile.columns) - 2\n",
        "print(\"Number of cities: \", N)"
      ],
      "metadata": {
        "colab": {
          "base_uri": "https://localhost:8080/"
        },
        "id": "jyL4CCyQbP_R",
        "outputId": "401b4dc8-09e0-4594-8a1a-2eeb319bac19"
      },
      "execution_count": null,
      "outputs": [
        {
          "output_type": "stream",
          "name": "stdout",
          "text": [
            "Number of cities:  8\n"
          ]
        }
      ]
    },
    {
      "cell_type": "code",
      "source": [
        "row_indices = range(M)\n",
        "col_indices =  range(N)\n",
        "print(row_indices)\n",
        "print(col_indices)"
      ],
      "metadata": {
        "colab": {
          "base_uri": "https://localhost:8080/"
        },
        "id": "gs5CzhfdbxU1",
        "outputId": "fd0f62c2-0329-467c-f188-4ae21ed804ed"
      },
      "execution_count": null,
      "outputs": [
        {
          "output_type": "stream",
          "name": "stdout",
          "text": [
            "range(0, 8)\n",
            "range(0, 8)\n"
          ]
        }
      ]
    },
    {
      "cell_type": "code",
      "source": [
        "#get contents of cost\n",
        "for row_idx in row_indices:\n",
        "  for col_idx in col_indices:\n",
        "    print('Cost[', row_idx, '][', col_idx + 1, ']: ', data_csvfile.iloc[row_idx, col_idx + 1])"
      ],
      "metadata": {
        "colab": {
          "base_uri": "https://localhost:8080/"
        },
        "id": "bAkNwmdgcN2v",
        "outputId": "bb356826-d0b9-452f-ecaa-0db45dc9df23"
      },
      "execution_count": null,
      "outputs": [
        {
          "output_type": "stream",
          "name": "stdout",
          "text": [
            "Cost[ 0 ][ 1 ]:  827\n",
            "Cost[ 0 ][ 2 ]:  817\n",
            "Cost[ 0 ][ 3 ]:  1470\n",
            "Cost[ 0 ][ 4 ]:  2272\n",
            "Cost[ 0 ][ 5 ]:  1615\n",
            "Cost[ 0 ][ 6 ]:  3143\n",
            "Cost[ 0 ][ 7 ]:  1264\n",
            "Cost[ 0 ][ 8 ]:  4465\n",
            "Cost[ 1 ][ 1 ]:  559\n",
            "Cost[ 1 ][ 2 ]:  1832\n",
            "Cost[ 1 ][ 3 ]:  751\n",
            "Cost[ 1 ][ 4 ]:  3772\n",
            "Cost[ 1 ][ 5 ]:  637\n",
            "Cost[ 1 ][ 6 ]:  3773\n",
            "Cost[ 1 ][ 7 ]:  1856\n",
            "Cost[ 1 ][ 8 ]:  5459\n",
            "Cost[ 2 ][ 1 ]:  1109\n",
            "Cost[ 2 ][ 2 ]:  2443\n",
            "Cost[ 2 ][ 3 ]:  577\n",
            "Cost[ 2 ][ 4 ]:  3865\n",
            "Cost[ 2 ][ 5 ]:  798\n",
            "Cost[ 2 ][ 6 ]:  3521\n",
            "Cost[ 2 ][ 7 ]:  1984\n",
            "Cost[ 2 ][ 8 ]:  5303\n",
            "Cost[ 3 ][ 1 ]:  2943\n",
            "Cost[ 3 ][ 2 ]:  1471\n",
            "Cost[ 3 ][ 3 ]:  4676\n",
            "Cost[ 3 ][ 4 ]:  1337\n",
            "Cost[ 3 ][ 5 ]:  2702\n",
            "Cost[ 3 ][ 6 ]:  2741\n",
            "Cost[ 3 ][ 7 ]:  2482\n",
            "Cost[ 3 ][ 8 ]:  4148\n",
            "Cost[ 4 ][ 1 ]:  3742\n",
            "Cost[ 4 ][ 2 ]:  3089\n",
            "Cost[ 4 ][ 3 ]:  2931\n",
            "Cost[ 4 ][ 4 ]:  3199\n",
            "Cost[ 4 ][ 5 ]:  2226\n",
            "Cost[ 4 ][ 6 ]:  1739\n",
            "Cost[ 4 ][ 7 ]:  1691\n",
            "Cost[ 4 ][ 8 ]:  2128\n",
            "Cost[ 5 ][ 1 ]:  2353\n",
            "Cost[ 5 ][ 2 ]:  1160\n",
            "Cost[ 5 ][ 3 ]:  3295\n",
            "Cost[ 5 ][ 4 ]:  368\n",
            "Cost[ 5 ][ 5 ]:  2369\n",
            "Cost[ 5 ][ 6 ]:  2365\n",
            "Cost[ 5 ][ 7 ]:  1293\n",
            "Cost[ 5 ][ 8 ]:  3642\n",
            "Cost[ 6 ][ 1 ]:  1356\n",
            "Cost[ 6 ][ 2 ]:  1617\n",
            "Cost[ 6 ][ 3 ]:  2045\n",
            "Cost[ 6 ][ 4 ]:  2941\n",
            "Cost[ 6 ][ 5 ]:  2334\n",
            "Cost[ 6 ][ 6 ]:  4151\n",
            "Cost[ 6 ][ 7 ]:  1937\n",
            "Cost[ 6 ][ 8 ]:  4287\n",
            "Cost[ 7 ][ 1 ]:  195\n",
            "Cost[ 7 ][ 2 ]:  1862\n",
            "Cost[ 7 ][ 3 ]:  1331\n",
            "Cost[ 7 ][ 4 ]:  2921\n",
            "Cost[ 7 ][ 5 ]:  402\n",
            "Cost[ 7 ][ 6 ]:  2825\n",
            "Cost[ 7 ][ 7 ]:  563\n",
            "Cost[ 7 ][ 8 ]:  4441\n"
          ]
        }
      ]
    },
    {
      "cell_type": "code",
      "source": [
        "#declare the decision variables in the model\n",
        "model_lab6_ex1.x = Var(row_indices, col_indices, domain = NonNegativeIntegers)"
      ],
      "metadata": {
        "id": "DVmH2y5qdetu"
      },
      "execution_count": null,
      "outputs": []
    },
    {
      "cell_type": "code",
      "source": [
        "model_lab6_ex1.objective = Objective(expr = sum(data_csvfile.iloc[i, j+1]*model_lab6_ex1.x[i, j] for i in row_indices for j in col_indices), sense = minimize)"
      ],
      "metadata": {
        "id": "I_kFYJxseBf5"
      },
      "execution_count": null,
      "outputs": []
    },
    {
      "cell_type": "code",
      "source": [
        "model_lab6_ex1.constraints = ConstraintList()"
      ],
      "metadata": {
        "id": "xyI1w7DRfAb0"
      },
      "execution_count": null,
      "outputs": []
    },
    {
      "cell_type": "code",
      "source": [
        "#to get the supply limit at warehouses\n",
        "print(data_csvfile.iloc[:8, N+1])"
      ],
      "metadata": {
        "colab": {
          "base_uri": "https://localhost:8080/"
        },
        "id": "UonC8JgtfHlY",
        "outputId": "28a23085-c30c-44c7-82f4-cccc951f09aa"
      },
      "execution_count": null,
      "outputs": [
        {
          "output_type": "stream",
          "name": "stdout",
          "text": [
            "0    350\n",
            "1    185\n",
            "2    305\n",
            "3    180\n",
            "4    205\n",
            "5    175\n",
            "6    325\n",
            "7    370\n",
            "Name: Stock, dtype: int64\n"
          ]
        }
      ]
    },
    {
      "cell_type": "code",
      "source": [
        "#to get the demands at cities\n",
        "print(data_csvfile.iloc[M, 1:N+1])"
      ],
      "metadata": {
        "colab": {
          "base_uri": "https://localhost:8080/"
        },
        "id": "fcSzPUk9facM",
        "outputId": "b5101f98-a276-4e25-fae6-8481ad2582f6"
      },
      "execution_count": null,
      "outputs": [
        {
          "output_type": "stream",
          "name": "stdout",
          "text": [
            "Hassan        205\n",
            "Jodhpur       300\n",
            "Trichy        425\n",
            "Simla         270\n",
            "Vijayawada    375\n",
            "Dibru         225\n",
            "Raipur        185\n",
            "Agartala      110\n",
            "Name: 8, dtype: object\n"
          ]
        }
      ]
    },
    {
      "cell_type": "code",
      "source": [
        "#first we will add the supply limit constraints\n",
        "#supply constraint for Ahmedabad\n",
        "model_lab6_ex1.constraints.add(expr = sum(model_lab6_ex1.x[0, j] for j in col_indices) <= data_csvfile.iloc[0, N+1])\n",
        "\n",
        "#supply constraint for Bengaluru\n",
        "model_lab6_ex1.constraints.add(expr = sum(model_lab6_ex1.x[1, j] for j in col_indices) <= data_csvfile.iloc[1, N+1])\n",
        "\n",
        "#supply constraint for Chennai\n",
        "model_lab6_ex1.constraints.add(expr = sum(model_lab6_ex1.x[2, j] for j in col_indices) <= data_csvfile.iloc[2, N+1])\n",
        "\n",
        "#supply constraint for Delhi\n",
        "model_lab6_ex1.constraints.add(expr = sum(model_lab6_ex1.x[3, j] for j in col_indices) <= data_csvfile.iloc[3, N+1])\n",
        "\n",
        "#supply constraint for Kolkata\n",
        "model_lab6_ex1.constraints.add(expr = sum(model_lab6_ex1.x[4, j] for j in col_indices) <= data_csvfile.iloc[4, N+1])\n",
        "\n",
        "#supply constraint for Lucknow\n",
        "model_lab6_ex1.constraints.add(expr = sum(model_lab6_ex1.x[5, j] for j in col_indices) <= data_csvfile.iloc[5, N+1])\n",
        "\n",
        "#supply constraint for Mumbai\n",
        "model_lab6_ex1.constraints.add(expr = sum(model_lab6_ex1.x[6, j] for j in col_indices) <= data_csvfile.iloc[6, N+1])\n",
        "\n",
        "#supply constraint for Hyderabad\n",
        "model_lab6_ex1.constraints.add(expr = sum(model_lab6_ex1.x[7, j] for j in col_indices) <= data_csvfile.iloc[7, N+1])\n",
        "\n"
      ],
      "metadata": {
        "colab": {
          "base_uri": "https://localhost:8080/"
        },
        "id": "DP5zXyKXf-cG",
        "outputId": "a6e1a221-ceff-4928-cbcb-7b8f8d4a8841"
      },
      "execution_count": null,
      "outputs": [
        {
          "output_type": "execute_result",
          "data": {
            "text/plain": [
              "<pyomo.core.base.constraint._GeneralConstraintData at 0x7f406f34d830>"
            ]
          },
          "metadata": {},
          "execution_count": 22
        }
      ]
    },
    {
      "cell_type": "code",
      "source": [
        "#now we will add the demand constraints\n",
        "#demand constraint for Hassan\n",
        "model_lab6_ex1.constraints.add(expr = sum(model_lab6_ex1.x[i, 0] for i in row_indices) == data_csvfile.iloc[M, 1]) \n",
        "\n",
        "#demand constraint for Hassan\n",
        "model_lab6_ex1.constraints.add(expr = sum(model_lab6_ex1.x[i, 1] for i in row_indices) == data_csvfile.iloc[M, 2]) \n",
        "\n",
        "#demand constraint for Hassan\n",
        "model_lab6_ex1.constraints.add(expr = sum(model_lab6_ex1.x[i, 2] for i in row_indices) == data_csvfile.iloc[M, 3])\n",
        "\n",
        "#demand constraint for Hassan\n",
        "model_lab6_ex1.constraints.add(expr = sum(model_lab6_ex1.x[i, 3] for i in row_indices) == data_csvfile.iloc[M, 4]) \n",
        "\n",
        "#demand constraint for Hassan\n",
        "model_lab6_ex1.constraints.add(expr = sum(model_lab6_ex1.x[i, 4] for i in row_indices) == data_csvfile.iloc[M, 5]) \n",
        "\n",
        "#demand constraint for Hassan\n",
        "model_lab6_ex1.constraints.add(expr = sum(model_lab6_ex1.x[i, 5] for i in row_indices) == data_csvfile.iloc[M, 6]) \n",
        "\n",
        "#demand constraint for Hassan\n",
        "model_lab6_ex1.constraints.add(expr = sum(model_lab6_ex1.x[i, 6] for i in row_indices) == data_csvfile.iloc[M, 7]) \n",
        "\n",
        "#demand constraint for Hassan\n",
        "model_lab6_ex1.constraints.add(expr = sum(model_lab6_ex1.x[i, 7] for i in row_indices) == data_csvfile.iloc[M, 8]) \n"
      ],
      "metadata": {
        "id": "dPPnUnB1hbgW",
        "colab": {
          "base_uri": "https://localhost:8080/"
        },
        "outputId": "83653ae1-d111-4229-e6de-edab7852ac68"
      },
      "execution_count": null,
      "outputs": [
        {
          "output_type": "execute_result",
          "data": {
            "text/plain": [
              "<pyomo.core.base.constraint._GeneralConstraintData at 0x7f406f2f6050>"
            ]
          },
          "metadata": {},
          "execution_count": 23
        }
      ]
    },
    {
      "cell_type": "code",
      "source": [
        "model_lab6_ex1.pprint()"
      ],
      "metadata": {
        "colab": {
          "base_uri": "https://localhost:8080/"
        },
        "id": "3gQTcUlokUrF",
        "outputId": "f43975d4-c4c1-4aec-e2c5-94957bec298b"
      },
      "execution_count": null,
      "outputs": [
        {
          "output_type": "stream",
          "name": "stdout",
          "text": [
            "4 Set Declarations\n",
            "    constraints_index : Size=1, Index=None, Ordered=Insertion\n",
            "        Key  : Dimen : Domain : Size : Members\n",
            "        None :     1 :    Any :   16 : {1, 2, 3, 4, 5, 6, 7, 8, 9, 10, 11, 12, 13, 14, 15, 16}\n",
            "    x_index : Size=1, Index=None, Ordered=True\n",
            "        Key  : Dimen : Domain              : Size : Members\n",
            "        None :     2 : x_index_0*x_index_1 :   64 : {(0, 0), (0, 1), (0, 2), (0, 3), (0, 4), (0, 5), (0, 6), (0, 7), (1, 0), (1, 1), (1, 2), (1, 3), (1, 4), (1, 5), (1, 6), (1, 7), (2, 0), (2, 1), (2, 2), (2, 3), (2, 4), (2, 5), (2, 6), (2, 7), (3, 0), (3, 1), (3, 2), (3, 3), (3, 4), (3, 5), (3, 6), (3, 7), (4, 0), (4, 1), (4, 2), (4, 3), (4, 4), (4, 5), (4, 6), (4, 7), (5, 0), (5, 1), (5, 2), (5, 3), (5, 4), (5, 5), (5, 6), (5, 7), (6, 0), (6, 1), (6, 2), (6, 3), (6, 4), (6, 5), (6, 6), (6, 7), (7, 0), (7, 1), (7, 2), (7, 3), (7, 4), (7, 5), (7, 6), (7, 7)}\n",
            "    x_index_0 : Size=1, Index=None, Ordered=Insertion\n",
            "        Key  : Dimen : Domain : Size : Members\n",
            "        None :     1 :    Any :    8 : {0, 1, 2, 3, 4, 5, 6, 7}\n",
            "    x_index_1 : Size=1, Index=None, Ordered=Insertion\n",
            "        Key  : Dimen : Domain : Size : Members\n",
            "        None :     1 :    Any :    8 : {0, 1, 2, 3, 4, 5, 6, 7}\n",
            "\n",
            "1 Var Declarations\n",
            "    x : Size=64, Index=x_index\n",
            "        Key    : Lower : Value : Upper : Fixed : Stale : Domain\n",
            "        (0, 0) :     0 :  None :  None : False :  True : NonNegativeIntegers\n",
            "        (0, 1) :     0 :  None :  None : False :  True : NonNegativeIntegers\n",
            "        (0, 2) :     0 :  None :  None : False :  True : NonNegativeIntegers\n",
            "        (0, 3) :     0 :  None :  None : False :  True : NonNegativeIntegers\n",
            "        (0, 4) :     0 :  None :  None : False :  True : NonNegativeIntegers\n",
            "        (0, 5) :     0 :  None :  None : False :  True : NonNegativeIntegers\n",
            "        (0, 6) :     0 :  None :  None : False :  True : NonNegativeIntegers\n",
            "        (0, 7) :     0 :  None :  None : False :  True : NonNegativeIntegers\n",
            "        (1, 0) :     0 :  None :  None : False :  True : NonNegativeIntegers\n",
            "        (1, 1) :     0 :  None :  None : False :  True : NonNegativeIntegers\n",
            "        (1, 2) :     0 :  None :  None : False :  True : NonNegativeIntegers\n",
            "        (1, 3) :     0 :  None :  None : False :  True : NonNegativeIntegers\n",
            "        (1, 4) :     0 :  None :  None : False :  True : NonNegativeIntegers\n",
            "        (1, 5) :     0 :  None :  None : False :  True : NonNegativeIntegers\n",
            "        (1, 6) :     0 :  None :  None : False :  True : NonNegativeIntegers\n",
            "        (1, 7) :     0 :  None :  None : False :  True : NonNegativeIntegers\n",
            "        (2, 0) :     0 :  None :  None : False :  True : NonNegativeIntegers\n",
            "        (2, 1) :     0 :  None :  None : False :  True : NonNegativeIntegers\n",
            "        (2, 2) :     0 :  None :  None : False :  True : NonNegativeIntegers\n",
            "        (2, 3) :     0 :  None :  None : False :  True : NonNegativeIntegers\n",
            "        (2, 4) :     0 :  None :  None : False :  True : NonNegativeIntegers\n",
            "        (2, 5) :     0 :  None :  None : False :  True : NonNegativeIntegers\n",
            "        (2, 6) :     0 :  None :  None : False :  True : NonNegativeIntegers\n",
            "        (2, 7) :     0 :  None :  None : False :  True : NonNegativeIntegers\n",
            "        (3, 0) :     0 :  None :  None : False :  True : NonNegativeIntegers\n",
            "        (3, 1) :     0 :  None :  None : False :  True : NonNegativeIntegers\n",
            "        (3, 2) :     0 :  None :  None : False :  True : NonNegativeIntegers\n",
            "        (3, 3) :     0 :  None :  None : False :  True : NonNegativeIntegers\n",
            "        (3, 4) :     0 :  None :  None : False :  True : NonNegativeIntegers\n",
            "        (3, 5) :     0 :  None :  None : False :  True : NonNegativeIntegers\n",
            "        (3, 6) :     0 :  None :  None : False :  True : NonNegativeIntegers\n",
            "        (3, 7) :     0 :  None :  None : False :  True : NonNegativeIntegers\n",
            "        (4, 0) :     0 :  None :  None : False :  True : NonNegativeIntegers\n",
            "        (4, 1) :     0 :  None :  None : False :  True : NonNegativeIntegers\n",
            "        (4, 2) :     0 :  None :  None : False :  True : NonNegativeIntegers\n",
            "        (4, 3) :     0 :  None :  None : False :  True : NonNegativeIntegers\n",
            "        (4, 4) :     0 :  None :  None : False :  True : NonNegativeIntegers\n",
            "        (4, 5) :     0 :  None :  None : False :  True : NonNegativeIntegers\n",
            "        (4, 6) :     0 :  None :  None : False :  True : NonNegativeIntegers\n",
            "        (4, 7) :     0 :  None :  None : False :  True : NonNegativeIntegers\n",
            "        (5, 0) :     0 :  None :  None : False :  True : NonNegativeIntegers\n",
            "        (5, 1) :     0 :  None :  None : False :  True : NonNegativeIntegers\n",
            "        (5, 2) :     0 :  None :  None : False :  True : NonNegativeIntegers\n",
            "        (5, 3) :     0 :  None :  None : False :  True : NonNegativeIntegers\n",
            "        (5, 4) :     0 :  None :  None : False :  True : NonNegativeIntegers\n",
            "        (5, 5) :     0 :  None :  None : False :  True : NonNegativeIntegers\n",
            "        (5, 6) :     0 :  None :  None : False :  True : NonNegativeIntegers\n",
            "        (5, 7) :     0 :  None :  None : False :  True : NonNegativeIntegers\n",
            "        (6, 0) :     0 :  None :  None : False :  True : NonNegativeIntegers\n",
            "        (6, 1) :     0 :  None :  None : False :  True : NonNegativeIntegers\n",
            "        (6, 2) :     0 :  None :  None : False :  True : NonNegativeIntegers\n",
            "        (6, 3) :     0 :  None :  None : False :  True : NonNegativeIntegers\n",
            "        (6, 4) :     0 :  None :  None : False :  True : NonNegativeIntegers\n",
            "        (6, 5) :     0 :  None :  None : False :  True : NonNegativeIntegers\n",
            "        (6, 6) :     0 :  None :  None : False :  True : NonNegativeIntegers\n",
            "        (6, 7) :     0 :  None :  None : False :  True : NonNegativeIntegers\n",
            "        (7, 0) :     0 :  None :  None : False :  True : NonNegativeIntegers\n",
            "        (7, 1) :     0 :  None :  None : False :  True : NonNegativeIntegers\n",
            "        (7, 2) :     0 :  None :  None : False :  True : NonNegativeIntegers\n",
            "        (7, 3) :     0 :  None :  None : False :  True : NonNegativeIntegers\n",
            "        (7, 4) :     0 :  None :  None : False :  True : NonNegativeIntegers\n",
            "        (7, 5) :     0 :  None :  None : False :  True : NonNegativeIntegers\n",
            "        (7, 6) :     0 :  None :  None : False :  True : NonNegativeIntegers\n",
            "        (7, 7) :     0 :  None :  None : False :  True : NonNegativeIntegers\n",
            "\n",
            "1 Objective Declarations\n",
            "    objective : Size=1, Index=None, Active=True\n",
            "        Key  : Active : Sense    : Expression\n",
            "        None :   True : minimize : 827*x[0,0] + 817*x[0,1] + 1470*x[0,2] + 2272*x[0,3] + 1615*x[0,4] + 3143*x[0,5] + 1264*x[0,6] + 4465*x[0,7] + 559*x[1,0] + 1832*x[1,1] + 751*x[1,2] + 3772*x[1,3] + 637*x[1,4] + 3773*x[1,5] + 1856*x[1,6] + 5459*x[1,7] + 1109*x[2,0] + 2443*x[2,1] + 577*x[2,2] + 3865*x[2,3] + 798*x[2,4] + 3521*x[2,5] + 1984*x[2,6] + 5303*x[2,7] + 2943*x[3,0] + 1471*x[3,1] + 4676*x[3,2] + 1337*x[3,3] + 2702*x[3,4] + 2741*x[3,5] + 2482*x[3,6] + 4148*x[3,7] + 3742*x[4,0] + 3089*x[4,1] + 2931*x[4,2] + 3199*x[4,3] + 2226*x[4,4] + 1739*x[4,5] + 1691*x[4,6] + 2128*x[4,7] + 2353*x[5,0] + 1160*x[5,1] + 3295*x[5,2] + 368*x[5,3] + 2369*x[5,4] + 2365*x[5,5] + 1293*x[5,6] + 3642*x[5,7] + 1356*x[6,0] + 1617*x[6,1] + 2045*x[6,2] + 2941*x[6,3] + 2334*x[6,4] + 4151*x[6,5] + 1937*x[6,6] + 4287*x[6,7] + 195*x[7,0] + 1862*x[7,1] + 1331*x[7,2] + 2921*x[7,3] + 402*x[7,4] + 2825*x[7,5] + 563*x[7,6] + 4441*x[7,7]\n",
            "\n",
            "1 Constraint Declarations\n",
            "    constraints : Size=16, Index=constraints_index, Active=True\n",
            "        Key : Lower : Body                                                                  : Upper : Active\n",
            "          1 :  -Inf : x[0,0] + x[0,1] + x[0,2] + x[0,3] + x[0,4] + x[0,5] + x[0,6] + x[0,7] : 350.0 :   True\n",
            "          2 :  -Inf : x[1,0] + x[1,1] + x[1,2] + x[1,3] + x[1,4] + x[1,5] + x[1,6] + x[1,7] : 185.0 :   True\n",
            "          3 :  -Inf : x[2,0] + x[2,1] + x[2,2] + x[2,3] + x[2,4] + x[2,5] + x[2,6] + x[2,7] : 305.0 :   True\n",
            "          4 :  -Inf : x[3,0] + x[3,1] + x[3,2] + x[3,3] + x[3,4] + x[3,5] + x[3,6] + x[3,7] : 180.0 :   True\n",
            "          5 :  -Inf : x[4,0] + x[4,1] + x[4,2] + x[4,3] + x[4,4] + x[4,5] + x[4,6] + x[4,7] : 205.0 :   True\n",
            "          6 :  -Inf : x[5,0] + x[5,1] + x[5,2] + x[5,3] + x[5,4] + x[5,5] + x[5,6] + x[5,7] : 175.0 :   True\n",
            "          7 :  -Inf : x[6,0] + x[6,1] + x[6,2] + x[6,3] + x[6,4] + x[6,5] + x[6,6] + x[6,7] : 325.0 :   True\n",
            "          8 :  -Inf : x[7,0] + x[7,1] + x[7,2] + x[7,3] + x[7,4] + x[7,5] + x[7,6] + x[7,7] : 370.0 :   True\n",
            "          9 : 205.0 : x[0,0] + x[1,0] + x[2,0] + x[3,0] + x[4,0] + x[5,0] + x[6,0] + x[7,0] : 205.0 :   True\n",
            "         10 : 300.0 : x[0,1] + x[1,1] + x[2,1] + x[3,1] + x[4,1] + x[5,1] + x[6,1] + x[7,1] : 300.0 :   True\n",
            "         11 : 425.0 : x[0,2] + x[1,2] + x[2,2] + x[3,2] + x[4,2] + x[5,2] + x[6,2] + x[7,2] : 425.0 :   True\n",
            "         12 : 270.0 : x[0,3] + x[1,3] + x[2,3] + x[3,3] + x[4,3] + x[5,3] + x[6,3] + x[7,3] : 270.0 :   True\n",
            "         13 : 375.0 : x[0,4] + x[1,4] + x[2,4] + x[3,4] + x[4,4] + x[5,4] + x[6,4] + x[7,4] : 375.0 :   True\n",
            "         14 : 225.0 : x[0,5] + x[1,5] + x[2,5] + x[3,5] + x[4,5] + x[5,5] + x[6,5] + x[7,5] : 225.0 :   True\n",
            "         15 : 185.0 : x[0,6] + x[1,6] + x[2,6] + x[3,6] + x[4,6] + x[5,6] + x[6,6] + x[7,6] : 185.0 :   True\n",
            "         16 : 110.0 : x[0,7] + x[1,7] + x[2,7] + x[3,7] + x[4,7] + x[5,7] + x[6,7] + x[7,7] : 110.0 :   True\n",
            "\n",
            "7 Declarations: x_index_0 x_index_1 x_index x objective constraints_index constraints\n"
          ]
        }
      ]
    },
    {
      "cell_type": "code",
      "source": [
        "!apt-get install -y -qq coinor-cbc"
      ],
      "metadata": {
        "id": "oe5-sxgzkb3b"
      },
      "execution_count": null,
      "outputs": []
    },
    {
      "cell_type": "code",
      "source": [
        "opt_cbc = SolverFactory('cbc')"
      ],
      "metadata": {
        "id": "17-PUQeGliiv"
      },
      "execution_count": null,
      "outputs": []
    },
    {
      "cell_type": "code",
      "source": [
        "result = opt_cbc.solve(model_lab6_ex1)\n",
        "print(\"Solver Status: \", result.solver.status)\n",
        "print(\"Solver Termination Condition\", result.solver.termination_condition)"
      ],
      "metadata": {
        "colab": {
          "base_uri": "https://localhost:8080/"
        },
        "id": "WDkxpk3plpaK",
        "outputId": "2a405e19-c938-4c98-b2a3-17248516394e"
      },
      "execution_count": null,
      "outputs": [
        {
          "output_type": "stream",
          "name": "stdout",
          "text": [
            "Solver Status:  ok\n",
            "Solver Termination Condition optimal\n"
          ]
        }
      ]
    },
    {
      "cell_type": "code",
      "source": [
        "#display solution\n",
        "print(\"\\nObjective = \", model_lab6_ex1.objective())\n",
        "\n",
        "print('\\nDecision Variables')\n",
        "for i in row_indices:\n",
        "  for j in col_indices:\n",
        "    print(\"Number of truck-loads of EVs from\", data_csvfile['Warehouses'][i], \"to\", data_csvfile.columns[j + 1], \":\", model_lab6_ex1.x[i, j].value)\n",
        "\n",
        "print(\"n\\Constraints\")\n",
        "model_lab6_ex1.constraints.display()"
      ],
      "metadata": {
        "colab": {
          "base_uri": "https://localhost:8080/"
        },
        "id": "UB4Nqeeol-NG",
        "outputId": "3196f880-a7d3-4278-bc17-6fb97da80156"
      },
      "execution_count": null,
      "outputs": [
        {
          "output_type": "stream",
          "name": "stdout",
          "text": [
            "\n",
            "Objective =  2192870.0\n",
            "\n",
            "Decision Variables\n",
            "Number of truck-loads of EVs from Ahmedabad to Hassan : 0.0\n",
            "Number of truck-loads of EVs from Ahmedabad to Jodhpur : 300.0\n",
            "Number of truck-loads of EVs from Ahmedabad to Trichy : 0.0\n",
            "Number of truck-loads of EVs from Ahmedabad to Simla : 0.0\n",
            "Number of truck-loads of EVs from Ahmedabad to Vijayawada : 0.0\n",
            "Number of truck-loads of EVs from Ahmedabad to Dibru : 45.0\n",
            "Number of truck-loads of EVs from Ahmedabad to Raipur : 5.0\n",
            "Number of truck-loads of EVs from Ahmedabad to Agartala : 0.0\n",
            "Number of truck-loads of EVs from Bengal to Hassan : 0.0\n",
            "Number of truck-loads of EVs from Bengal to Jodhpur : 0.0\n",
            "Number of truck-loads of EVs from Bengal to Trichy : 120.0\n",
            "Number of truck-loads of EVs from Bengal to Simla : 0.0\n",
            "Number of truck-loads of EVs from Bengal to Vijayawada : 65.0\n",
            "Number of truck-loads of EVs from Bengal to Dibru : 0.0\n",
            "Number of truck-loads of EVs from Bengal to Raipur : 0.0\n",
            "Number of truck-loads of EVs from Bengal to Agartala : 0.0\n",
            "Number of truck-loads of EVs from Chennai to Hassan : 0.0\n",
            "Number of truck-loads of EVs from Chennai to Jodhpur : 0.0\n",
            "Number of truck-loads of EVs from Chennai to Trichy : 305.0\n",
            "Number of truck-loads of EVs from Chennai to Simla : 0.0\n",
            "Number of truck-loads of EVs from Chennai to Vijayawada : 0.0\n",
            "Number of truck-loads of EVs from Chennai to Dibru : 0.0\n",
            "Number of truck-loads of EVs from Chennai to Raipur : 0.0\n",
            "Number of truck-loads of EVs from Chennai to Agartala : 0.0\n",
            "Number of truck-loads of EVs from Delhi to Hassan : 0.0\n",
            "Number of truck-loads of EVs from Delhi to Jodhpur : 0.0\n",
            "Number of truck-loads of EVs from Delhi to Trichy : 0.0\n",
            "Number of truck-loads of EVs from Delhi to Simla : 95.0\n",
            "Number of truck-loads of EVs from Delhi to Vijayawada : 0.0\n",
            "Number of truck-loads of EVs from Delhi to Dibru : 85.0\n",
            "Number of truck-loads of EVs from Delhi to Raipur : 0.0\n",
            "Number of truck-loads of EVs from Delhi to Agartala : 0.0\n",
            "Number of truck-loads of EVs from Kolkata to Hassan : 0.0\n",
            "Number of truck-loads of EVs from Kolkata to Jodhpur : 0.0\n",
            "Number of truck-loads of EVs from Kolkata to Trichy : 0.0\n",
            "Number of truck-loads of EVs from Kolkata to Simla : 0.0\n",
            "Number of truck-loads of EVs from Kolkata to Vijayawada : 0.0\n",
            "Number of truck-loads of EVs from Kolkata to Dibru : 95.0\n",
            "Number of truck-loads of EVs from Kolkata to Raipur : 0.0\n",
            "Number of truck-loads of EVs from Kolkata to Agartala : 110.0\n",
            "Number of truck-loads of EVs from Lucknow to Hassan : 0.0\n",
            "Number of truck-loads of EVs from Lucknow to Jodhpur : 0.0\n",
            "Number of truck-loads of EVs from Lucknow to Trichy : 0.0\n",
            "Number of truck-loads of EVs from Lucknow to Simla : 175.0\n",
            "Number of truck-loads of EVs from Lucknow to Vijayawada : 0.0\n",
            "Number of truck-loads of EVs from Lucknow to Dibru : 0.0\n",
            "Number of truck-loads of EVs from Lucknow to Raipur : 0.0\n",
            "Number of truck-loads of EVs from Lucknow to Agartala : 0.0\n",
            "Number of truck-loads of EVs from Mumbai to Hassan : 205.0\n",
            "Number of truck-loads of EVs from Mumbai to Jodhpur : 0.0\n",
            "Number of truck-loads of EVs from Mumbai to Trichy : 0.0\n",
            "Number of truck-loads of EVs from Mumbai to Simla : 0.0\n",
            "Number of truck-loads of EVs from Mumbai to Vijayawada : 0.0\n",
            "Number of truck-loads of EVs from Mumbai to Dibru : 0.0\n",
            "Number of truck-loads of EVs from Mumbai to Raipur : 120.0\n",
            "Number of truck-loads of EVs from Mumbai to Agartala : 0.0\n",
            "Number of truck-loads of EVs from Hyderabad to Hassan : 0.0\n",
            "Number of truck-loads of EVs from Hyderabad to Jodhpur : 0.0\n",
            "Number of truck-loads of EVs from Hyderabad to Trichy : 0.0\n",
            "Number of truck-loads of EVs from Hyderabad to Simla : 0.0\n",
            "Number of truck-loads of EVs from Hyderabad to Vijayawada : 310.0\n",
            "Number of truck-loads of EVs from Hyderabad to Dibru : 0.0\n",
            "Number of truck-loads of EVs from Hyderabad to Raipur : 60.0\n",
            "Number of truck-loads of EVs from Hyderabad to Agartala : 0.0\n",
            "n\\Constraints\n",
            "constraints : Size=16\n",
            "    Key : Lower : Body  : Upper\n",
            "      1 :  None : 350.0 : 350.0\n",
            "      2 :  None : 185.0 : 185.0\n",
            "      3 :  None : 305.0 : 305.0\n",
            "      4 :  None : 180.0 : 180.0\n",
            "      5 :  None : 205.0 : 205.0\n",
            "      6 :  None : 175.0 : 175.0\n",
            "      7 :  None : 325.0 : 325.0\n",
            "      8 :  None : 370.0 : 370.0\n",
            "      9 : 205.0 : 205.0 : 205.0\n",
            "     10 : 300.0 : 300.0 : 300.0\n",
            "     11 : 425.0 : 425.0 : 425.0\n",
            "     12 : 270.0 : 270.0 : 270.0\n",
            "     13 : 375.0 : 375.0 : 375.0\n",
            "     14 : 225.0 : 225.0 : 225.0\n",
            "     15 : 185.0 : 185.0 : 185.0\n",
            "     16 : 110.0 : 110.0 : 110.0\n"
          ]
        }
      ]
    },
    {
      "cell_type": "code",
      "source": [
        "data_csvfile.iloc[5, 4] = 10000000"
      ],
      "metadata": {
        "id": "spC78fwunGtv"
      },
      "execution_count": null,
      "outputs": []
    },
    {
      "cell_type": "code",
      "source": [
        "model_lab6_ex1.objective = Objective(expr = sum(data_csvfile.iloc[i, j+1]*model_lab6_ex1.x[i, j] for i in row_indices for j in col_indices), sense = minimize)"
      ],
      "metadata": {
        "colab": {
          "base_uri": "https://localhost:8080/"
        },
        "id": "fADkep6CqXzU",
        "outputId": "65c0f854-e587-43fe-cfa0-62be198d022e"
      },
      "execution_count": null,
      "outputs": [
        {
          "output_type": "stream",
          "name": "stderr",
          "text": [
            "WARNING:pyomo.core:Implicitly replacing the Component attribute objective (type=<class 'pyomo.core.base.objective.ScalarObjective'>) on block unknown with a new Component (type=<class 'pyomo.core.base.objective.ScalarObjective'>).\n",
            "This is usually indicative of a modelling error.\n",
            "To avoid this warning, use block.del_component() and block.add_component().\n"
          ]
        }
      ]
    },
    {
      "cell_type": "code",
      "source": [
        "result = opt_cbc.solve(model_lab6_ex1)\n",
        "print(\"Solver Status: \", result.solver.status)\n",
        "print(\"Solver Termination Condition\", result.solver.termination_condition)"
      ],
      "metadata": {
        "colab": {
          "base_uri": "https://localhost:8080/"
        },
        "id": "m4wzfeZ7qhOe",
        "outputId": "57b8298e-fc06-4cba-b94e-37d373ac85d6"
      },
      "execution_count": null,
      "outputs": [
        {
          "output_type": "stream",
          "name": "stdout",
          "text": [
            "Solver Status:  ok\n",
            "Solver Termination Condition optimal\n"
          ]
        }
      ]
    },
    {
      "cell_type": "code",
      "source": [
        "#display solution\n",
        "print(\"\\nObjective = \", model_lab6_ex1.objective())\n",
        "\n",
        "print('\\nDecision Variables')\n",
        "for i in row_indices:\n",
        "  for j in col_indices:\n",
        "    print(\"Number of truck-loads of EVs from\", data_csvfile['Warehouses'][i], \"to\", data_csvfile.columns[j + 1], \":\", model_lab6_ex1.x[i, j].value)\n",
        "\n",
        "print(\"n\\Constraints\")\n",
        "model_lab6_ex1.constraints.display()"
      ],
      "metadata": {
        "colab": {
          "base_uri": "https://localhost:8080/"
        },
        "id": "yz89MfjFql3q",
        "outputId": "a01a3dff-65f9-41db-892f-4e0ea264857e"
      },
      "execution_count": null,
      "outputs": [
        {
          "output_type": "stream",
          "name": "stdout",
          "text": [
            "\n",
            "Objective =  2380570.0\n",
            "\n",
            "Decision Variables\n",
            "Number of truck-loads of EVs from Ahmedabad to Hassan : 0.0\n",
            "Number of truck-loads of EVs from Ahmedabad to Jodhpur : 300.0\n",
            "Number of truck-loads of EVs from Ahmedabad to Trichy : 0.0\n",
            "Number of truck-loads of EVs from Ahmedabad to Simla : 0.0\n",
            "Number of truck-loads of EVs from Ahmedabad to Vijayawada : 0.0\n",
            "Number of truck-loads of EVs from Ahmedabad to Dibru : 0.0\n",
            "Number of truck-loads of EVs from Ahmedabad to Raipur : 50.0\n",
            "Number of truck-loads of EVs from Ahmedabad to Agartala : 0.0\n",
            "Number of truck-loads of EVs from Bengal to Hassan : 0.0\n",
            "Number of truck-loads of EVs from Bengal to Jodhpur : 0.0\n",
            "Number of truck-loads of EVs from Bengal to Trichy : 120.0\n",
            "Number of truck-loads of EVs from Bengal to Simla : 0.0\n",
            "Number of truck-loads of EVs from Bengal to Vijayawada : 65.0\n",
            "Number of truck-loads of EVs from Bengal to Dibru : 0.0\n",
            "Number of truck-loads of EVs from Bengal to Raipur : 0.0\n",
            "Number of truck-loads of EVs from Bengal to Agartala : 0.0\n",
            "Number of truck-loads of EVs from Chennai to Hassan : 0.0\n",
            "Number of truck-loads of EVs from Chennai to Jodhpur : 0.0\n",
            "Number of truck-loads of EVs from Chennai to Trichy : 305.0\n",
            "Number of truck-loads of EVs from Chennai to Simla : 0.0\n",
            "Number of truck-loads of EVs from Chennai to Vijayawada : 0.0\n",
            "Number of truck-loads of EVs from Chennai to Dibru : 0.0\n",
            "Number of truck-loads of EVs from Chennai to Raipur : 0.0\n",
            "Number of truck-loads of EVs from Chennai to Agartala : 0.0\n",
            "Number of truck-loads of EVs from Delhi to Hassan : 0.0\n",
            "Number of truck-loads of EVs from Delhi to Jodhpur : 0.0\n",
            "Number of truck-loads of EVs from Delhi to Trichy : 0.0\n",
            "Number of truck-loads of EVs from Delhi to Simla : 180.0\n",
            "Number of truck-loads of EVs from Delhi to Vijayawada : 0.0\n",
            "Number of truck-loads of EVs from Delhi to Dibru : 0.0\n",
            "Number of truck-loads of EVs from Delhi to Raipur : 0.0\n",
            "Number of truck-loads of EVs from Delhi to Agartala : 0.0\n",
            "Number of truck-loads of EVs from Kolkata to Hassan : 0.0\n",
            "Number of truck-loads of EVs from Kolkata to Jodhpur : 0.0\n",
            "Number of truck-loads of EVs from Kolkata to Trichy : 0.0\n",
            "Number of truck-loads of EVs from Kolkata to Simla : 0.0\n",
            "Number of truck-loads of EVs from Kolkata to Vijayawada : 0.0\n",
            "Number of truck-loads of EVs from Kolkata to Dibru : 95.0\n",
            "Number of truck-loads of EVs from Kolkata to Raipur : 0.0\n",
            "Number of truck-loads of EVs from Kolkata to Agartala : 110.0\n",
            "Number of truck-loads of EVs from Lucknow to Hassan : 0.0\n",
            "Number of truck-loads of EVs from Lucknow to Jodhpur : 0.0\n",
            "Number of truck-loads of EVs from Lucknow to Trichy : 0.0\n",
            "Number of truck-loads of EVs from Lucknow to Simla : 0.0\n",
            "Number of truck-loads of EVs from Lucknow to Vijayawada : 0.0\n",
            "Number of truck-loads of EVs from Lucknow to Dibru : 130.0\n",
            "Number of truck-loads of EVs from Lucknow to Raipur : 45.0\n",
            "Number of truck-loads of EVs from Lucknow to Agartala : 0.0\n",
            "Number of truck-loads of EVs from Mumbai to Hassan : 205.0\n",
            "Number of truck-loads of EVs from Mumbai to Jodhpur : 0.0\n",
            "Number of truck-loads of EVs from Mumbai to Trichy : 0.0\n",
            "Number of truck-loads of EVs from Mumbai to Simla : 90.0\n",
            "Number of truck-loads of EVs from Mumbai to Vijayawada : 0.0\n",
            "Number of truck-loads of EVs from Mumbai to Dibru : 0.0\n",
            "Number of truck-loads of EVs from Mumbai to Raipur : 30.0\n",
            "Number of truck-loads of EVs from Mumbai to Agartala : 0.0\n",
            "Number of truck-loads of EVs from Hyderabad to Hassan : 0.0\n",
            "Number of truck-loads of EVs from Hyderabad to Jodhpur : 0.0\n",
            "Number of truck-loads of EVs from Hyderabad to Trichy : 0.0\n",
            "Number of truck-loads of EVs from Hyderabad to Simla : 0.0\n",
            "Number of truck-loads of EVs from Hyderabad to Vijayawada : 310.0\n",
            "Number of truck-loads of EVs from Hyderabad to Dibru : 0.0\n",
            "Number of truck-loads of EVs from Hyderabad to Raipur : 60.0\n",
            "Number of truck-loads of EVs from Hyderabad to Agartala : 0.0\n",
            "n\\Constraints\n",
            "constraints : Size=16\n",
            "    Key : Lower : Body  : Upper\n",
            "      1 :  None : 350.0 : 350.0\n",
            "      2 :  None : 185.0 : 185.0\n",
            "      3 :  None : 305.0 : 305.0\n",
            "      4 :  None : 180.0 : 180.0\n",
            "      5 :  None : 205.0 : 205.0\n",
            "      6 :  None : 175.0 : 175.0\n",
            "      7 :  None : 325.0 : 325.0\n",
            "      8 :  None : 370.0 : 370.0\n",
            "      9 : 205.0 : 205.0 : 205.0\n",
            "     10 : 300.0 : 300.0 : 300.0\n",
            "     11 : 425.0 : 425.0 : 425.0\n",
            "     12 : 270.0 : 270.0 : 270.0\n",
            "     13 : 375.0 : 375.0 : 375.0\n",
            "     14 : 225.0 : 225.0 : 225.0\n",
            "     15 : 185.0 : 185.0 : 185.0\n",
            "     16 : 110.0 : 110.0 : 110.0\n"
          ]
        }
      ]
    },
    {
      "cell_type": "code",
      "source": [
        "data_csvfile.iloc[4, 6] = 100000\n",
        "data_csvfile.iloc[3, 7] = 200000"
      ],
      "metadata": {
        "id": "JVHF_RWDqxkR"
      },
      "execution_count": null,
      "outputs": []
    },
    {
      "cell_type": "code",
      "source": [
        "model_lab6_ex1.objective = Objective(expr = sum(data_csvfile.iloc[i, j+1]*model_lab6_ex1.x[i, j] for i in row_indices for j in col_indices), sense = minimize)"
      ],
      "metadata": {
        "colab": {
          "base_uri": "https://localhost:8080/"
        },
        "id": "ovZBwUkXrQDL",
        "outputId": "f8fc8ce2-ab68-46e6-8f08-9b5ed37b32b1"
      },
      "execution_count": null,
      "outputs": [
        {
          "output_type": "stream",
          "name": "stderr",
          "text": [
            "WARNING:pyomo.core:Implicitly replacing the Component attribute objective (type=<class 'pyomo.core.base.objective.ScalarObjective'>) on block unknown with a new Component (type=<class 'pyomo.core.base.objective.ScalarObjective'>).\n",
            "This is usually indicative of a modelling error.\n",
            "To avoid this warning, use block.del_component() and block.add_component().\n"
          ]
        }
      ]
    },
    {
      "cell_type": "code",
      "source": [
        "result = opt_cbc.solve(model_lab6_ex1)\n",
        "print(\"Solver Status: \", result.solver.status)\n",
        "print(\"Solver Termination Condition\", result.solver.termination_condition)"
      ],
      "metadata": {
        "colab": {
          "base_uri": "https://localhost:8080/"
        },
        "id": "TI6sXp3DrVlg",
        "outputId": "2f8ec328-e4d2-407a-e7a2-2ee4d5485033"
      },
      "execution_count": null,
      "outputs": [
        {
          "output_type": "stream",
          "name": "stdout",
          "text": [
            "Solver Status:  ok\n",
            "Solver Termination Condition optimal\n"
          ]
        }
      ]
    },
    {
      "cell_type": "code",
      "source": [
        "#display solution\n",
        "print(\"\\nOnbjective = \", model_lab6_ex1.objective())\n",
        "\n",
        "print('\\nDecision Variables')\n",
        "for i in row_indices:\n",
        "  for j in col_indices:\n",
        "    print(\"Number of truck-loads of EVs from\", data_csvfile['Warehouses'][i], \"to\", data_csvfile.columns[j + 1], \":\", model_lab6_ex1.x[i, j].value)\n",
        "\n",
        "print(\"n\\Constraints\")\n",
        "model_lab6_ex1.constraints.display()"
      ],
      "metadata": {
        "colab": {
          "base_uri": "https://localhost:8080/"
        },
        "id": "Tb1AFoiYraSo",
        "outputId": "8ba714b1-9057-4b78-f19f-f5377f42443c"
      },
      "execution_count": null,
      "outputs": [
        {
          "output_type": "stream",
          "name": "stdout",
          "text": [
            "\n",
            "Onbjective =  2518200.0\n",
            "\n",
            "Decision Variables\n",
            "Number of truck-loads of EVs from Ahmedabad to Hassan : 0.0\n",
            "Number of truck-loads of EVs from Ahmedabad to Jodhpur : 300.0\n",
            "Number of truck-loads of EVs from Ahmedabad to Trichy : 0.0\n",
            "Number of truck-loads of EVs from Ahmedabad to Simla : 0.0\n",
            "Number of truck-loads of EVs from Ahmedabad to Vijayawada : 0.0\n",
            "Number of truck-loads of EVs from Ahmedabad to Dibru : 50.0\n",
            "Number of truck-loads of EVs from Ahmedabad to Raipur : 0.0\n",
            "Number of truck-loads of EVs from Ahmedabad to Agartala : 0.0\n",
            "Number of truck-loads of EVs from Bengal to Hassan : 0.0\n",
            "Number of truck-loads of EVs from Bengal to Jodhpur : 0.0\n",
            "Number of truck-loads of EVs from Bengal to Trichy : 120.0\n",
            "Number of truck-loads of EVs from Bengal to Simla : 0.0\n",
            "Number of truck-loads of EVs from Bengal to Vijayawada : 65.0\n",
            "Number of truck-loads of EVs from Bengal to Dibru : 0.0\n",
            "Number of truck-loads of EVs from Bengal to Raipur : 0.0\n",
            "Number of truck-loads of EVs from Bengal to Agartala : 0.0\n",
            "Number of truck-loads of EVs from Chennai to Hassan : 0.0\n",
            "Number of truck-loads of EVs from Chennai to Jodhpur : 0.0\n",
            "Number of truck-loads of EVs from Chennai to Trichy : 305.0\n",
            "Number of truck-loads of EVs from Chennai to Simla : 0.0\n",
            "Number of truck-loads of EVs from Chennai to Vijayawada : 0.0\n",
            "Number of truck-loads of EVs from Chennai to Dibru : 0.0\n",
            "Number of truck-loads of EVs from Chennai to Raipur : 0.0\n",
            "Number of truck-loads of EVs from Chennai to Agartala : 0.0\n",
            "Number of truck-loads of EVs from Delhi to Hassan : 0.0\n",
            "Number of truck-loads of EVs from Delhi to Jodhpur : 0.0\n",
            "Number of truck-loads of EVs from Delhi to Trichy : 0.0\n",
            "Number of truck-loads of EVs from Delhi to Simla : 180.0\n",
            "Number of truck-loads of EVs from Delhi to Vijayawada : 0.0\n",
            "Number of truck-loads of EVs from Delhi to Dibru : 0.0\n",
            "Number of truck-loads of EVs from Delhi to Raipur : 0.0\n",
            "Number of truck-loads of EVs from Delhi to Agartala : 0.0\n",
            "Number of truck-loads of EVs from Kolkata to Hassan : 0.0\n",
            "Number of truck-loads of EVs from Kolkata to Jodhpur : 0.0\n",
            "Number of truck-loads of EVs from Kolkata to Trichy : 0.0\n",
            "Number of truck-loads of EVs from Kolkata to Simla : 0.0\n",
            "Number of truck-loads of EVs from Kolkata to Vijayawada : 0.0\n",
            "Number of truck-loads of EVs from Kolkata to Dibru : 0.0\n",
            "Number of truck-loads of EVs from Kolkata to Raipur : 95.0\n",
            "Number of truck-loads of EVs from Kolkata to Agartala : 110.0\n",
            "Number of truck-loads of EVs from Lucknow to Hassan : 0.0\n",
            "Number of truck-loads of EVs from Lucknow to Jodhpur : 0.0\n",
            "Number of truck-loads of EVs from Lucknow to Trichy : 0.0\n",
            "Number of truck-loads of EVs from Lucknow to Simla : 0.0\n",
            "Number of truck-loads of EVs from Lucknow to Vijayawada : 0.0\n",
            "Number of truck-loads of EVs from Lucknow to Dibru : 175.0\n",
            "Number of truck-loads of EVs from Lucknow to Raipur : 0.0\n",
            "Number of truck-loads of EVs from Lucknow to Agartala : 0.0\n",
            "Number of truck-loads of EVs from Mumbai to Hassan : 205.0\n",
            "Number of truck-loads of EVs from Mumbai to Jodhpur : 0.0\n",
            "Number of truck-loads of EVs from Mumbai to Trichy : 0.0\n",
            "Number of truck-loads of EVs from Mumbai to Simla : 90.0\n",
            "Number of truck-loads of EVs from Mumbai to Vijayawada : 0.0\n",
            "Number of truck-loads of EVs from Mumbai to Dibru : 0.0\n",
            "Number of truck-loads of EVs from Mumbai to Raipur : 30.0\n",
            "Number of truck-loads of EVs from Mumbai to Agartala : 0.0\n",
            "Number of truck-loads of EVs from Hyderabad to Hassan : 0.0\n",
            "Number of truck-loads of EVs from Hyderabad to Jodhpur : 0.0\n",
            "Number of truck-loads of EVs from Hyderabad to Trichy : 0.0\n",
            "Number of truck-loads of EVs from Hyderabad to Simla : 0.0\n",
            "Number of truck-loads of EVs from Hyderabad to Vijayawada : 310.0\n",
            "Number of truck-loads of EVs from Hyderabad to Dibru : 0.0\n",
            "Number of truck-loads of EVs from Hyderabad to Raipur : 60.0\n",
            "Number of truck-loads of EVs from Hyderabad to Agartala : 0.0\n",
            "n\\Constraints\n",
            "constraints : Size=16\n",
            "    Key : Lower : Body  : Upper\n",
            "      1 :  None : 350.0 : 350.0\n",
            "      2 :  None : 185.0 : 185.0\n",
            "      3 :  None : 305.0 : 305.0\n",
            "      4 :  None : 180.0 : 180.0\n",
            "      5 :  None : 205.0 : 205.0\n",
            "      6 :  None : 175.0 : 175.0\n",
            "      7 :  None : 325.0 : 325.0\n",
            "      8 :  None : 370.0 : 370.0\n",
            "      9 : 205.0 : 205.0 : 205.0\n",
            "     10 : 300.0 : 300.0 : 300.0\n",
            "     11 : 425.0 : 425.0 : 425.0\n",
            "     12 : 270.0 : 270.0 : 270.0\n",
            "     13 : 375.0 : 375.0 : 375.0\n",
            "     14 : 225.0 : 225.0 : 225.0\n",
            "     15 : 185.0 : 185.0 : 185.0\n",
            "     16 : 110.0 : 110.0 : 110.0\n"
          ]
        }
      ]
    },
    {
      "cell_type": "markdown",
      "source": [
        "**Report on exercise 1 part 1:**\n",
        "\n",
        "The LP formulation is as follows:\n",
        "\n",
        "$ min \\sum_{w=1}^8\\sum_{m=1}^8 C(w,m)*x_{wm} $\n",
        "\n",
        "$s.t. \\sum_{w=1}^8x_{wm}=d_m   ∀  mϵ${ 1,2,....8 }\n",
        "\n",
        "$ \\sum_{m=1}^8x_{wm} <= s_w ∀wϵ${1,2,....8}\n",
        "\n",
        "$ x_{wm}>= 0  ∀w,m ϵ$ {1,2,....,8}\n",
        "\n",
        "where C(w, m) is the cost of transporting one unit of truck-load of EVs from w to m and $x_{wm}$ is the number of units of truck-loads transferring from w to m. \n"
      ],
      "metadata": {
        "id": "MP_f5NCNIVKA"
      }
    },
    {
      "cell_type": "markdown",
      "source": [
        "**Report on Exercise 1 part 7:**\n",
        "\n",
        "**Total Cost:**\n",
        "2192870.0\n",
        "\n",
        "**Number of truck-loads of EVs from warehouses to markets are as follows:**\n",
        "\n",
        "Number of truck-loads of EVs from Ahmedabad to Jodhpur : 300.0\n",
        "\n",
        "\n",
        "Number of truck-loads of EVs from Ahmedabad to Dibru : 45.0\n",
        "\n",
        "Number of truck-loads of EVs from Ahmedabad to Raipur : 5.0\n",
        "\n",
        "\n",
        "Number of truck-loads of EVs from Bengal to Trichy : 120.0\n",
        "\n",
        "Number of truck-loads of EVs from Bengal to Vijayawada : 65.0\n",
        "\n",
        "Number of truck-loads of EVs from Chennai to Trichy : 305.0\n",
        "\n",
        "\n",
        "Number of truck-loads of EVs from Delhi to Simla : 95.0\n",
        "\n",
        "Number of truck-loads of EVs from Delhi to Dibru : 85.0\n",
        "\n",
        "Number of truck-loads of EVs from Kolkata to Dibru : 95.0\n",
        "\n",
        "\n",
        "Number of truck-loads of EVs from Kolkata to Agartala : 110.0\n",
        "\n",
        "\n",
        "Number of truck-loads of EVs from Lucknow to Simla : 175.0\n",
        "\n",
        "Number of truck-loads of EVs from Mumbai to Hassan : 205.0\n",
        "\n",
        "Number of truck-loads of EVs from Mumbai to Raipur : 120.0\n",
        "\n",
        "Number of truck-loads of EVs from Hyderabad to Vijayawada : 310.0\n",
        "\n",
        "Number of truck-loads of EVs from Hyderabad to Raipur : 60.0\n",
        "\n"
      ],
      "metadata": {
        "id": "zZo21i0TZ-of"
      }
    },
    {
      "cell_type": "markdown",
      "source": [
        "**Report on Exercise 1 part 8:**\n",
        "\n",
        "Now, Lucknow-Simla link is disrupted that means Lucknow is now not supplying to Simla so we'll change the cost value in the data file. We'll increase the cost (because it's a minimization problem) for Lucknow-Simla link so that Lucknow-Simla supply become zero."
      ],
      "metadata": {
        "id": "gR2ENFLEepUt"
      }
    },
    {
      "cell_type": "markdown",
      "source": [
        "**Report on Exercise 1 part 9:**\n",
        "\n",
        "Solution to the new problem is:\n",
        "\n",
        "**Objective** =  2380570.0\n",
        "\n",
        "**Decision Variables:**\n",
        "\n",
        "Number of truck-loads of EVs from Ahmedabad to Jodhpur : 300.0\n",
        "\n",
        "Number of truck-loads of EVs from Ahmedabad to Raipur : 50.0\n",
        "\n",
        "Number of truck-loads of EVs from Bengal to Trichy : 120.0\n",
        "\n",
        "Number of truck-loads of EVs from Bengal to Vijayawada : 65.0\n",
        "\n",
        "Number of truck-loads of EVs from Chennai to Trichy : 305.0\n",
        "\n",
        "Number of truck-loads of EVs from Delhi to Simla : 180.0\n",
        "\n",
        "Number of truck-loads of EVs from Kolkata to Dibru : 95.0\n",
        "\n",
        "Number of truck-loads of EVs from Kolkata to Agartala : 110.0\n",
        "\n",
        "Number of truck-loads of EVs from Lucknow to Dibru : 130.0\n",
        "\n",
        "Number of truck-loads of EVs from Lucknow to Raipur : 45.0\n",
        "\n",
        "Number of truck-loads of EVs from Mumbai to Hassan : 205.0\n",
        "\n",
        "Number of truck-loads of EVs from Mumbai to Simla : 90.0\n",
        "\n",
        "Number of truck-loads of EVs from Mumbai to Raipur : 30.0\n",
        "\n",
        "Number of truck-loads of EVs from Hyderabad to Vijayawada : 310.0\n",
        "\n",
        "Number of truck-loads of EVs from Hyderabad to Raipur : 60.0\n",
        "\n",
        "**Constraints:**\n",
        "\n",
        "constraints : Size=16\n",
        "\n",
        "    Key : Lower : Body  : Upper\n",
        "      1 :  None : 350.0 : 350.0\n",
        "      2 :  None : 185.0 : 185.0\n",
        "      3 :  None : 305.0 : 305.0\n",
        "      4 :  None : 180.0 : 180.0\n",
        "      5 :  None : 205.0 : 205.0\n",
        "      6 :  None : 175.0 : 175.0\n",
        "      7 :  None : 325.0 : 325.0\n",
        "      8 :  None : 370.0 : 370.0\n",
        "      9 : 205.0 : 205.0 : 205.0\n",
        "     10 : 300.0 : 300.0 : 300.0\n",
        "     11 : 425.0 : 425.0 : 425.0\n",
        "     12 : 270.0 : 270.0 : 270.0\n",
        "     13 : 375.0 : 375.0 : 375.0\n",
        "     14 : 225.0 : 225.0 : 225.0\n",
        "     15 : 185.0 : 185.0 : 185.0\n",
        "     16 : 110.0 : 110.0 : 110.0\n",
        "\n",
        "\n",
        "**Observations on result:**\n",
        "\n",
        "1) Lucknow-Simla supply is zero after disruption.\n",
        "\n",
        "2) Initially, Lucknow was supplying 175 electric vehicles to Simla but after disruption of Lucknow-Simla link, Lucknow is supplying 130 vehicles to **Dibrugarh** and 45 vehicles to **Raipur** because it has 175 available stocks. \n",
        "\n",
        "3) The demand of simla is 270, so it will now be fulfilled by other cities(Mumbai and Delhi).\n",
        "\n",
        "4) Also, the supply from other cities changed. For example, initially supply from Ahmedabad to Dibru was 45 and to Raipur it was 5 but after disruption Ahmedabad stopped supplying to Dibru instead it started supplying more to Raipur.\n",
        "\n",
        "5) The total cost increased."
      ],
      "metadata": {
        "id": "NXrBTBHMfzb6"
      }
    },
    {
      "cell_type": "markdown",
      "source": [
        "**Report on Exercise 1 part 10:**\n",
        "\n",
        "The new solution after disruption of links between Kolkata-Dibrugarh and Delhi-Raipur in addition to Lucknow-Simla is as follows:\n",
        "\n",
        "**Objective** =  2518200.0\n",
        "\n",
        "**Decision Variables:**\n",
        "\n",
        "Number of truck-loads of EVs from Ahmedabad to Jodhpur : 300.0\n",
        "\n",
        "Number of truck-loads of EVs from Ahmedabad to Dibru : 50.0\n",
        "\n",
        "Number of truck-loads of EVs from Bengal to Trichy : 120.0\n",
        "\n",
        "Number of truck-loads of EVs from Bengal to Vijayawada : 65.0\n",
        "\n",
        "Number of truck-loads of EVs from Chennai to Trichy : 305.0\n",
        "\n",
        "Number of truck-loads of EVs from Delhi to Simla : 180.0\n",
        "\n",
        "Number of truck-loads of EVs from Kolkata to Raipur : 95.0\n",
        "\n",
        "Number of truck-loads of EVs from Kolkata to Agartala : 110.0\n",
        "\n",
        "Number of truck-loads of EVs from Lucknow to Dibru : 175.0\n",
        "\n",
        "Number of truck-loads of EVs from Mumbai to Hassan : 205.0\n",
        "\n",
        "Number of truck-loads of EVs from Mumbai to Simla : 90.0\n",
        "\n",
        "Number of truck-loads of EVs from Mumbai to Raipur : 30.0\n",
        "\n",
        "Number of truck-loads of EVs from Hyderabad to Vijayawada : 310.0\n",
        "\n",
        "Number of truck-loads of EVs from Hyderabad to Raipur : 60.0\n",
        "\n",
        "**Constraints**\n",
        "\n",
        "constraints : Size=16\n",
        "\n",
        "    Key : Lower : Body  : Upper\n",
        "      1 :  None : 350.0 : 350.0\n",
        "      2 :  None : 185.0 : 185.0\n",
        "      3 :  None : 305.0 : 305.0\n",
        "      4 :  None : 180.0 : 180.0\n",
        "      5 :  None : 205.0 : 205.0\n",
        "      6 :  None : 175.0 : 175.0\n",
        "      7 :  None : 325.0 : 325.0\n",
        "      8 :  None : 370.0 : 370.0\n",
        "      9 : 205.0 : 205.0 : 205.0\n",
        "     10 : 300.0 : 300.0 : 300.0\n",
        "     11 : 425.0 : 425.0 : 425.0\n",
        "     12 : 270.0 : 270.0 : 270.0\n",
        "     13 : 375.0 : 375.0 : 375.0\n",
        "     14 : 225.0 : 225.0 : 225.0\n",
        "     15 : 185.0 : 185.0 : 185.0\n",
        "     16 : 110.0 : 110.0 : 110.0\n",
        "\n",
        "**Observations from the result:**\n",
        "\n",
        "1) Total cost increased (even more than the last solution when only Lucknow-Simla link was disrupted).\n",
        "\n",
        "2) Since, Kolkata-Dibrugarh link is disrupted, so kolkata started supplying to city Raipur, Demand of Dibrugarh is now fulfilled by city Lucknow and Ahmedabad.\n",
        "\n",
        "3) Also, Delhi-Raipur link disrupted so, Delhi started supplying to Simla and cities Kolkata and Mumbai now fulfilling the remaining demand of Raipur."
      ],
      "metadata": {
        "id": "xyPZd7aAtVly"
      }
    }
  ]
}