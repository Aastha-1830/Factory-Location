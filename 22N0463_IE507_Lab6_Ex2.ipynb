{
  "nbformat": 4,
  "nbformat_minor": 0,
  "metadata": {
    "colab": {
      "provenance": [],
      "collapsed_sections": []
    },
    "kernelspec": {
      "name": "python3",
      "display_name": "Python 3"
    }
  },
  "cells": [
    {
      "cell_type": "code",
      "metadata": {
        "id": "E6VwDP2RpVyd",
        "colab": {
          "base_uri": "https://localhost:8080/"
        },
        "outputId": "736c8e02-5e4e-40f0-8fbf-a932c83ede9e"
      },
      "source": [
        "!pip install -q pyomo   #install pyomo"
      ],
      "execution_count": 1,
      "outputs": [
        {
          "output_type": "stream",
          "name": "stdout",
          "text": [
            "\u001b[K     |████████████████████████████████| 9.7 MB 7.4 MB/s \n",
            "\u001b[K     |████████████████████████████████| 49 kB 4.5 MB/s \n",
            "\u001b[?25h"
          ]
        }
      ]
    },
    {
      "cell_type": "code",
      "metadata": {
        "id": "1r_yYUofSTFB"
      },
      "source": [
        "from pyomo.environ import * "
      ],
      "execution_count": 2,
      "outputs": []
    },
    {
      "cell_type": "code",
      "metadata": {
        "id": "4xu-ZbGQ61f4"
      },
      "source": [
        "import numpy as np    #import numpy"
      ],
      "execution_count": 3,
      "outputs": []
    },
    {
      "cell_type": "code",
      "metadata": {
        "id": "g3bUiPzkmSQP"
      },
      "source": [
        "import pandas as pd       #import pandas"
      ],
      "execution_count": 4,
      "outputs": []
    },
    {
      "cell_type": "markdown",
      "metadata": {
        "id": "yTa_jWDa_MIG"
      },
      "source": [
        "For more on pandas library please check https://pandas.pydata.org/pandas-docs/version/0.15/tutorials.html"
      ]
    },
    {
      "cell_type": "code",
      "metadata": {
        "id": "Z26rYgB4m25b"
      },
      "source": [
        "data_txtfile = np.loadtxt('lab6_ex2.txt')     #load the data"
      ],
      "execution_count": 5,
      "outputs": []
    },
    {
      "cell_type": "code",
      "metadata": {
        "id": "6AcUJmkX9dwh",
        "colab": {
          "base_uri": "https://localhost:8080/"
        },
        "outputId": "7cbc515d-581b-46e2-9b40-266205ea0397"
      },
      "source": [
        "print(data_txtfile)"
      ],
      "execution_count": 6,
      "outputs": [
        {
          "output_type": "stream",
          "name": "stdout",
          "text": [
            "[[21. 25. 18. 19. 23. 24. 16. 17. 21. 23. 19. 21.]\n",
            " [19. 22. 19. 19. 23. 21. 15. 20. 16. 17. 17. 24.]\n",
            " [21. 19. 20. 18. 22. 24. 14. 16. 18. 16. 20. 24.]\n",
            " [19. 22. 17. 17. 22. 22. 18. 18. 20. 21. 23. 23.]\n",
            " [18. 22. 15. 15. 23. 23. 21. 25. 24. 19. 21. 23.]\n",
            " [23. 19. 19. 14. 24. 21. 23. 21. 20. 20. 22. 19.]\n",
            " [21. 16. 27. 17. 26. 27. 16. 19. 24. 20. 20. 23.]\n",
            " [22. 17. 21. 15. 23. 24. 24. 20. 22. 19. 23. 21.]\n",
            " [23. 24. 18. 19. 22. 23. 21. 18. 23. 15. 25. 21.]\n",
            " [18. 21. 21. 18. 26. 24. 18. 17. 18. 20. 21. 20.]\n",
            " [19. 12. 21. 19. 23. 20. 22. 19. 17. 19. 20. 24.]\n",
            " [18. 22. 24. 17. 21. 28. 18. 16. 22. 24. 25. 24.]]\n"
          ]
        }
      ]
    },
    {
      "cell_type": "code",
      "metadata": {
        "id": "HYj3zpsvSih4"
      },
      "source": [
        "# create a model\n",
        "model_lab6_ex2 = ConcreteModel()"
      ],
      "execution_count": 7,
      "outputs": []
    },
    {
      "cell_type": "code",
      "metadata": {
        "id": "_8CnN-2w9EMo",
        "colab": {
          "base_uri": "https://localhost:8080/"
        },
        "outputId": "ef0b8ea3-f0cd-41b6-ba2f-8646322d7212"
      },
      "source": [
        "M, N = data_txtfile.shape #we declare a Python variables M, N denoting the factory number and location number respectively\n",
        "print('Number of rows: ', M)\n",
        "print('Number of columns: ', N)"
      ],
      "execution_count": 8,
      "outputs": [
        {
          "output_type": "stream",
          "name": "stdout",
          "text": [
            "Number of rows:  12\n",
            "Number of columns:  12\n"
          ]
        }
      ]
    },
    {
      "cell_type": "code",
      "metadata": {
        "id": "NePoJ4k9Lp3H",
        "colab": {
          "base_uri": "https://localhost:8080/"
        },
        "outputId": "f1ae51a1-083c-4efe-dbab-d2e246562402"
      },
      "source": [
        "row_indices = range(M)\n",
        "col_indices = range(N)\n",
        "\n",
        "print(row_indices)\n",
        "print(col_indices)"
      ],
      "execution_count": 9,
      "outputs": [
        {
          "output_type": "stream",
          "name": "stdout",
          "text": [
            "range(0, 12)\n",
            "range(0, 12)\n"
          ]
        }
      ]
    },
    {
      "cell_type": "code",
      "metadata": {
        "id": "ny1L1i__Ktkm",
        "colab": {
          "base_uri": "https://localhost:8080/"
        },
        "outputId": "93a0c8b1-d617-43a2-d9e9-c439a4628105"
      },
      "source": [
        "#to get the contents of costs alone from the file we use the following\n",
        "for row_idx in row_indices:\n",
        "  for col_idx in col_indices:\n",
        "    print('cost[',row_idx,'][',col_idx,']:',data_txtfile[row_idx, col_idx])"
      ],
      "execution_count": 10,
      "outputs": [
        {
          "output_type": "stream",
          "name": "stdout",
          "text": [
            "cost[ 0 ][ 0 ]: 21.0\n",
            "cost[ 0 ][ 1 ]: 25.0\n",
            "cost[ 0 ][ 2 ]: 18.0\n",
            "cost[ 0 ][ 3 ]: 19.0\n",
            "cost[ 0 ][ 4 ]: 23.0\n",
            "cost[ 0 ][ 5 ]: 24.0\n",
            "cost[ 0 ][ 6 ]: 16.0\n",
            "cost[ 0 ][ 7 ]: 17.0\n",
            "cost[ 0 ][ 8 ]: 21.0\n",
            "cost[ 0 ][ 9 ]: 23.0\n",
            "cost[ 0 ][ 10 ]: 19.0\n",
            "cost[ 0 ][ 11 ]: 21.0\n",
            "cost[ 1 ][ 0 ]: 19.0\n",
            "cost[ 1 ][ 1 ]: 22.0\n",
            "cost[ 1 ][ 2 ]: 19.0\n",
            "cost[ 1 ][ 3 ]: 19.0\n",
            "cost[ 1 ][ 4 ]: 23.0\n",
            "cost[ 1 ][ 5 ]: 21.0\n",
            "cost[ 1 ][ 6 ]: 15.0\n",
            "cost[ 1 ][ 7 ]: 20.0\n",
            "cost[ 1 ][ 8 ]: 16.0\n",
            "cost[ 1 ][ 9 ]: 17.0\n",
            "cost[ 1 ][ 10 ]: 17.0\n",
            "cost[ 1 ][ 11 ]: 24.0\n",
            "cost[ 2 ][ 0 ]: 21.0\n",
            "cost[ 2 ][ 1 ]: 19.0\n",
            "cost[ 2 ][ 2 ]: 20.0\n",
            "cost[ 2 ][ 3 ]: 18.0\n",
            "cost[ 2 ][ 4 ]: 22.0\n",
            "cost[ 2 ][ 5 ]: 24.0\n",
            "cost[ 2 ][ 6 ]: 14.0\n",
            "cost[ 2 ][ 7 ]: 16.0\n",
            "cost[ 2 ][ 8 ]: 18.0\n",
            "cost[ 2 ][ 9 ]: 16.0\n",
            "cost[ 2 ][ 10 ]: 20.0\n",
            "cost[ 2 ][ 11 ]: 24.0\n",
            "cost[ 3 ][ 0 ]: 19.0\n",
            "cost[ 3 ][ 1 ]: 22.0\n",
            "cost[ 3 ][ 2 ]: 17.0\n",
            "cost[ 3 ][ 3 ]: 17.0\n",
            "cost[ 3 ][ 4 ]: 22.0\n",
            "cost[ 3 ][ 5 ]: 22.0\n",
            "cost[ 3 ][ 6 ]: 18.0\n",
            "cost[ 3 ][ 7 ]: 18.0\n",
            "cost[ 3 ][ 8 ]: 20.0\n",
            "cost[ 3 ][ 9 ]: 21.0\n",
            "cost[ 3 ][ 10 ]: 23.0\n",
            "cost[ 3 ][ 11 ]: 23.0\n",
            "cost[ 4 ][ 0 ]: 18.0\n",
            "cost[ 4 ][ 1 ]: 22.0\n",
            "cost[ 4 ][ 2 ]: 15.0\n",
            "cost[ 4 ][ 3 ]: 15.0\n",
            "cost[ 4 ][ 4 ]: 23.0\n",
            "cost[ 4 ][ 5 ]: 23.0\n",
            "cost[ 4 ][ 6 ]: 21.0\n",
            "cost[ 4 ][ 7 ]: 25.0\n",
            "cost[ 4 ][ 8 ]: 24.0\n",
            "cost[ 4 ][ 9 ]: 19.0\n",
            "cost[ 4 ][ 10 ]: 21.0\n",
            "cost[ 4 ][ 11 ]: 23.0\n",
            "cost[ 5 ][ 0 ]: 23.0\n",
            "cost[ 5 ][ 1 ]: 19.0\n",
            "cost[ 5 ][ 2 ]: 19.0\n",
            "cost[ 5 ][ 3 ]: 14.0\n",
            "cost[ 5 ][ 4 ]: 24.0\n",
            "cost[ 5 ][ 5 ]: 21.0\n",
            "cost[ 5 ][ 6 ]: 23.0\n",
            "cost[ 5 ][ 7 ]: 21.0\n",
            "cost[ 5 ][ 8 ]: 20.0\n",
            "cost[ 5 ][ 9 ]: 20.0\n",
            "cost[ 5 ][ 10 ]: 22.0\n",
            "cost[ 5 ][ 11 ]: 19.0\n",
            "cost[ 6 ][ 0 ]: 21.0\n",
            "cost[ 6 ][ 1 ]: 16.0\n",
            "cost[ 6 ][ 2 ]: 27.0\n",
            "cost[ 6 ][ 3 ]: 17.0\n",
            "cost[ 6 ][ 4 ]: 26.0\n",
            "cost[ 6 ][ 5 ]: 27.0\n",
            "cost[ 6 ][ 6 ]: 16.0\n",
            "cost[ 6 ][ 7 ]: 19.0\n",
            "cost[ 6 ][ 8 ]: 24.0\n",
            "cost[ 6 ][ 9 ]: 20.0\n",
            "cost[ 6 ][ 10 ]: 20.0\n",
            "cost[ 6 ][ 11 ]: 23.0\n",
            "cost[ 7 ][ 0 ]: 22.0\n",
            "cost[ 7 ][ 1 ]: 17.0\n",
            "cost[ 7 ][ 2 ]: 21.0\n",
            "cost[ 7 ][ 3 ]: 15.0\n",
            "cost[ 7 ][ 4 ]: 23.0\n",
            "cost[ 7 ][ 5 ]: 24.0\n",
            "cost[ 7 ][ 6 ]: 24.0\n",
            "cost[ 7 ][ 7 ]: 20.0\n",
            "cost[ 7 ][ 8 ]: 22.0\n",
            "cost[ 7 ][ 9 ]: 19.0\n",
            "cost[ 7 ][ 10 ]: 23.0\n",
            "cost[ 7 ][ 11 ]: 21.0\n",
            "cost[ 8 ][ 0 ]: 23.0\n",
            "cost[ 8 ][ 1 ]: 24.0\n",
            "cost[ 8 ][ 2 ]: 18.0\n",
            "cost[ 8 ][ 3 ]: 19.0\n",
            "cost[ 8 ][ 4 ]: 22.0\n",
            "cost[ 8 ][ 5 ]: 23.0\n",
            "cost[ 8 ][ 6 ]: 21.0\n",
            "cost[ 8 ][ 7 ]: 18.0\n",
            "cost[ 8 ][ 8 ]: 23.0\n",
            "cost[ 8 ][ 9 ]: 15.0\n",
            "cost[ 8 ][ 10 ]: 25.0\n",
            "cost[ 8 ][ 11 ]: 21.0\n",
            "cost[ 9 ][ 0 ]: 18.0\n",
            "cost[ 9 ][ 1 ]: 21.0\n",
            "cost[ 9 ][ 2 ]: 21.0\n",
            "cost[ 9 ][ 3 ]: 18.0\n",
            "cost[ 9 ][ 4 ]: 26.0\n",
            "cost[ 9 ][ 5 ]: 24.0\n",
            "cost[ 9 ][ 6 ]: 18.0\n",
            "cost[ 9 ][ 7 ]: 17.0\n",
            "cost[ 9 ][ 8 ]: 18.0\n",
            "cost[ 9 ][ 9 ]: 20.0\n",
            "cost[ 9 ][ 10 ]: 21.0\n",
            "cost[ 9 ][ 11 ]: 20.0\n",
            "cost[ 10 ][ 0 ]: 19.0\n",
            "cost[ 10 ][ 1 ]: 12.0\n",
            "cost[ 10 ][ 2 ]: 21.0\n",
            "cost[ 10 ][ 3 ]: 19.0\n",
            "cost[ 10 ][ 4 ]: 23.0\n",
            "cost[ 10 ][ 5 ]: 20.0\n",
            "cost[ 10 ][ 6 ]: 22.0\n",
            "cost[ 10 ][ 7 ]: 19.0\n",
            "cost[ 10 ][ 8 ]: 17.0\n",
            "cost[ 10 ][ 9 ]: 19.0\n",
            "cost[ 10 ][ 10 ]: 20.0\n",
            "cost[ 10 ][ 11 ]: 24.0\n",
            "cost[ 11 ][ 0 ]: 18.0\n",
            "cost[ 11 ][ 1 ]: 22.0\n",
            "cost[ 11 ][ 2 ]: 24.0\n",
            "cost[ 11 ][ 3 ]: 17.0\n",
            "cost[ 11 ][ 4 ]: 21.0\n",
            "cost[ 11 ][ 5 ]: 28.0\n",
            "cost[ 11 ][ 6 ]: 18.0\n",
            "cost[ 11 ][ 7 ]: 16.0\n",
            "cost[ 11 ][ 8 ]: 22.0\n",
            "cost[ 11 ][ 9 ]: 24.0\n",
            "cost[ 11 ][ 10 ]: 25.0\n",
            "cost[ 11 ][ 11 ]: 24.0\n"
          ]
        }
      ]
    },
    {
      "cell_type": "code",
      "metadata": {
        "id": "GWlyoZdzpoNT"
      },
      "source": [
        "#declare the decision variables in the model\n",
        "model_lab6_ex2.x = Var(row_indices, col_indices, domain= NonNegativeIntegers)"
      ],
      "execution_count": 11,
      "outputs": []
    },
    {
      "cell_type": "code",
      "metadata": {
        "id": "6AUcuaeEqDUm"
      },
      "source": [
        "#declare the objective function\n",
        "model_lab6_ex2.objective = Objective(expr=sum(data_txtfile[i,j]*model_lab6_ex2.x[i,j] for i in row_indices for j in col_indices),sense=minimize)"
      ],
      "execution_count": 12,
      "outputs": []
    },
    {
      "cell_type": "code",
      "metadata": {
        "id": "Mcu6irk6tQHz"
      },
      "source": [
        "#declare the constraints\n",
        "model_lab6_ex2.constraints = ConstraintList()"
      ],
      "execution_count": 13,
      "outputs": []
    },
    {
      "cell_type": "code",
      "metadata": {
        "id": "8V05vmFPtWYZ",
        "colab": {
          "base_uri": "https://localhost:8080/"
        },
        "outputId": "cf1643c1-358e-4e83-c4c1-0d19ea20df67"
      },
      "source": [
        "#now we will add the constraints for the factories first\n",
        "model_lab6_ex2.constraints.add(expr=sum(model_lab6_ex2.x[0,j] for j in col_indices) == 1) \n",
        "\n",
        "model_lab6_ex2.constraints.add(expr=sum(model_lab6_ex2.x[1,j] for j in col_indices) == 1) \n",
        "\n",
        "model_lab6_ex2.constraints.add(expr=sum(model_lab6_ex2.x[2,j] for j in col_indices) == 1) \n",
        "\n",
        "model_lab6_ex2.constraints.add(expr=sum(model_lab6_ex2.x[3,j] for j in col_indices) == 1) \n",
        "\n",
        "model_lab6_ex2.constraints.add(expr=sum(model_lab6_ex2.x[4,j] for j in col_indices) == 1) \n",
        "\n",
        "model_lab6_ex2.constraints.add(expr=sum(model_lab6_ex2.x[5,j] for j in col_indices) == 1) \n",
        "\n",
        "model_lab6_ex2.constraints.add(expr=sum(model_lab6_ex2.x[6,j] for j in col_indices) == 1) \n",
        "\n",
        "model_lab6_ex2.constraints.add(expr=sum(model_lab6_ex2.x[7,j] for j in col_indices) == 1) \n",
        "\n",
        "model_lab6_ex2.constraints.add(expr=sum(model_lab6_ex2.x[8,j] for j in col_indices) == 1) \n",
        "\n",
        "model_lab6_ex2.constraints.add(expr=sum(model_lab6_ex2.x[9,j] for j in col_indices) == 1) \n",
        "\n",
        "model_lab6_ex2.constraints.add(expr=sum(model_lab6_ex2.x[10,j] for j in col_indices) == 1) \n",
        "\n",
        "model_lab6_ex2.constraints.add(expr=sum(model_lab6_ex2.x[11,j] for j in col_indices) == 1) "
      ],
      "execution_count": 14,
      "outputs": [
        {
          "output_type": "execute_result",
          "data": {
            "text/plain": [
              "<pyomo.core.base.constraint._GeneralConstraintData at 0x7ff6ec60bd00>"
            ]
          },
          "metadata": {},
          "execution_count": 14
        }
      ]
    },
    {
      "cell_type": "code",
      "metadata": {
        "id": "361XIzn3t_m2",
        "colab": {
          "base_uri": "https://localhost:8080/"
        },
        "outputId": "ab37d5f1-ddfe-4bb4-cb48-720d05a1fd3b"
      },
      "source": [
        "#Now we will add few another constraints for locations\n",
        "model_lab6_ex2.constraints.add(expr=sum(model_lab6_ex2.x[i,0] for i in row_indices) == 1)\n",
        "\n",
        "model_lab6_ex2.constraints.add(expr=sum(model_lab6_ex2.x[i,1] for i in row_indices) == 1)\n",
        "\n",
        "model_lab6_ex2.constraints.add(expr=sum(model_lab6_ex2.x[i,2] for i in row_indices) == 1)\n",
        "\n",
        "model_lab6_ex2.constraints.add(expr=sum(model_lab6_ex2.x[i,3] for i in row_indices) == 1)\n",
        "\n",
        "model_lab6_ex2.constraints.add(expr=sum(model_lab6_ex2.x[i,4] for i in row_indices) == 1)\n",
        "\n",
        "model_lab6_ex2.constraints.add(expr=sum(model_lab6_ex2.x[i,5] for i in row_indices) == 1)\n",
        "\n",
        "model_lab6_ex2.constraints.add(expr=sum(model_lab6_ex2.x[i,6] for i in row_indices) == 1)\n",
        "\n",
        "model_lab6_ex2.constraints.add(expr=sum(model_lab6_ex2.x[i,7] for i in row_indices) == 1)\n",
        "\n",
        "model_lab6_ex2.constraints.add(expr=sum(model_lab6_ex2.x[i,8] for i in row_indices) == 1)\n",
        "\n",
        "model_lab6_ex2.constraints.add(expr=sum(model_lab6_ex2.x[i,9] for i in row_indices) == 1)\n",
        "\n",
        "model_lab6_ex2.constraints.add(expr=sum(model_lab6_ex2.x[i,10] for i in row_indices) == 1)\n",
        "\n",
        "model_lab6_ex2.constraints.add(expr=sum(model_lab6_ex2.x[i,11] for i in row_indices) == 1)"
      ],
      "execution_count": 15,
      "outputs": [
        {
          "output_type": "execute_result",
          "data": {
            "text/plain": [
              "<pyomo.core.base.constraint._GeneralConstraintData at 0x7ff6ec630210>"
            ]
          },
          "metadata": {},
          "execution_count": 15
        }
      ]
    },
    {
      "cell_type": "code",
      "metadata": {
        "id": "hLjlmRD8eG_X",
        "colab": {
          "base_uri": "https://localhost:8080/"
        },
        "outputId": "51580411-a91a-48fa-b9d1-0a9f0e5f9db3"
      },
      "source": [
        "model_lab6_ex2.pprint()"
      ],
      "execution_count": 16,
      "outputs": [
        {
          "output_type": "stream",
          "name": "stdout",
          "text": [
            "4 Set Declarations\n",
            "    constraints_index : Size=1, Index=None, Ordered=Insertion\n",
            "        Key  : Dimen : Domain : Size : Members\n",
            "        None :     1 :    Any :   24 : {1, 2, 3, 4, 5, 6, 7, 8, 9, 10, 11, 12, 13, 14, 15, 16, 17, 18, 19, 20, 21, 22, 23, 24}\n",
            "    x_index : Size=1, Index=None, Ordered=True\n",
            "        Key  : Dimen : Domain              : Size : Members\n",
            "        None :     2 : x_index_0*x_index_1 :  144 : {(0, 0), (0, 1), (0, 2), (0, 3), (0, 4), (0, 5), (0, 6), (0, 7), (0, 8), (0, 9), (0, 10), (0, 11), (1, 0), (1, 1), (1, 2), (1, 3), (1, 4), (1, 5), (1, 6), (1, 7), (1, 8), (1, 9), (1, 10), (1, 11), (2, 0), (2, 1), (2, 2), (2, 3), (2, 4), (2, 5), (2, 6), (2, 7), (2, 8), (2, 9), (2, 10), (2, 11), (3, 0), (3, 1), (3, 2), (3, 3), (3, 4), (3, 5), (3, 6), (3, 7), (3, 8), (3, 9), (3, 10), (3, 11), (4, 0), (4, 1), (4, 2), (4, 3), (4, 4), (4, 5), (4, 6), (4, 7), (4, 8), (4, 9), (4, 10), (4, 11), (5, 0), (5, 1), (5, 2), (5, 3), (5, 4), (5, 5), (5, 6), (5, 7), (5, 8), (5, 9), (5, 10), (5, 11), (6, 0), (6, 1), (6, 2), (6, 3), (6, 4), (6, 5), (6, 6), (6, 7), (6, 8), (6, 9), (6, 10), (6, 11), (7, 0), (7, 1), (7, 2), (7, 3), (7, 4), (7, 5), (7, 6), (7, 7), (7, 8), (7, 9), (7, 10), (7, 11), (8, 0), (8, 1), (8, 2), (8, 3), (8, 4), (8, 5), (8, 6), (8, 7), (8, 8), (8, 9), (8, 10), (8, 11), (9, 0), (9, 1), (9, 2), (9, 3), (9, 4), (9, 5), (9, 6), (9, 7), (9, 8), (9, 9), (9, 10), (9, 11), (10, 0), (10, 1), (10, 2), (10, 3), (10, 4), (10, 5), (10, 6), (10, 7), (10, 8), (10, 9), (10, 10), (10, 11), (11, 0), (11, 1), (11, 2), (11, 3), (11, 4), (11, 5), (11, 6), (11, 7), (11, 8), (11, 9), (11, 10), (11, 11)}\n",
            "    x_index_0 : Size=1, Index=None, Ordered=Insertion\n",
            "        Key  : Dimen : Domain : Size : Members\n",
            "        None :     1 :    Any :   12 : {0, 1, 2, 3, 4, 5, 6, 7, 8, 9, 10, 11}\n",
            "    x_index_1 : Size=1, Index=None, Ordered=Insertion\n",
            "        Key  : Dimen : Domain : Size : Members\n",
            "        None :     1 :    Any :   12 : {0, 1, 2, 3, 4, 5, 6, 7, 8, 9, 10, 11}\n",
            "\n",
            "1 Var Declarations\n",
            "    x : Size=144, Index=x_index\n",
            "        Key      : Lower : Value : Upper : Fixed : Stale : Domain\n",
            "          (0, 0) :     0 :  None :  None : False :  True : NonNegativeIntegers\n",
            "          (0, 1) :     0 :  None :  None : False :  True : NonNegativeIntegers\n",
            "          (0, 2) :     0 :  None :  None : False :  True : NonNegativeIntegers\n",
            "          (0, 3) :     0 :  None :  None : False :  True : NonNegativeIntegers\n",
            "          (0, 4) :     0 :  None :  None : False :  True : NonNegativeIntegers\n",
            "          (0, 5) :     0 :  None :  None : False :  True : NonNegativeIntegers\n",
            "          (0, 6) :     0 :  None :  None : False :  True : NonNegativeIntegers\n",
            "          (0, 7) :     0 :  None :  None : False :  True : NonNegativeIntegers\n",
            "          (0, 8) :     0 :  None :  None : False :  True : NonNegativeIntegers\n",
            "          (0, 9) :     0 :  None :  None : False :  True : NonNegativeIntegers\n",
            "         (0, 10) :     0 :  None :  None : False :  True : NonNegativeIntegers\n",
            "         (0, 11) :     0 :  None :  None : False :  True : NonNegativeIntegers\n",
            "          (1, 0) :     0 :  None :  None : False :  True : NonNegativeIntegers\n",
            "          (1, 1) :     0 :  None :  None : False :  True : NonNegativeIntegers\n",
            "          (1, 2) :     0 :  None :  None : False :  True : NonNegativeIntegers\n",
            "          (1, 3) :     0 :  None :  None : False :  True : NonNegativeIntegers\n",
            "          (1, 4) :     0 :  None :  None : False :  True : NonNegativeIntegers\n",
            "          (1, 5) :     0 :  None :  None : False :  True : NonNegativeIntegers\n",
            "          (1, 6) :     0 :  None :  None : False :  True : NonNegativeIntegers\n",
            "          (1, 7) :     0 :  None :  None : False :  True : NonNegativeIntegers\n",
            "          (1, 8) :     0 :  None :  None : False :  True : NonNegativeIntegers\n",
            "          (1, 9) :     0 :  None :  None : False :  True : NonNegativeIntegers\n",
            "         (1, 10) :     0 :  None :  None : False :  True : NonNegativeIntegers\n",
            "         (1, 11) :     0 :  None :  None : False :  True : NonNegativeIntegers\n",
            "          (2, 0) :     0 :  None :  None : False :  True : NonNegativeIntegers\n",
            "          (2, 1) :     0 :  None :  None : False :  True : NonNegativeIntegers\n",
            "          (2, 2) :     0 :  None :  None : False :  True : NonNegativeIntegers\n",
            "          (2, 3) :     0 :  None :  None : False :  True : NonNegativeIntegers\n",
            "          (2, 4) :     0 :  None :  None : False :  True : NonNegativeIntegers\n",
            "          (2, 5) :     0 :  None :  None : False :  True : NonNegativeIntegers\n",
            "          (2, 6) :     0 :  None :  None : False :  True : NonNegativeIntegers\n",
            "          (2, 7) :     0 :  None :  None : False :  True : NonNegativeIntegers\n",
            "          (2, 8) :     0 :  None :  None : False :  True : NonNegativeIntegers\n",
            "          (2, 9) :     0 :  None :  None : False :  True : NonNegativeIntegers\n",
            "         (2, 10) :     0 :  None :  None : False :  True : NonNegativeIntegers\n",
            "         (2, 11) :     0 :  None :  None : False :  True : NonNegativeIntegers\n",
            "          (3, 0) :     0 :  None :  None : False :  True : NonNegativeIntegers\n",
            "          (3, 1) :     0 :  None :  None : False :  True : NonNegativeIntegers\n",
            "          (3, 2) :     0 :  None :  None : False :  True : NonNegativeIntegers\n",
            "          (3, 3) :     0 :  None :  None : False :  True : NonNegativeIntegers\n",
            "          (3, 4) :     0 :  None :  None : False :  True : NonNegativeIntegers\n",
            "          (3, 5) :     0 :  None :  None : False :  True : NonNegativeIntegers\n",
            "          (3, 6) :     0 :  None :  None : False :  True : NonNegativeIntegers\n",
            "          (3, 7) :     0 :  None :  None : False :  True : NonNegativeIntegers\n",
            "          (3, 8) :     0 :  None :  None : False :  True : NonNegativeIntegers\n",
            "          (3, 9) :     0 :  None :  None : False :  True : NonNegativeIntegers\n",
            "         (3, 10) :     0 :  None :  None : False :  True : NonNegativeIntegers\n",
            "         (3, 11) :     0 :  None :  None : False :  True : NonNegativeIntegers\n",
            "          (4, 0) :     0 :  None :  None : False :  True : NonNegativeIntegers\n",
            "          (4, 1) :     0 :  None :  None : False :  True : NonNegativeIntegers\n",
            "          (4, 2) :     0 :  None :  None : False :  True : NonNegativeIntegers\n",
            "          (4, 3) :     0 :  None :  None : False :  True : NonNegativeIntegers\n",
            "          (4, 4) :     0 :  None :  None : False :  True : NonNegativeIntegers\n",
            "          (4, 5) :     0 :  None :  None : False :  True : NonNegativeIntegers\n",
            "          (4, 6) :     0 :  None :  None : False :  True : NonNegativeIntegers\n",
            "          (4, 7) :     0 :  None :  None : False :  True : NonNegativeIntegers\n",
            "          (4, 8) :     0 :  None :  None : False :  True : NonNegativeIntegers\n",
            "          (4, 9) :     0 :  None :  None : False :  True : NonNegativeIntegers\n",
            "         (4, 10) :     0 :  None :  None : False :  True : NonNegativeIntegers\n",
            "         (4, 11) :     0 :  None :  None : False :  True : NonNegativeIntegers\n",
            "          (5, 0) :     0 :  None :  None : False :  True : NonNegativeIntegers\n",
            "          (5, 1) :     0 :  None :  None : False :  True : NonNegativeIntegers\n",
            "          (5, 2) :     0 :  None :  None : False :  True : NonNegativeIntegers\n",
            "          (5, 3) :     0 :  None :  None : False :  True : NonNegativeIntegers\n",
            "          (5, 4) :     0 :  None :  None : False :  True : NonNegativeIntegers\n",
            "          (5, 5) :     0 :  None :  None : False :  True : NonNegativeIntegers\n",
            "          (5, 6) :     0 :  None :  None : False :  True : NonNegativeIntegers\n",
            "          (5, 7) :     0 :  None :  None : False :  True : NonNegativeIntegers\n",
            "          (5, 8) :     0 :  None :  None : False :  True : NonNegativeIntegers\n",
            "          (5, 9) :     0 :  None :  None : False :  True : NonNegativeIntegers\n",
            "         (5, 10) :     0 :  None :  None : False :  True : NonNegativeIntegers\n",
            "         (5, 11) :     0 :  None :  None : False :  True : NonNegativeIntegers\n",
            "          (6, 0) :     0 :  None :  None : False :  True : NonNegativeIntegers\n",
            "          (6, 1) :     0 :  None :  None : False :  True : NonNegativeIntegers\n",
            "          (6, 2) :     0 :  None :  None : False :  True : NonNegativeIntegers\n",
            "          (6, 3) :     0 :  None :  None : False :  True : NonNegativeIntegers\n",
            "          (6, 4) :     0 :  None :  None : False :  True : NonNegativeIntegers\n",
            "          (6, 5) :     0 :  None :  None : False :  True : NonNegativeIntegers\n",
            "          (6, 6) :     0 :  None :  None : False :  True : NonNegativeIntegers\n",
            "          (6, 7) :     0 :  None :  None : False :  True : NonNegativeIntegers\n",
            "          (6, 8) :     0 :  None :  None : False :  True : NonNegativeIntegers\n",
            "          (6, 9) :     0 :  None :  None : False :  True : NonNegativeIntegers\n",
            "         (6, 10) :     0 :  None :  None : False :  True : NonNegativeIntegers\n",
            "         (6, 11) :     0 :  None :  None : False :  True : NonNegativeIntegers\n",
            "          (7, 0) :     0 :  None :  None : False :  True : NonNegativeIntegers\n",
            "          (7, 1) :     0 :  None :  None : False :  True : NonNegativeIntegers\n",
            "          (7, 2) :     0 :  None :  None : False :  True : NonNegativeIntegers\n",
            "          (7, 3) :     0 :  None :  None : False :  True : NonNegativeIntegers\n",
            "          (7, 4) :     0 :  None :  None : False :  True : NonNegativeIntegers\n",
            "          (7, 5) :     0 :  None :  None : False :  True : NonNegativeIntegers\n",
            "          (7, 6) :     0 :  None :  None : False :  True : NonNegativeIntegers\n",
            "          (7, 7) :     0 :  None :  None : False :  True : NonNegativeIntegers\n",
            "          (7, 8) :     0 :  None :  None : False :  True : NonNegativeIntegers\n",
            "          (7, 9) :     0 :  None :  None : False :  True : NonNegativeIntegers\n",
            "         (7, 10) :     0 :  None :  None : False :  True : NonNegativeIntegers\n",
            "         (7, 11) :     0 :  None :  None : False :  True : NonNegativeIntegers\n",
            "          (8, 0) :     0 :  None :  None : False :  True : NonNegativeIntegers\n",
            "          (8, 1) :     0 :  None :  None : False :  True : NonNegativeIntegers\n",
            "          (8, 2) :     0 :  None :  None : False :  True : NonNegativeIntegers\n",
            "          (8, 3) :     0 :  None :  None : False :  True : NonNegativeIntegers\n",
            "          (8, 4) :     0 :  None :  None : False :  True : NonNegativeIntegers\n",
            "          (8, 5) :     0 :  None :  None : False :  True : NonNegativeIntegers\n",
            "          (8, 6) :     0 :  None :  None : False :  True : NonNegativeIntegers\n",
            "          (8, 7) :     0 :  None :  None : False :  True : NonNegativeIntegers\n",
            "          (8, 8) :     0 :  None :  None : False :  True : NonNegativeIntegers\n",
            "          (8, 9) :     0 :  None :  None : False :  True : NonNegativeIntegers\n",
            "         (8, 10) :     0 :  None :  None : False :  True : NonNegativeIntegers\n",
            "         (8, 11) :     0 :  None :  None : False :  True : NonNegativeIntegers\n",
            "          (9, 0) :     0 :  None :  None : False :  True : NonNegativeIntegers\n",
            "          (9, 1) :     0 :  None :  None : False :  True : NonNegativeIntegers\n",
            "          (9, 2) :     0 :  None :  None : False :  True : NonNegativeIntegers\n",
            "          (9, 3) :     0 :  None :  None : False :  True : NonNegativeIntegers\n",
            "          (9, 4) :     0 :  None :  None : False :  True : NonNegativeIntegers\n",
            "          (9, 5) :     0 :  None :  None : False :  True : NonNegativeIntegers\n",
            "          (9, 6) :     0 :  None :  None : False :  True : NonNegativeIntegers\n",
            "          (9, 7) :     0 :  None :  None : False :  True : NonNegativeIntegers\n",
            "          (9, 8) :     0 :  None :  None : False :  True : NonNegativeIntegers\n",
            "          (9, 9) :     0 :  None :  None : False :  True : NonNegativeIntegers\n",
            "         (9, 10) :     0 :  None :  None : False :  True : NonNegativeIntegers\n",
            "         (9, 11) :     0 :  None :  None : False :  True : NonNegativeIntegers\n",
            "         (10, 0) :     0 :  None :  None : False :  True : NonNegativeIntegers\n",
            "         (10, 1) :     0 :  None :  None : False :  True : NonNegativeIntegers\n",
            "         (10, 2) :     0 :  None :  None : False :  True : NonNegativeIntegers\n",
            "         (10, 3) :     0 :  None :  None : False :  True : NonNegativeIntegers\n",
            "         (10, 4) :     0 :  None :  None : False :  True : NonNegativeIntegers\n",
            "         (10, 5) :     0 :  None :  None : False :  True : NonNegativeIntegers\n",
            "         (10, 6) :     0 :  None :  None : False :  True : NonNegativeIntegers\n",
            "         (10, 7) :     0 :  None :  None : False :  True : NonNegativeIntegers\n",
            "         (10, 8) :     0 :  None :  None : False :  True : NonNegativeIntegers\n",
            "         (10, 9) :     0 :  None :  None : False :  True : NonNegativeIntegers\n",
            "        (10, 10) :     0 :  None :  None : False :  True : NonNegativeIntegers\n",
            "        (10, 11) :     0 :  None :  None : False :  True : NonNegativeIntegers\n",
            "         (11, 0) :     0 :  None :  None : False :  True : NonNegativeIntegers\n",
            "         (11, 1) :     0 :  None :  None : False :  True : NonNegativeIntegers\n",
            "         (11, 2) :     0 :  None :  None : False :  True : NonNegativeIntegers\n",
            "         (11, 3) :     0 :  None :  None : False :  True : NonNegativeIntegers\n",
            "         (11, 4) :     0 :  None :  None : False :  True : NonNegativeIntegers\n",
            "         (11, 5) :     0 :  None :  None : False :  True : NonNegativeIntegers\n",
            "         (11, 6) :     0 :  None :  None : False :  True : NonNegativeIntegers\n",
            "         (11, 7) :     0 :  None :  None : False :  True : NonNegativeIntegers\n",
            "         (11, 8) :     0 :  None :  None : False :  True : NonNegativeIntegers\n",
            "         (11, 9) :     0 :  None :  None : False :  True : NonNegativeIntegers\n",
            "        (11, 10) :     0 :  None :  None : False :  True : NonNegativeIntegers\n",
            "        (11, 11) :     0 :  None :  None : False :  True : NonNegativeIntegers\n",
            "\n",
            "1 Objective Declarations\n",
            "    objective : Size=1, Index=None, Active=True\n",
            "        Key  : Active : Sense    : Expression\n",
            "        None :   True : minimize : 21.0*x[0,0] + 25.0*x[0,1] + 18.0*x[0,2] + 19.0*x[0,3] + 23.0*x[0,4] + 24.0*x[0,5] + 16.0*x[0,6] + 17.0*x[0,7] + 21.0*x[0,8] + 23.0*x[0,9] + 19.0*x[0,10] + 21.0*x[0,11] + 19.0*x[1,0] + 22.0*x[1,1] + 19.0*x[1,2] + 19.0*x[1,3] + 23.0*x[1,4] + 21.0*x[1,5] + 15.0*x[1,6] + 20.0*x[1,7] + 16.0*x[1,8] + 17.0*x[1,9] + 17.0*x[1,10] + 24.0*x[1,11] + 21.0*x[2,0] + 19.0*x[2,1] + 20.0*x[2,2] + 18.0*x[2,3] + 22.0*x[2,4] + 24.0*x[2,5] + 14.0*x[2,6] + 16.0*x[2,7] + 18.0*x[2,8] + 16.0*x[2,9] + 20.0*x[2,10] + 24.0*x[2,11] + 19.0*x[3,0] + 22.0*x[3,1] + 17.0*x[3,2] + 17.0*x[3,3] + 22.0*x[3,4] + 22.0*x[3,5] + 18.0*x[3,6] + 18.0*x[3,7] + 20.0*x[3,8] + 21.0*x[3,9] + 23.0*x[3,10] + 23.0*x[3,11] + 18.0*x[4,0] + 22.0*x[4,1] + 15.0*x[4,2] + 15.0*x[4,3] + 23.0*x[4,4] + 23.0*x[4,5] + 21.0*x[4,6] + 25.0*x[4,7] + 24.0*x[4,8] + 19.0*x[4,9] + 21.0*x[4,10] + 23.0*x[4,11] + 23.0*x[5,0] + 19.0*x[5,1] + 19.0*x[5,2] + 14.0*x[5,3] + 24.0*x[5,4] + 21.0*x[5,5] + 23.0*x[5,6] + 21.0*x[5,7] + 20.0*x[5,8] + 20.0*x[5,9] + 22.0*x[5,10] + 19.0*x[5,11] + 21.0*x[6,0] + 16.0*x[6,1] + 27.0*x[6,2] + 17.0*x[6,3] + 26.0*x[6,4] + 27.0*x[6,5] + 16.0*x[6,6] + 19.0*x[6,7] + 24.0*x[6,8] + 20.0*x[6,9] + 20.0*x[6,10] + 23.0*x[6,11] + 22.0*x[7,0] + 17.0*x[7,1] + 21.0*x[7,2] + 15.0*x[7,3] + 23.0*x[7,4] + 24.0*x[7,5] + 24.0*x[7,6] + 20.0*x[7,7] + 22.0*x[7,8] + 19.0*x[7,9] + 23.0*x[7,10] + 21.0*x[7,11] + 23.0*x[8,0] + 24.0*x[8,1] + 18.0*x[8,2] + 19.0*x[8,3] + 22.0*x[8,4] + 23.0*x[8,5] + 21.0*x[8,6] + 18.0*x[8,7] + 23.0*x[8,8] + 15.0*x[8,9] + 25.0*x[8,10] + 21.0*x[8,11] + 18.0*x[9,0] + 21.0*x[9,1] + 21.0*x[9,2] + 18.0*x[9,3] + 26.0*x[9,4] + 24.0*x[9,5] + 18.0*x[9,6] + 17.0*x[9,7] + 18.0*x[9,8] + 20.0*x[9,9] + 21.0*x[9,10] + 20.0*x[9,11] + 19.0*x[10,0] + 12.0*x[10,1] + 21.0*x[10,2] + 19.0*x[10,3] + 23.0*x[10,4] + 20.0*x[10,5] + 22.0*x[10,6] + 19.0*x[10,7] + 17.0*x[10,8] + 19.0*x[10,9] + 20.0*x[10,10] + 24.0*x[10,11] + 18.0*x[11,0] + 22.0*x[11,1] + 24.0*x[11,2] + 17.0*x[11,3] + 21.0*x[11,4] + 28.0*x[11,5] + 18.0*x[11,6] + 16.0*x[11,7] + 22.0*x[11,8] + 24.0*x[11,9] + 25.0*x[11,10] + 24.0*x[11,11]\n",
            "\n",
            "1 Constraint Declarations\n",
            "    constraints : Size=24, Index=constraints_index, Active=True\n",
            "        Key : Lower : Body                                                                                                                    : Upper : Active\n",
            "          1 :   1.0 :             x[0,0] + x[0,1] + x[0,2] + x[0,3] + x[0,4] + x[0,5] + x[0,6] + x[0,7] + x[0,8] + x[0,9] + x[0,10] + x[0,11] :   1.0 :   True\n",
            "          2 :   1.0 :             x[1,0] + x[1,1] + x[1,2] + x[1,3] + x[1,4] + x[1,5] + x[1,6] + x[1,7] + x[1,8] + x[1,9] + x[1,10] + x[1,11] :   1.0 :   True\n",
            "          3 :   1.0 :             x[2,0] + x[2,1] + x[2,2] + x[2,3] + x[2,4] + x[2,5] + x[2,6] + x[2,7] + x[2,8] + x[2,9] + x[2,10] + x[2,11] :   1.0 :   True\n",
            "          4 :   1.0 :             x[3,0] + x[3,1] + x[3,2] + x[3,3] + x[3,4] + x[3,5] + x[3,6] + x[3,7] + x[3,8] + x[3,9] + x[3,10] + x[3,11] :   1.0 :   True\n",
            "          5 :   1.0 :             x[4,0] + x[4,1] + x[4,2] + x[4,3] + x[4,4] + x[4,5] + x[4,6] + x[4,7] + x[4,8] + x[4,9] + x[4,10] + x[4,11] :   1.0 :   True\n",
            "          6 :   1.0 :             x[5,0] + x[5,1] + x[5,2] + x[5,3] + x[5,4] + x[5,5] + x[5,6] + x[5,7] + x[5,8] + x[5,9] + x[5,10] + x[5,11] :   1.0 :   True\n",
            "          7 :   1.0 :             x[6,0] + x[6,1] + x[6,2] + x[6,3] + x[6,4] + x[6,5] + x[6,6] + x[6,7] + x[6,8] + x[6,9] + x[6,10] + x[6,11] :   1.0 :   True\n",
            "          8 :   1.0 :             x[7,0] + x[7,1] + x[7,2] + x[7,3] + x[7,4] + x[7,5] + x[7,6] + x[7,7] + x[7,8] + x[7,9] + x[7,10] + x[7,11] :   1.0 :   True\n",
            "          9 :   1.0 :             x[8,0] + x[8,1] + x[8,2] + x[8,3] + x[8,4] + x[8,5] + x[8,6] + x[8,7] + x[8,8] + x[8,9] + x[8,10] + x[8,11] :   1.0 :   True\n",
            "         10 :   1.0 :             x[9,0] + x[9,1] + x[9,2] + x[9,3] + x[9,4] + x[9,5] + x[9,6] + x[9,7] + x[9,8] + x[9,9] + x[9,10] + x[9,11] :   1.0 :   True\n",
            "         11 :   1.0 : x[10,0] + x[10,1] + x[10,2] + x[10,3] + x[10,4] + x[10,5] + x[10,6] + x[10,7] + x[10,8] + x[10,9] + x[10,10] + x[10,11] :   1.0 :   True\n",
            "         12 :   1.0 : x[11,0] + x[11,1] + x[11,2] + x[11,3] + x[11,4] + x[11,5] + x[11,6] + x[11,7] + x[11,8] + x[11,9] + x[11,10] + x[11,11] :   1.0 :   True\n",
            "         13 :   1.0 :             x[0,0] + x[1,0] + x[2,0] + x[3,0] + x[4,0] + x[5,0] + x[6,0] + x[7,0] + x[8,0] + x[9,0] + x[10,0] + x[11,0] :   1.0 :   True\n",
            "         14 :   1.0 :             x[0,1] + x[1,1] + x[2,1] + x[3,1] + x[4,1] + x[5,1] + x[6,1] + x[7,1] + x[8,1] + x[9,1] + x[10,1] + x[11,1] :   1.0 :   True\n",
            "         15 :   1.0 :             x[0,2] + x[1,2] + x[2,2] + x[3,2] + x[4,2] + x[5,2] + x[6,2] + x[7,2] + x[8,2] + x[9,2] + x[10,2] + x[11,2] :   1.0 :   True\n",
            "         16 :   1.0 :             x[0,3] + x[1,3] + x[2,3] + x[3,3] + x[4,3] + x[5,3] + x[6,3] + x[7,3] + x[8,3] + x[9,3] + x[10,3] + x[11,3] :   1.0 :   True\n",
            "         17 :   1.0 :             x[0,4] + x[1,4] + x[2,4] + x[3,4] + x[4,4] + x[5,4] + x[6,4] + x[7,4] + x[8,4] + x[9,4] + x[10,4] + x[11,4] :   1.0 :   True\n",
            "         18 :   1.0 :             x[0,5] + x[1,5] + x[2,5] + x[3,5] + x[4,5] + x[5,5] + x[6,5] + x[7,5] + x[8,5] + x[9,5] + x[10,5] + x[11,5] :   1.0 :   True\n",
            "         19 :   1.0 :             x[0,6] + x[1,6] + x[2,6] + x[3,6] + x[4,6] + x[5,6] + x[6,6] + x[7,6] + x[8,6] + x[9,6] + x[10,6] + x[11,6] :   1.0 :   True\n",
            "         20 :   1.0 :             x[0,7] + x[1,7] + x[2,7] + x[3,7] + x[4,7] + x[5,7] + x[6,7] + x[7,7] + x[8,7] + x[9,7] + x[10,7] + x[11,7] :   1.0 :   True\n",
            "         21 :   1.0 :             x[0,8] + x[1,8] + x[2,8] + x[3,8] + x[4,8] + x[5,8] + x[6,8] + x[7,8] + x[8,8] + x[9,8] + x[10,8] + x[11,8] :   1.0 :   True\n",
            "         22 :   1.0 :             x[0,9] + x[1,9] + x[2,9] + x[3,9] + x[4,9] + x[5,9] + x[6,9] + x[7,9] + x[8,9] + x[9,9] + x[10,9] + x[11,9] :   1.0 :   True\n",
            "         23 :   1.0 : x[0,10] + x[1,10] + x[2,10] + x[3,10] + x[4,10] + x[5,10] + x[6,10] + x[7,10] + x[8,10] + x[9,10] + x[10,10] + x[11,10] :   1.0 :   True\n",
            "         24 :   1.0 : x[0,11] + x[1,11] + x[2,11] + x[3,11] + x[4,11] + x[5,11] + x[6,11] + x[7,11] + x[8,11] + x[9,11] + x[10,11] + x[11,11] :   1.0 :   True\n",
            "\n",
            "7 Declarations: x_index_0 x_index_1 x_index x objective constraints_index constraints\n"
          ]
        }
      ]
    },
    {
      "cell_type": "code",
      "metadata": {
        "id": "rhSG6IRMfclR",
        "colab": {
          "base_uri": "https://localhost:8080/"
        },
        "outputId": "b4fbe4dd-a00d-483d-b9d0-136e91f34607"
      },
      "source": [
        "!apt-get install -y -qq coinor-cbc"
      ],
      "execution_count": 17,
      "outputs": [
        {
          "output_type": "stream",
          "name": "stdout",
          "text": [
            "Selecting previously unselected package coinor-libcoinutils3v5.\n",
            "(Reading database ... 155569 files and directories currently installed.)\n",
            "Preparing to unpack .../0-coinor-libcoinutils3v5_2.10.14+repack1-1_amd64.deb ...\n",
            "Unpacking coinor-libcoinutils3v5 (2.10.14+repack1-1) ...\n",
            "Selecting previously unselected package coinor-libosi1v5.\n",
            "Preparing to unpack .../1-coinor-libosi1v5_0.107.9+repack1-1_amd64.deb ...\n",
            "Unpacking coinor-libosi1v5 (0.107.9+repack1-1) ...\n",
            "Selecting previously unselected package coinor-libclp1.\n",
            "Preparing to unpack .../2-coinor-libclp1_1.16.11+repack1-1_amd64.deb ...\n",
            "Unpacking coinor-libclp1 (1.16.11+repack1-1) ...\n",
            "Selecting previously unselected package coinor-libcgl1.\n",
            "Preparing to unpack .../3-coinor-libcgl1_0.59.10+repack1-1_amd64.deb ...\n",
            "Unpacking coinor-libcgl1 (0.59.10+repack1-1) ...\n",
            "Selecting previously unselected package coinor-libcbc3.\n",
            "Preparing to unpack .../4-coinor-libcbc3_2.9.9+repack1-1_amd64.deb ...\n",
            "Unpacking coinor-libcbc3 (2.9.9+repack1-1) ...\n",
            "Selecting previously unselected package coinor-cbc.\n",
            "Preparing to unpack .../5-coinor-cbc_2.9.9+repack1-1_amd64.deb ...\n",
            "Unpacking coinor-cbc (2.9.9+repack1-1) ...\n",
            "Setting up coinor-libcoinutils3v5 (2.10.14+repack1-1) ...\n",
            "Setting up coinor-libosi1v5 (0.107.9+repack1-1) ...\n",
            "Setting up coinor-libclp1 (1.16.11+repack1-1) ...\n",
            "Setting up coinor-libcgl1 (0.59.10+repack1-1) ...\n",
            "Setting up coinor-libcbc3 (2.9.9+repack1-1) ...\n",
            "Setting up coinor-cbc (2.9.9+repack1-1) ...\n",
            "Processing triggers for man-db (2.8.3-2ubuntu0.1) ...\n",
            "Processing triggers for libc-bin (2.27-3ubuntu1.5) ...\n"
          ]
        }
      ]
    },
    {
      "cell_type": "code",
      "metadata": {
        "id": "Sq3CpPcCeIBC"
      },
      "source": [
        "opt_cbc = SolverFactory('cbc')"
      ],
      "execution_count": 18,
      "outputs": []
    },
    {
      "cell_type": "code",
      "metadata": {
        "id": "ANOu9qtsMgJQ",
        "colab": {
          "base_uri": "https://localhost:8080/"
        },
        "outputId": "47f3d727-08f6-499f-c613-5d496b0979e9"
      },
      "source": [
        "result = opt_cbc.solve(model_lab6_ex2)\n",
        "print('Solver status:', result.solver.status)\n",
        "print('Solver termination condition:',result.solver.termination_condition)"
      ],
      "execution_count": 19,
      "outputs": [
        {
          "output_type": "stream",
          "name": "stdout",
          "text": [
            "Solver status: ok\n",
            "Solver termination condition: optimal\n"
          ]
        }
      ]
    },
    {
      "cell_type": "code",
      "metadata": {
        "id": "WQZHDR3afKj5",
        "colab": {
          "base_uri": "https://localhost:8080/"
        },
        "outputId": "bd1dd360-d2fc-45e6-e328-81b54324635f"
      },
      "source": [
        "# display solution\n",
        "print('\\nObjective = ', model_lab6_ex2.objective())\n",
        "\n",
        "print('\\nDecision Variables')\n",
        "for i in row_indices:\n",
        "  for j in col_indices:\n",
        "    if model_lab6_ex2.x[i, j].value == 1:\n",
        "      print('Factory', i+1, 'is to be located at', j+1)\n",
        "\n",
        "print('\\nConstraints')\n",
        "model_lab6_ex2.constraints.display()"
      ],
      "execution_count": 20,
      "outputs": [
        {
          "output_type": "stream",
          "name": "stdout",
          "text": [
            "\n",
            "Objective =  204.0\n",
            "\n",
            "Decision Variables\n",
            "Factory 1 is to be located at 11\n",
            "Factory 2 is to be located at 9\n",
            "Factory 3 is to be located at 8\n",
            "Factory 4 is to be located at 6\n",
            "Factory 5 is to be located at 3\n",
            "Factory 6 is to be located at 12\n",
            "Factory 7 is to be located at 7\n",
            "Factory 8 is to be located at 4\n",
            "Factory 9 is to be located at 10\n",
            "Factory 10 is to be located at 1\n",
            "Factory 11 is to be located at 2\n",
            "Factory 12 is to be located at 5\n",
            "\n",
            "Constraints\n",
            "constraints : Size=24\n",
            "    Key : Lower : Body : Upper\n",
            "      1 :   1.0 :  1.0 :   1.0\n",
            "      2 :   1.0 :  1.0 :   1.0\n",
            "      3 :   1.0 :  1.0 :   1.0\n",
            "      4 :   1.0 :  1.0 :   1.0\n",
            "      5 :   1.0 :  1.0 :   1.0\n",
            "      6 :   1.0 :  1.0 :   1.0\n",
            "      7 :   1.0 :  1.0 :   1.0\n",
            "      8 :   1.0 :  1.0 :   1.0\n",
            "      9 :   1.0 :  1.0 :   1.0\n",
            "     10 :   1.0 :  1.0 :   1.0\n",
            "     11 :   1.0 :  1.0 :   1.0\n",
            "     12 :   1.0 :  1.0 :   1.0\n",
            "     13 :   1.0 :  1.0 :   1.0\n",
            "     14 :   1.0 :  1.0 :   1.0\n",
            "     15 :   1.0 :  1.0 :   1.0\n",
            "     16 :   1.0 :  1.0 :   1.0\n",
            "     17 :   1.0 :  1.0 :   1.0\n",
            "     18 :   1.0 :  1.0 :   1.0\n",
            "     19 :   1.0 :  1.0 :   1.0\n",
            "     20 :   1.0 :  1.0 :   1.0\n",
            "     21 :   1.0 :  1.0 :   1.0\n",
            "     22 :   1.0 :  1.0 :   1.0\n",
            "     23 :   1.0 :  1.0 :   1.0\n",
            "     24 :   1.0 :  1.0 :   1.0\n"
          ]
        }
      ]
    },
    {
      "cell_type": "code",
      "metadata": {
        "id": "MeSMEQsMyhFt"
      },
      "source": [
        "#change the domain to nonnegativereals\n",
        "for i in row_indices:\n",
        "  for j in col_indices:\n",
        "    model_lab6_ex2.x[i, j].domain=NonNegativeReals"
      ],
      "execution_count": 21,
      "outputs": []
    },
    {
      "cell_type": "code",
      "source": [
        "model_lab6_ex2.pprint()"
      ],
      "metadata": {
        "id": "QBkoTyTCUJwG",
        "outputId": "100c35a5-7b16-4181-f9bd-4118145a114a",
        "colab": {
          "base_uri": "https://localhost:8080/"
        }
      },
      "execution_count": 22,
      "outputs": [
        {
          "output_type": "stream",
          "name": "stdout",
          "text": [
            "4 Set Declarations\n",
            "    constraints_index : Size=1, Index=None, Ordered=Insertion\n",
            "        Key  : Dimen : Domain : Size : Members\n",
            "        None :     1 :    Any :   24 : {1, 2, 3, 4, 5, 6, 7, 8, 9, 10, 11, 12, 13, 14, 15, 16, 17, 18, 19, 20, 21, 22, 23, 24}\n",
            "    x_index : Size=1, Index=None, Ordered=True\n",
            "        Key  : Dimen : Domain              : Size : Members\n",
            "        None :     2 : x_index_0*x_index_1 :  144 : {(0, 0), (0, 1), (0, 2), (0, 3), (0, 4), (0, 5), (0, 6), (0, 7), (0, 8), (0, 9), (0, 10), (0, 11), (1, 0), (1, 1), (1, 2), (1, 3), (1, 4), (1, 5), (1, 6), (1, 7), (1, 8), (1, 9), (1, 10), (1, 11), (2, 0), (2, 1), (2, 2), (2, 3), (2, 4), (2, 5), (2, 6), (2, 7), (2, 8), (2, 9), (2, 10), (2, 11), (3, 0), (3, 1), (3, 2), (3, 3), (3, 4), (3, 5), (3, 6), (3, 7), (3, 8), (3, 9), (3, 10), (3, 11), (4, 0), (4, 1), (4, 2), (4, 3), (4, 4), (4, 5), (4, 6), (4, 7), (4, 8), (4, 9), (4, 10), (4, 11), (5, 0), (5, 1), (5, 2), (5, 3), (5, 4), (5, 5), (5, 6), (5, 7), (5, 8), (5, 9), (5, 10), (5, 11), (6, 0), (6, 1), (6, 2), (6, 3), (6, 4), (6, 5), (6, 6), (6, 7), (6, 8), (6, 9), (6, 10), (6, 11), (7, 0), (7, 1), (7, 2), (7, 3), (7, 4), (7, 5), (7, 6), (7, 7), (7, 8), (7, 9), (7, 10), (7, 11), (8, 0), (8, 1), (8, 2), (8, 3), (8, 4), (8, 5), (8, 6), (8, 7), (8, 8), (8, 9), (8, 10), (8, 11), (9, 0), (9, 1), (9, 2), (9, 3), (9, 4), (9, 5), (9, 6), (9, 7), (9, 8), (9, 9), (9, 10), (9, 11), (10, 0), (10, 1), (10, 2), (10, 3), (10, 4), (10, 5), (10, 6), (10, 7), (10, 8), (10, 9), (10, 10), (10, 11), (11, 0), (11, 1), (11, 2), (11, 3), (11, 4), (11, 5), (11, 6), (11, 7), (11, 8), (11, 9), (11, 10), (11, 11)}\n",
            "    x_index_0 : Size=1, Index=None, Ordered=Insertion\n",
            "        Key  : Dimen : Domain : Size : Members\n",
            "        None :     1 :    Any :   12 : {0, 1, 2, 3, 4, 5, 6, 7, 8, 9, 10, 11}\n",
            "    x_index_1 : Size=1, Index=None, Ordered=Insertion\n",
            "        Key  : Dimen : Domain : Size : Members\n",
            "        None :     1 :    Any :   12 : {0, 1, 2, 3, 4, 5, 6, 7, 8, 9, 10, 11}\n",
            "\n",
            "1 Var Declarations\n",
            "    x : Size=144, Index=x_index\n",
            "        Key      : Lower : Value : Upper : Fixed : Stale : Domain\n",
            "          (0, 0) :     0 :   0.0 :  None : False : False : NonNegativeReals\n",
            "          (0, 1) :     0 :   0.0 :  None : False : False : NonNegativeReals\n",
            "          (0, 2) :     0 :   0.0 :  None : False : False : NonNegativeReals\n",
            "          (0, 3) :     0 :   0.0 :  None : False : False : NonNegativeReals\n",
            "          (0, 4) :     0 :   0.0 :  None : False : False : NonNegativeReals\n",
            "          (0, 5) :     0 :   0.0 :  None : False : False : NonNegativeReals\n",
            "          (0, 6) :     0 :   0.0 :  None : False : False : NonNegativeReals\n",
            "          (0, 7) :     0 :   0.0 :  None : False : False : NonNegativeReals\n",
            "          (0, 8) :     0 :   0.0 :  None : False : False : NonNegativeReals\n",
            "          (0, 9) :     0 :   0.0 :  None : False : False : NonNegativeReals\n",
            "         (0, 10) :     0 :   1.0 :  None : False : False : NonNegativeReals\n",
            "         (0, 11) :     0 :   0.0 :  None : False : False : NonNegativeReals\n",
            "          (1, 0) :     0 :   0.0 :  None : False : False : NonNegativeReals\n",
            "          (1, 1) :     0 :   0.0 :  None : False : False : NonNegativeReals\n",
            "          (1, 2) :     0 :   0.0 :  None : False : False : NonNegativeReals\n",
            "          (1, 3) :     0 :   0.0 :  None : False : False : NonNegativeReals\n",
            "          (1, 4) :     0 :   0.0 :  None : False : False : NonNegativeReals\n",
            "          (1, 5) :     0 :   0.0 :  None : False : False : NonNegativeReals\n",
            "          (1, 6) :     0 :   0.0 :  None : False : False : NonNegativeReals\n",
            "          (1, 7) :     0 :   0.0 :  None : False : False : NonNegativeReals\n",
            "          (1, 8) :     0 :   1.0 :  None : False : False : NonNegativeReals\n",
            "          (1, 9) :     0 :   0.0 :  None : False : False : NonNegativeReals\n",
            "         (1, 10) :     0 :   0.0 :  None : False : False : NonNegativeReals\n",
            "         (1, 11) :     0 :   0.0 :  None : False : False : NonNegativeReals\n",
            "          (2, 0) :     0 :   0.0 :  None : False : False : NonNegativeReals\n",
            "          (2, 1) :     0 :   0.0 :  None : False : False : NonNegativeReals\n",
            "          (2, 2) :     0 :   0.0 :  None : False : False : NonNegativeReals\n",
            "          (2, 3) :     0 :   0.0 :  None : False : False : NonNegativeReals\n",
            "          (2, 4) :     0 :   0.0 :  None : False : False : NonNegativeReals\n",
            "          (2, 5) :     0 :   0.0 :  None : False : False : NonNegativeReals\n",
            "          (2, 6) :     0 :   0.0 :  None : False : False : NonNegativeReals\n",
            "          (2, 7) :     0 :   1.0 :  None : False : False : NonNegativeReals\n",
            "          (2, 8) :     0 :   0.0 :  None : False : False : NonNegativeReals\n",
            "          (2, 9) :     0 :   0.0 :  None : False : False : NonNegativeReals\n",
            "         (2, 10) :     0 :   0.0 :  None : False : False : NonNegativeReals\n",
            "         (2, 11) :     0 :   0.0 :  None : False : False : NonNegativeReals\n",
            "          (3, 0) :     0 :   0.0 :  None : False : False : NonNegativeReals\n",
            "          (3, 1) :     0 :   0.0 :  None : False : False : NonNegativeReals\n",
            "          (3, 2) :     0 :   0.0 :  None : False : False : NonNegativeReals\n",
            "          (3, 3) :     0 :   0.0 :  None : False : False : NonNegativeReals\n",
            "          (3, 4) :     0 :   0.0 :  None : False : False : NonNegativeReals\n",
            "          (3, 5) :     0 :   1.0 :  None : False : False : NonNegativeReals\n",
            "          (3, 6) :     0 :   0.0 :  None : False : False : NonNegativeReals\n",
            "          (3, 7) :     0 :   0.0 :  None : False : False : NonNegativeReals\n",
            "          (3, 8) :     0 :   0.0 :  None : False : False : NonNegativeReals\n",
            "          (3, 9) :     0 :   0.0 :  None : False : False : NonNegativeReals\n",
            "         (3, 10) :     0 :   0.0 :  None : False : False : NonNegativeReals\n",
            "         (3, 11) :     0 :   0.0 :  None : False : False : NonNegativeReals\n",
            "          (4, 0) :     0 :   0.0 :  None : False : False : NonNegativeReals\n",
            "          (4, 1) :     0 :   0.0 :  None : False : False : NonNegativeReals\n",
            "          (4, 2) :     0 :   1.0 :  None : False : False : NonNegativeReals\n",
            "          (4, 3) :     0 :   0.0 :  None : False : False : NonNegativeReals\n",
            "          (4, 4) :     0 :   0.0 :  None : False : False : NonNegativeReals\n",
            "          (4, 5) :     0 :   0.0 :  None : False : False : NonNegativeReals\n",
            "          (4, 6) :     0 :   0.0 :  None : False : False : NonNegativeReals\n",
            "          (4, 7) :     0 :   0.0 :  None : False : False : NonNegativeReals\n",
            "          (4, 8) :     0 :   0.0 :  None : False : False : NonNegativeReals\n",
            "          (4, 9) :     0 :   0.0 :  None : False : False : NonNegativeReals\n",
            "         (4, 10) :     0 :   0.0 :  None : False : False : NonNegativeReals\n",
            "         (4, 11) :     0 :   0.0 :  None : False : False : NonNegativeReals\n",
            "          (5, 0) :     0 :   0.0 :  None : False : False : NonNegativeReals\n",
            "          (5, 1) :     0 :   0.0 :  None : False : False : NonNegativeReals\n",
            "          (5, 2) :     0 :   0.0 :  None : False : False : NonNegativeReals\n",
            "          (5, 3) :     0 :   0.0 :  None : False : False : NonNegativeReals\n",
            "          (5, 4) :     0 :   0.0 :  None : False : False : NonNegativeReals\n",
            "          (5, 5) :     0 :   0.0 :  None : False : False : NonNegativeReals\n",
            "          (5, 6) :     0 :   0.0 :  None : False : False : NonNegativeReals\n",
            "          (5, 7) :     0 :   0.0 :  None : False : False : NonNegativeReals\n",
            "          (5, 8) :     0 :   0.0 :  None : False : False : NonNegativeReals\n",
            "          (5, 9) :     0 :   0.0 :  None : False : False : NonNegativeReals\n",
            "         (5, 10) :     0 :   0.0 :  None : False : False : NonNegativeReals\n",
            "         (5, 11) :     0 :   1.0 :  None : False : False : NonNegativeReals\n",
            "          (6, 0) :     0 :   0.0 :  None : False : False : NonNegativeReals\n",
            "          (6, 1) :     0 :   0.0 :  None : False : False : NonNegativeReals\n",
            "          (6, 2) :     0 :   0.0 :  None : False : False : NonNegativeReals\n",
            "          (6, 3) :     0 :   0.0 :  None : False : False : NonNegativeReals\n",
            "          (6, 4) :     0 :   0.0 :  None : False : False : NonNegativeReals\n",
            "          (6, 5) :     0 :   0.0 :  None : False : False : NonNegativeReals\n",
            "          (6, 6) :     0 :   1.0 :  None : False : False : NonNegativeReals\n",
            "          (6, 7) :     0 :   0.0 :  None : False : False : NonNegativeReals\n",
            "          (6, 8) :     0 :   0.0 :  None : False : False : NonNegativeReals\n",
            "          (6, 9) :     0 :   0.0 :  None : False : False : NonNegativeReals\n",
            "         (6, 10) :     0 :   0.0 :  None : False : False : NonNegativeReals\n",
            "         (6, 11) :     0 :   0.0 :  None : False : False : NonNegativeReals\n",
            "          (7, 0) :     0 :   0.0 :  None : False : False : NonNegativeReals\n",
            "          (7, 1) :     0 :   0.0 :  None : False : False : NonNegativeReals\n",
            "          (7, 2) :     0 :   0.0 :  None : False : False : NonNegativeReals\n",
            "          (7, 3) :     0 :   1.0 :  None : False : False : NonNegativeReals\n",
            "          (7, 4) :     0 :   0.0 :  None : False : False : NonNegativeReals\n",
            "          (7, 5) :     0 :   0.0 :  None : False : False : NonNegativeReals\n",
            "          (7, 6) :     0 :   0.0 :  None : False : False : NonNegativeReals\n",
            "          (7, 7) :     0 :   0.0 :  None : False : False : NonNegativeReals\n",
            "          (7, 8) :     0 :   0.0 :  None : False : False : NonNegativeReals\n",
            "          (7, 9) :     0 :   0.0 :  None : False : False : NonNegativeReals\n",
            "         (7, 10) :     0 :   0.0 :  None : False : False : NonNegativeReals\n",
            "         (7, 11) :     0 :   0.0 :  None : False : False : NonNegativeReals\n",
            "          (8, 0) :     0 :   0.0 :  None : False : False : NonNegativeReals\n",
            "          (8, 1) :     0 :   0.0 :  None : False : False : NonNegativeReals\n",
            "          (8, 2) :     0 :   0.0 :  None : False : False : NonNegativeReals\n",
            "          (8, 3) :     0 :   0.0 :  None : False : False : NonNegativeReals\n",
            "          (8, 4) :     0 :   0.0 :  None : False : False : NonNegativeReals\n",
            "          (8, 5) :     0 :   0.0 :  None : False : False : NonNegativeReals\n",
            "          (8, 6) :     0 :   0.0 :  None : False : False : NonNegativeReals\n",
            "          (8, 7) :     0 :   0.0 :  None : False : False : NonNegativeReals\n",
            "          (8, 8) :     0 :   0.0 :  None : False : False : NonNegativeReals\n",
            "          (8, 9) :     0 :   1.0 :  None : False : False : NonNegativeReals\n",
            "         (8, 10) :     0 :   0.0 :  None : False : False : NonNegativeReals\n",
            "         (8, 11) :     0 :   0.0 :  None : False : False : NonNegativeReals\n",
            "          (9, 0) :     0 :   1.0 :  None : False : False : NonNegativeReals\n",
            "          (9, 1) :     0 :   0.0 :  None : False : False : NonNegativeReals\n",
            "          (9, 2) :     0 :   0.0 :  None : False : False : NonNegativeReals\n",
            "          (9, 3) :     0 :   0.0 :  None : False : False : NonNegativeReals\n",
            "          (9, 4) :     0 :   0.0 :  None : False : False : NonNegativeReals\n",
            "          (9, 5) :     0 :   0.0 :  None : False : False : NonNegativeReals\n",
            "          (9, 6) :     0 :   0.0 :  None : False : False : NonNegativeReals\n",
            "          (9, 7) :     0 :   0.0 :  None : False : False : NonNegativeReals\n",
            "          (9, 8) :     0 :   0.0 :  None : False : False : NonNegativeReals\n",
            "          (9, 9) :     0 :   0.0 :  None : False : False : NonNegativeReals\n",
            "         (9, 10) :     0 :   0.0 :  None : False : False : NonNegativeReals\n",
            "         (9, 11) :     0 :   0.0 :  None : False : False : NonNegativeReals\n",
            "         (10, 0) :     0 :   0.0 :  None : False : False : NonNegativeReals\n",
            "         (10, 1) :     0 :   1.0 :  None : False : False : NonNegativeReals\n",
            "         (10, 2) :     0 :   0.0 :  None : False : False : NonNegativeReals\n",
            "         (10, 3) :     0 :   0.0 :  None : False : False : NonNegativeReals\n",
            "         (10, 4) :     0 :   0.0 :  None : False : False : NonNegativeReals\n",
            "         (10, 5) :     0 :   0.0 :  None : False : False : NonNegativeReals\n",
            "         (10, 6) :     0 :   0.0 :  None : False : False : NonNegativeReals\n",
            "         (10, 7) :     0 :   0.0 :  None : False : False : NonNegativeReals\n",
            "         (10, 8) :     0 :   0.0 :  None : False : False : NonNegativeReals\n",
            "         (10, 9) :     0 :   0.0 :  None : False : False : NonNegativeReals\n",
            "        (10, 10) :     0 :   0.0 :  None : False : False : NonNegativeReals\n",
            "        (10, 11) :     0 :   0.0 :  None : False : False : NonNegativeReals\n",
            "         (11, 0) :     0 :   0.0 :  None : False : False : NonNegativeReals\n",
            "         (11, 1) :     0 :   0.0 :  None : False : False : NonNegativeReals\n",
            "         (11, 2) :     0 :   0.0 :  None : False : False : NonNegativeReals\n",
            "         (11, 3) :     0 :   0.0 :  None : False : False : NonNegativeReals\n",
            "         (11, 4) :     0 :   1.0 :  None : False : False : NonNegativeReals\n",
            "         (11, 5) :     0 :   0.0 :  None : False : False : NonNegativeReals\n",
            "         (11, 6) :     0 :   0.0 :  None : False : False : NonNegativeReals\n",
            "         (11, 7) :     0 :   0.0 :  None : False : False : NonNegativeReals\n",
            "         (11, 8) :     0 :   0.0 :  None : False : False : NonNegativeReals\n",
            "         (11, 9) :     0 :   0.0 :  None : False : False : NonNegativeReals\n",
            "        (11, 10) :     0 :   0.0 :  None : False : False : NonNegativeReals\n",
            "        (11, 11) :     0 :   0.0 :  None : False : False : NonNegativeReals\n",
            "\n",
            "1 Objective Declarations\n",
            "    objective : Size=1, Index=None, Active=True\n",
            "        Key  : Active : Sense    : Expression\n",
            "        None :   True : minimize : 21.0*x[0,0] + 25.0*x[0,1] + 18.0*x[0,2] + 19.0*x[0,3] + 23.0*x[0,4] + 24.0*x[0,5] + 16.0*x[0,6] + 17.0*x[0,7] + 21.0*x[0,8] + 23.0*x[0,9] + 19.0*x[0,10] + 21.0*x[0,11] + 19.0*x[1,0] + 22.0*x[1,1] + 19.0*x[1,2] + 19.0*x[1,3] + 23.0*x[1,4] + 21.0*x[1,5] + 15.0*x[1,6] + 20.0*x[1,7] + 16.0*x[1,8] + 17.0*x[1,9] + 17.0*x[1,10] + 24.0*x[1,11] + 21.0*x[2,0] + 19.0*x[2,1] + 20.0*x[2,2] + 18.0*x[2,3] + 22.0*x[2,4] + 24.0*x[2,5] + 14.0*x[2,6] + 16.0*x[2,7] + 18.0*x[2,8] + 16.0*x[2,9] + 20.0*x[2,10] + 24.0*x[2,11] + 19.0*x[3,0] + 22.0*x[3,1] + 17.0*x[3,2] + 17.0*x[3,3] + 22.0*x[3,4] + 22.0*x[3,5] + 18.0*x[3,6] + 18.0*x[3,7] + 20.0*x[3,8] + 21.0*x[3,9] + 23.0*x[3,10] + 23.0*x[3,11] + 18.0*x[4,0] + 22.0*x[4,1] + 15.0*x[4,2] + 15.0*x[4,3] + 23.0*x[4,4] + 23.0*x[4,5] + 21.0*x[4,6] + 25.0*x[4,7] + 24.0*x[4,8] + 19.0*x[4,9] + 21.0*x[4,10] + 23.0*x[4,11] + 23.0*x[5,0] + 19.0*x[5,1] + 19.0*x[5,2] + 14.0*x[5,3] + 24.0*x[5,4] + 21.0*x[5,5] + 23.0*x[5,6] + 21.0*x[5,7] + 20.0*x[5,8] + 20.0*x[5,9] + 22.0*x[5,10] + 19.0*x[5,11] + 21.0*x[6,0] + 16.0*x[6,1] + 27.0*x[6,2] + 17.0*x[6,3] + 26.0*x[6,4] + 27.0*x[6,5] + 16.0*x[6,6] + 19.0*x[6,7] + 24.0*x[6,8] + 20.0*x[6,9] + 20.0*x[6,10] + 23.0*x[6,11] + 22.0*x[7,0] + 17.0*x[7,1] + 21.0*x[7,2] + 15.0*x[7,3] + 23.0*x[7,4] + 24.0*x[7,5] + 24.0*x[7,6] + 20.0*x[7,7] + 22.0*x[7,8] + 19.0*x[7,9] + 23.0*x[7,10] + 21.0*x[7,11] + 23.0*x[8,0] + 24.0*x[8,1] + 18.0*x[8,2] + 19.0*x[8,3] + 22.0*x[8,4] + 23.0*x[8,5] + 21.0*x[8,6] + 18.0*x[8,7] + 23.0*x[8,8] + 15.0*x[8,9] + 25.0*x[8,10] + 21.0*x[8,11] + 18.0*x[9,0] + 21.0*x[9,1] + 21.0*x[9,2] + 18.0*x[9,3] + 26.0*x[9,4] + 24.0*x[9,5] + 18.0*x[9,6] + 17.0*x[9,7] + 18.0*x[9,8] + 20.0*x[9,9] + 21.0*x[9,10] + 20.0*x[9,11] + 19.0*x[10,0] + 12.0*x[10,1] + 21.0*x[10,2] + 19.0*x[10,3] + 23.0*x[10,4] + 20.0*x[10,5] + 22.0*x[10,6] + 19.0*x[10,7] + 17.0*x[10,8] + 19.0*x[10,9] + 20.0*x[10,10] + 24.0*x[10,11] + 18.0*x[11,0] + 22.0*x[11,1] + 24.0*x[11,2] + 17.0*x[11,3] + 21.0*x[11,4] + 28.0*x[11,5] + 18.0*x[11,6] + 16.0*x[11,7] + 22.0*x[11,8] + 24.0*x[11,9] + 25.0*x[11,10] + 24.0*x[11,11]\n",
            "\n",
            "1 Constraint Declarations\n",
            "    constraints : Size=24, Index=constraints_index, Active=True\n",
            "        Key : Lower : Body                                                                                                                    : Upper : Active\n",
            "          1 :   1.0 :             x[0,0] + x[0,1] + x[0,2] + x[0,3] + x[0,4] + x[0,5] + x[0,6] + x[0,7] + x[0,8] + x[0,9] + x[0,10] + x[0,11] :   1.0 :   True\n",
            "          2 :   1.0 :             x[1,0] + x[1,1] + x[1,2] + x[1,3] + x[1,4] + x[1,5] + x[1,6] + x[1,7] + x[1,8] + x[1,9] + x[1,10] + x[1,11] :   1.0 :   True\n",
            "          3 :   1.0 :             x[2,0] + x[2,1] + x[2,2] + x[2,3] + x[2,4] + x[2,5] + x[2,6] + x[2,7] + x[2,8] + x[2,9] + x[2,10] + x[2,11] :   1.0 :   True\n",
            "          4 :   1.0 :             x[3,0] + x[3,1] + x[3,2] + x[3,3] + x[3,4] + x[3,5] + x[3,6] + x[3,7] + x[3,8] + x[3,9] + x[3,10] + x[3,11] :   1.0 :   True\n",
            "          5 :   1.0 :             x[4,0] + x[4,1] + x[4,2] + x[4,3] + x[4,4] + x[4,5] + x[4,6] + x[4,7] + x[4,8] + x[4,9] + x[4,10] + x[4,11] :   1.0 :   True\n",
            "          6 :   1.0 :             x[5,0] + x[5,1] + x[5,2] + x[5,3] + x[5,4] + x[5,5] + x[5,6] + x[5,7] + x[5,8] + x[5,9] + x[5,10] + x[5,11] :   1.0 :   True\n",
            "          7 :   1.0 :             x[6,0] + x[6,1] + x[6,2] + x[6,3] + x[6,4] + x[6,5] + x[6,6] + x[6,7] + x[6,8] + x[6,9] + x[6,10] + x[6,11] :   1.0 :   True\n",
            "          8 :   1.0 :             x[7,0] + x[7,1] + x[7,2] + x[7,3] + x[7,4] + x[7,5] + x[7,6] + x[7,7] + x[7,8] + x[7,9] + x[7,10] + x[7,11] :   1.0 :   True\n",
            "          9 :   1.0 :             x[8,0] + x[8,1] + x[8,2] + x[8,3] + x[8,4] + x[8,5] + x[8,6] + x[8,7] + x[8,8] + x[8,9] + x[8,10] + x[8,11] :   1.0 :   True\n",
            "         10 :   1.0 :             x[9,0] + x[9,1] + x[9,2] + x[9,3] + x[9,4] + x[9,5] + x[9,6] + x[9,7] + x[9,8] + x[9,9] + x[9,10] + x[9,11] :   1.0 :   True\n",
            "         11 :   1.0 : x[10,0] + x[10,1] + x[10,2] + x[10,3] + x[10,4] + x[10,5] + x[10,6] + x[10,7] + x[10,8] + x[10,9] + x[10,10] + x[10,11] :   1.0 :   True\n",
            "         12 :   1.0 : x[11,0] + x[11,1] + x[11,2] + x[11,3] + x[11,4] + x[11,5] + x[11,6] + x[11,7] + x[11,8] + x[11,9] + x[11,10] + x[11,11] :   1.0 :   True\n",
            "         13 :   1.0 :             x[0,0] + x[1,0] + x[2,0] + x[3,0] + x[4,0] + x[5,0] + x[6,0] + x[7,0] + x[8,0] + x[9,0] + x[10,0] + x[11,0] :   1.0 :   True\n",
            "         14 :   1.0 :             x[0,1] + x[1,1] + x[2,1] + x[3,1] + x[4,1] + x[5,1] + x[6,1] + x[7,1] + x[8,1] + x[9,1] + x[10,1] + x[11,1] :   1.0 :   True\n",
            "         15 :   1.0 :             x[0,2] + x[1,2] + x[2,2] + x[3,2] + x[4,2] + x[5,2] + x[6,2] + x[7,2] + x[8,2] + x[9,2] + x[10,2] + x[11,2] :   1.0 :   True\n",
            "         16 :   1.0 :             x[0,3] + x[1,3] + x[2,3] + x[3,3] + x[4,3] + x[5,3] + x[6,3] + x[7,3] + x[8,3] + x[9,3] + x[10,3] + x[11,3] :   1.0 :   True\n",
            "         17 :   1.0 :             x[0,4] + x[1,4] + x[2,4] + x[3,4] + x[4,4] + x[5,4] + x[6,4] + x[7,4] + x[8,4] + x[9,4] + x[10,4] + x[11,4] :   1.0 :   True\n",
            "         18 :   1.0 :             x[0,5] + x[1,5] + x[2,5] + x[3,5] + x[4,5] + x[5,5] + x[6,5] + x[7,5] + x[8,5] + x[9,5] + x[10,5] + x[11,5] :   1.0 :   True\n",
            "         19 :   1.0 :             x[0,6] + x[1,6] + x[2,6] + x[3,6] + x[4,6] + x[5,6] + x[6,6] + x[7,6] + x[8,6] + x[9,6] + x[10,6] + x[11,6] :   1.0 :   True\n",
            "         20 :   1.0 :             x[0,7] + x[1,7] + x[2,7] + x[3,7] + x[4,7] + x[5,7] + x[6,7] + x[7,7] + x[8,7] + x[9,7] + x[10,7] + x[11,7] :   1.0 :   True\n",
            "         21 :   1.0 :             x[0,8] + x[1,8] + x[2,8] + x[3,8] + x[4,8] + x[5,8] + x[6,8] + x[7,8] + x[8,8] + x[9,8] + x[10,8] + x[11,8] :   1.0 :   True\n",
            "         22 :   1.0 :             x[0,9] + x[1,9] + x[2,9] + x[3,9] + x[4,9] + x[5,9] + x[6,9] + x[7,9] + x[8,9] + x[9,9] + x[10,9] + x[11,9] :   1.0 :   True\n",
            "         23 :   1.0 : x[0,10] + x[1,10] + x[2,10] + x[3,10] + x[4,10] + x[5,10] + x[6,10] + x[7,10] + x[8,10] + x[9,10] + x[10,10] + x[11,10] :   1.0 :   True\n",
            "         24 :   1.0 : x[0,11] + x[1,11] + x[2,11] + x[3,11] + x[4,11] + x[5,11] + x[6,11] + x[7,11] + x[8,11] + x[9,11] + x[10,11] + x[11,11] :   1.0 :   True\n",
            "\n",
            "7 Declarations: x_index_0 x_index_1 x_index x objective constraints_index constraints\n"
          ]
        }
      ]
    },
    {
      "cell_type": "code",
      "source": [
        "result = opt_cbc.solve(model_lab6_ex2)\n",
        "print('Solver status:', result.solver.status)\n",
        "print('Solver termination condition:',result.solver.termination_condition)"
      ],
      "metadata": {
        "id": "lBcNHL6VRdzC",
        "outputId": "0f21a2ed-fe81-44a4-ad2f-42625afd668f",
        "colab": {
          "base_uri": "https://localhost:8080/"
        }
      },
      "execution_count": 23,
      "outputs": [
        {
          "output_type": "stream",
          "name": "stdout",
          "text": [
            "Solver status: ok\n",
            "Solver termination condition: optimal\n"
          ]
        }
      ]
    },
    {
      "cell_type": "code",
      "source": [
        "# display solution\n",
        "print('\\nObjective = ', model_lab6_ex2.objective())\n",
        "\n",
        "print('\\nDecision Variables')\n",
        "for i in row_indices:\n",
        "  for j in col_indices:\n",
        "    if model_lab6_ex2.x[i, j].value == 1:\n",
        "      print('Factory', i+1, 'is to be located at', j+1)\n",
        "\n",
        "print('\\nConstraints')\n",
        "model_lab6_ex2.constraints.display()"
      ],
      "metadata": {
        "id": "ra4PjU8cRqDk",
        "outputId": "34d833e1-19fd-4da5-d1aa-5642e5b0e09f",
        "colab": {
          "base_uri": "https://localhost:8080/"
        }
      },
      "execution_count": 24,
      "outputs": [
        {
          "output_type": "stream",
          "name": "stdout",
          "text": [
            "\n",
            "Objective =  204.0\n",
            "\n",
            "Decision Variables\n",
            "Factory 1 is to be located at 11\n",
            "Factory 2 is to be located at 9\n",
            "Factory 3 is to be located at 8\n",
            "Factory 4 is to be located at 6\n",
            "Factory 5 is to be located at 3\n",
            "Factory 6 is to be located at 12\n",
            "Factory 7 is to be located at 7\n",
            "Factory 8 is to be located at 4\n",
            "Factory 9 is to be located at 10\n",
            "Factory 10 is to be located at 1\n",
            "Factory 11 is to be located at 2\n",
            "Factory 12 is to be located at 5\n",
            "\n",
            "Constraints\n",
            "constraints : Size=24\n",
            "    Key : Lower : Body : Upper\n",
            "      1 :   1.0 :  1.0 :   1.0\n",
            "      2 :   1.0 :  1.0 :   1.0\n",
            "      3 :   1.0 :  1.0 :   1.0\n",
            "      4 :   1.0 :  1.0 :   1.0\n",
            "      5 :   1.0 :  1.0 :   1.0\n",
            "      6 :   1.0 :  1.0 :   1.0\n",
            "      7 :   1.0 :  1.0 :   1.0\n",
            "      8 :   1.0 :  1.0 :   1.0\n",
            "      9 :   1.0 :  1.0 :   1.0\n",
            "     10 :   1.0 :  1.0 :   1.0\n",
            "     11 :   1.0 :  1.0 :   1.0\n",
            "     12 :   1.0 :  1.0 :   1.0\n",
            "     13 :   1.0 :  1.0 :   1.0\n",
            "     14 :   1.0 :  1.0 :   1.0\n",
            "     15 :   1.0 :  1.0 :   1.0\n",
            "     16 :   1.0 :  1.0 :   1.0\n",
            "     17 :   1.0 :  1.0 :   1.0\n",
            "     18 :   1.0 :  1.0 :   1.0\n",
            "     19 :   1.0 :  1.0 :   1.0\n",
            "     20 :   1.0 :  1.0 :   1.0\n",
            "     21 :   1.0 :  1.0 :   1.0\n",
            "     22 :   1.0 :  1.0 :   1.0\n",
            "     23 :   1.0 :  1.0 :   1.0\n",
            "     24 :   1.0 :  1.0 :   1.0\n"
          ]
        }
      ]
    },
    {
      "cell_type": "code",
      "source": [
        "#change in the txt file\n",
        "data_txtfile[2, 3] = 200000000\n",
        "data_txtfile[8, 6] = 300000000\n",
        "data_txtfile[3, 9] = 200000000"
      ],
      "metadata": {
        "id": "jSDoRMuWTJ-e"
      },
      "execution_count": 25,
      "outputs": []
    },
    {
      "cell_type": "code",
      "source": [
        "#again change the domain to it's original form\n",
        "for i in row_indices:\n",
        "  for j in col_indices:\n",
        "    model_lab6_ex2.x[i, j].domain=NonNegativeIntegers"
      ],
      "metadata": {
        "id": "7GDNrlVYTmNM"
      },
      "execution_count": 26,
      "outputs": []
    },
    {
      "cell_type": "code",
      "source": [
        "model_lab6_ex2.objective = Objective(expr=sum(data_txtfile[i,j]*model_lab6_ex2.x[i,j] for i in row_indices for j in col_indices),sense=minimize)"
      ],
      "metadata": {
        "id": "DW1tkGoDTxn7",
        "outputId": "e268d27d-df0d-40e8-c232-25e955390e36",
        "colab": {
          "base_uri": "https://localhost:8080/"
        }
      },
      "execution_count": 27,
      "outputs": [
        {
          "output_type": "stream",
          "name": "stderr",
          "text": [
            "WARNING:pyomo.core:Implicitly replacing the Component attribute objective (type=<class 'pyomo.core.base.objective.ScalarObjective'>) on block unknown with a new Component (type=<class 'pyomo.core.base.objective.ScalarObjective'>).\n",
            "This is usually indicative of a modelling error.\n",
            "To avoid this warning, use block.del_component() and block.add_component().\n"
          ]
        }
      ]
    },
    {
      "cell_type": "code",
      "source": [
        "model_lab6_ex2.pprint()"
      ],
      "metadata": {
        "id": "0bk7TZXPUSLt",
        "outputId": "9d5a6fc1-1335-4910-fb73-b917ce3b6c2a",
        "colab": {
          "base_uri": "https://localhost:8080/"
        }
      },
      "execution_count": 28,
      "outputs": [
        {
          "output_type": "stream",
          "name": "stdout",
          "text": [
            "4 Set Declarations\n",
            "    constraints_index : Size=1, Index=None, Ordered=Insertion\n",
            "        Key  : Dimen : Domain : Size : Members\n",
            "        None :     1 :    Any :   24 : {1, 2, 3, 4, 5, 6, 7, 8, 9, 10, 11, 12, 13, 14, 15, 16, 17, 18, 19, 20, 21, 22, 23, 24}\n",
            "    x_index : Size=1, Index=None, Ordered=True\n",
            "        Key  : Dimen : Domain              : Size : Members\n",
            "        None :     2 : x_index_0*x_index_1 :  144 : {(0, 0), (0, 1), (0, 2), (0, 3), (0, 4), (0, 5), (0, 6), (0, 7), (0, 8), (0, 9), (0, 10), (0, 11), (1, 0), (1, 1), (1, 2), (1, 3), (1, 4), (1, 5), (1, 6), (1, 7), (1, 8), (1, 9), (1, 10), (1, 11), (2, 0), (2, 1), (2, 2), (2, 3), (2, 4), (2, 5), (2, 6), (2, 7), (2, 8), (2, 9), (2, 10), (2, 11), (3, 0), (3, 1), (3, 2), (3, 3), (3, 4), (3, 5), (3, 6), (3, 7), (3, 8), (3, 9), (3, 10), (3, 11), (4, 0), (4, 1), (4, 2), (4, 3), (4, 4), (4, 5), (4, 6), (4, 7), (4, 8), (4, 9), (4, 10), (4, 11), (5, 0), (5, 1), (5, 2), (5, 3), (5, 4), (5, 5), (5, 6), (5, 7), (5, 8), (5, 9), (5, 10), (5, 11), (6, 0), (6, 1), (6, 2), (6, 3), (6, 4), (6, 5), (6, 6), (6, 7), (6, 8), (6, 9), (6, 10), (6, 11), (7, 0), (7, 1), (7, 2), (7, 3), (7, 4), (7, 5), (7, 6), (7, 7), (7, 8), (7, 9), (7, 10), (7, 11), (8, 0), (8, 1), (8, 2), (8, 3), (8, 4), (8, 5), (8, 6), (8, 7), (8, 8), (8, 9), (8, 10), (8, 11), (9, 0), (9, 1), (9, 2), (9, 3), (9, 4), (9, 5), (9, 6), (9, 7), (9, 8), (9, 9), (9, 10), (9, 11), (10, 0), (10, 1), (10, 2), (10, 3), (10, 4), (10, 5), (10, 6), (10, 7), (10, 8), (10, 9), (10, 10), (10, 11), (11, 0), (11, 1), (11, 2), (11, 3), (11, 4), (11, 5), (11, 6), (11, 7), (11, 8), (11, 9), (11, 10), (11, 11)}\n",
            "    x_index_0 : Size=1, Index=None, Ordered=Insertion\n",
            "        Key  : Dimen : Domain : Size : Members\n",
            "        None :     1 :    Any :   12 : {0, 1, 2, 3, 4, 5, 6, 7, 8, 9, 10, 11}\n",
            "    x_index_1 : Size=1, Index=None, Ordered=Insertion\n",
            "        Key  : Dimen : Domain : Size : Members\n",
            "        None :     1 :    Any :   12 : {0, 1, 2, 3, 4, 5, 6, 7, 8, 9, 10, 11}\n",
            "\n",
            "1 Var Declarations\n",
            "    x : Size=144, Index=x_index\n",
            "        Key      : Lower : Value : Upper : Fixed : Stale : Domain\n",
            "          (0, 0) :     0 :   0.0 :  None : False : False : NonNegativeIntegers\n",
            "          (0, 1) :     0 :   0.0 :  None : False : False : NonNegativeIntegers\n",
            "          (0, 2) :     0 :   0.0 :  None : False : False : NonNegativeIntegers\n",
            "          (0, 3) :     0 :   0.0 :  None : False : False : NonNegativeIntegers\n",
            "          (0, 4) :     0 :   0.0 :  None : False : False : NonNegativeIntegers\n",
            "          (0, 5) :     0 :   0.0 :  None : False : False : NonNegativeIntegers\n",
            "          (0, 6) :     0 :   0.0 :  None : False : False : NonNegativeIntegers\n",
            "          (0, 7) :     0 :   0.0 :  None : False : False : NonNegativeIntegers\n",
            "          (0, 8) :     0 :   0.0 :  None : False : False : NonNegativeIntegers\n",
            "          (0, 9) :     0 :   0.0 :  None : False : False : NonNegativeIntegers\n",
            "         (0, 10) :     0 :   1.0 :  None : False : False : NonNegativeIntegers\n",
            "         (0, 11) :     0 :   0.0 :  None : False : False : NonNegativeIntegers\n",
            "          (1, 0) :     0 :   0.0 :  None : False : False : NonNegativeIntegers\n",
            "          (1, 1) :     0 :   0.0 :  None : False : False : NonNegativeIntegers\n",
            "          (1, 2) :     0 :   0.0 :  None : False : False : NonNegativeIntegers\n",
            "          (1, 3) :     0 :   0.0 :  None : False : False : NonNegativeIntegers\n",
            "          (1, 4) :     0 :   0.0 :  None : False : False : NonNegativeIntegers\n",
            "          (1, 5) :     0 :   0.0 :  None : False : False : NonNegativeIntegers\n",
            "          (1, 6) :     0 :   0.0 :  None : False : False : NonNegativeIntegers\n",
            "          (1, 7) :     0 :   0.0 :  None : False : False : NonNegativeIntegers\n",
            "          (1, 8) :     0 :   1.0 :  None : False : False : NonNegativeIntegers\n",
            "          (1, 9) :     0 :   0.0 :  None : False : False : NonNegativeIntegers\n",
            "         (1, 10) :     0 :   0.0 :  None : False : False : NonNegativeIntegers\n",
            "         (1, 11) :     0 :   0.0 :  None : False : False : NonNegativeIntegers\n",
            "          (2, 0) :     0 :   0.0 :  None : False : False : NonNegativeIntegers\n",
            "          (2, 1) :     0 :   0.0 :  None : False : False : NonNegativeIntegers\n",
            "          (2, 2) :     0 :   0.0 :  None : False : False : NonNegativeIntegers\n",
            "          (2, 3) :     0 :   0.0 :  None : False : False : NonNegativeIntegers\n",
            "          (2, 4) :     0 :   0.0 :  None : False : False : NonNegativeIntegers\n",
            "          (2, 5) :     0 :   0.0 :  None : False : False : NonNegativeIntegers\n",
            "          (2, 6) :     0 :   0.0 :  None : False : False : NonNegativeIntegers\n",
            "          (2, 7) :     0 :   1.0 :  None : False : False : NonNegativeIntegers\n",
            "          (2, 8) :     0 :   0.0 :  None : False : False : NonNegativeIntegers\n",
            "          (2, 9) :     0 :   0.0 :  None : False : False : NonNegativeIntegers\n",
            "         (2, 10) :     0 :   0.0 :  None : False : False : NonNegativeIntegers\n",
            "         (2, 11) :     0 :   0.0 :  None : False : False : NonNegativeIntegers\n",
            "          (3, 0) :     0 :   0.0 :  None : False : False : NonNegativeIntegers\n",
            "          (3, 1) :     0 :   0.0 :  None : False : False : NonNegativeIntegers\n",
            "          (3, 2) :     0 :   0.0 :  None : False : False : NonNegativeIntegers\n",
            "          (3, 3) :     0 :   0.0 :  None : False : False : NonNegativeIntegers\n",
            "          (3, 4) :     0 :   0.0 :  None : False : False : NonNegativeIntegers\n",
            "          (3, 5) :     0 :   1.0 :  None : False : False : NonNegativeIntegers\n",
            "          (3, 6) :     0 :   0.0 :  None : False : False : NonNegativeIntegers\n",
            "          (3, 7) :     0 :   0.0 :  None : False : False : NonNegativeIntegers\n",
            "          (3, 8) :     0 :   0.0 :  None : False : False : NonNegativeIntegers\n",
            "          (3, 9) :     0 :   0.0 :  None : False : False : NonNegativeIntegers\n",
            "         (3, 10) :     0 :   0.0 :  None : False : False : NonNegativeIntegers\n",
            "         (3, 11) :     0 :   0.0 :  None : False : False : NonNegativeIntegers\n",
            "          (4, 0) :     0 :   0.0 :  None : False : False : NonNegativeIntegers\n",
            "          (4, 1) :     0 :   0.0 :  None : False : False : NonNegativeIntegers\n",
            "          (4, 2) :     0 :   1.0 :  None : False : False : NonNegativeIntegers\n",
            "          (4, 3) :     0 :   0.0 :  None : False : False : NonNegativeIntegers\n",
            "          (4, 4) :     0 :   0.0 :  None : False : False : NonNegativeIntegers\n",
            "          (4, 5) :     0 :   0.0 :  None : False : False : NonNegativeIntegers\n",
            "          (4, 6) :     0 :   0.0 :  None : False : False : NonNegativeIntegers\n",
            "          (4, 7) :     0 :   0.0 :  None : False : False : NonNegativeIntegers\n",
            "          (4, 8) :     0 :   0.0 :  None : False : False : NonNegativeIntegers\n",
            "          (4, 9) :     0 :   0.0 :  None : False : False : NonNegativeIntegers\n",
            "         (4, 10) :     0 :   0.0 :  None : False : False : NonNegativeIntegers\n",
            "         (4, 11) :     0 :   0.0 :  None : False : False : NonNegativeIntegers\n",
            "          (5, 0) :     0 :   0.0 :  None : False : False : NonNegativeIntegers\n",
            "          (5, 1) :     0 :   0.0 :  None : False : False : NonNegativeIntegers\n",
            "          (5, 2) :     0 :   0.0 :  None : False : False : NonNegativeIntegers\n",
            "          (5, 3) :     0 :   0.0 :  None : False : False : NonNegativeIntegers\n",
            "          (5, 4) :     0 :   0.0 :  None : False : False : NonNegativeIntegers\n",
            "          (5, 5) :     0 :   0.0 :  None : False : False : NonNegativeIntegers\n",
            "          (5, 6) :     0 :   0.0 :  None : False : False : NonNegativeIntegers\n",
            "          (5, 7) :     0 :   0.0 :  None : False : False : NonNegativeIntegers\n",
            "          (5, 8) :     0 :   0.0 :  None : False : False : NonNegativeIntegers\n",
            "          (5, 9) :     0 :   0.0 :  None : False : False : NonNegativeIntegers\n",
            "         (5, 10) :     0 :   0.0 :  None : False : False : NonNegativeIntegers\n",
            "         (5, 11) :     0 :   1.0 :  None : False : False : NonNegativeIntegers\n",
            "          (6, 0) :     0 :   0.0 :  None : False : False : NonNegativeIntegers\n",
            "          (6, 1) :     0 :   0.0 :  None : False : False : NonNegativeIntegers\n",
            "          (6, 2) :     0 :   0.0 :  None : False : False : NonNegativeIntegers\n",
            "          (6, 3) :     0 :   0.0 :  None : False : False : NonNegativeIntegers\n",
            "          (6, 4) :     0 :   0.0 :  None : False : False : NonNegativeIntegers\n",
            "          (6, 5) :     0 :   0.0 :  None : False : False : NonNegativeIntegers\n",
            "          (6, 6) :     0 :   1.0 :  None : False : False : NonNegativeIntegers\n",
            "          (6, 7) :     0 :   0.0 :  None : False : False : NonNegativeIntegers\n",
            "          (6, 8) :     0 :   0.0 :  None : False : False : NonNegativeIntegers\n",
            "          (6, 9) :     0 :   0.0 :  None : False : False : NonNegativeIntegers\n",
            "         (6, 10) :     0 :   0.0 :  None : False : False : NonNegativeIntegers\n",
            "         (6, 11) :     0 :   0.0 :  None : False : False : NonNegativeIntegers\n",
            "          (7, 0) :     0 :   0.0 :  None : False : False : NonNegativeIntegers\n",
            "          (7, 1) :     0 :   0.0 :  None : False : False : NonNegativeIntegers\n",
            "          (7, 2) :     0 :   0.0 :  None : False : False : NonNegativeIntegers\n",
            "          (7, 3) :     0 :   1.0 :  None : False : False : NonNegativeIntegers\n",
            "          (7, 4) :     0 :   0.0 :  None : False : False : NonNegativeIntegers\n",
            "          (7, 5) :     0 :   0.0 :  None : False : False : NonNegativeIntegers\n",
            "          (7, 6) :     0 :   0.0 :  None : False : False : NonNegativeIntegers\n",
            "          (7, 7) :     0 :   0.0 :  None : False : False : NonNegativeIntegers\n",
            "          (7, 8) :     0 :   0.0 :  None : False : False : NonNegativeIntegers\n",
            "          (7, 9) :     0 :   0.0 :  None : False : False : NonNegativeIntegers\n",
            "         (7, 10) :     0 :   0.0 :  None : False : False : NonNegativeIntegers\n",
            "         (7, 11) :     0 :   0.0 :  None : False : False : NonNegativeIntegers\n",
            "          (8, 0) :     0 :   0.0 :  None : False : False : NonNegativeIntegers\n",
            "          (8, 1) :     0 :   0.0 :  None : False : False : NonNegativeIntegers\n",
            "          (8, 2) :     0 :   0.0 :  None : False : False : NonNegativeIntegers\n",
            "          (8, 3) :     0 :   0.0 :  None : False : False : NonNegativeIntegers\n",
            "          (8, 4) :     0 :   0.0 :  None : False : False : NonNegativeIntegers\n",
            "          (8, 5) :     0 :   0.0 :  None : False : False : NonNegativeIntegers\n",
            "          (8, 6) :     0 :   0.0 :  None : False : False : NonNegativeIntegers\n",
            "          (8, 7) :     0 :   0.0 :  None : False : False : NonNegativeIntegers\n",
            "          (8, 8) :     0 :   0.0 :  None : False : False : NonNegativeIntegers\n",
            "          (8, 9) :     0 :   1.0 :  None : False : False : NonNegativeIntegers\n",
            "         (8, 10) :     0 :   0.0 :  None : False : False : NonNegativeIntegers\n",
            "         (8, 11) :     0 :   0.0 :  None : False : False : NonNegativeIntegers\n",
            "          (9, 0) :     0 :   1.0 :  None : False : False : NonNegativeIntegers\n",
            "          (9, 1) :     0 :   0.0 :  None : False : False : NonNegativeIntegers\n",
            "          (9, 2) :     0 :   0.0 :  None : False : False : NonNegativeIntegers\n",
            "          (9, 3) :     0 :   0.0 :  None : False : False : NonNegativeIntegers\n",
            "          (9, 4) :     0 :   0.0 :  None : False : False : NonNegativeIntegers\n",
            "          (9, 5) :     0 :   0.0 :  None : False : False : NonNegativeIntegers\n",
            "          (9, 6) :     0 :   0.0 :  None : False : False : NonNegativeIntegers\n",
            "          (9, 7) :     0 :   0.0 :  None : False : False : NonNegativeIntegers\n",
            "          (9, 8) :     0 :   0.0 :  None : False : False : NonNegativeIntegers\n",
            "          (9, 9) :     0 :   0.0 :  None : False : False : NonNegativeIntegers\n",
            "         (9, 10) :     0 :   0.0 :  None : False : False : NonNegativeIntegers\n",
            "         (9, 11) :     0 :   0.0 :  None : False : False : NonNegativeIntegers\n",
            "         (10, 0) :     0 :   0.0 :  None : False : False : NonNegativeIntegers\n",
            "         (10, 1) :     0 :   1.0 :  None : False : False : NonNegativeIntegers\n",
            "         (10, 2) :     0 :   0.0 :  None : False : False : NonNegativeIntegers\n",
            "         (10, 3) :     0 :   0.0 :  None : False : False : NonNegativeIntegers\n",
            "         (10, 4) :     0 :   0.0 :  None : False : False : NonNegativeIntegers\n",
            "         (10, 5) :     0 :   0.0 :  None : False : False : NonNegativeIntegers\n",
            "         (10, 6) :     0 :   0.0 :  None : False : False : NonNegativeIntegers\n",
            "         (10, 7) :     0 :   0.0 :  None : False : False : NonNegativeIntegers\n",
            "         (10, 8) :     0 :   0.0 :  None : False : False : NonNegativeIntegers\n",
            "         (10, 9) :     0 :   0.0 :  None : False : False : NonNegativeIntegers\n",
            "        (10, 10) :     0 :   0.0 :  None : False : False : NonNegativeIntegers\n",
            "        (10, 11) :     0 :   0.0 :  None : False : False : NonNegativeIntegers\n",
            "         (11, 0) :     0 :   0.0 :  None : False : False : NonNegativeIntegers\n",
            "         (11, 1) :     0 :   0.0 :  None : False : False : NonNegativeIntegers\n",
            "         (11, 2) :     0 :   0.0 :  None : False : False : NonNegativeIntegers\n",
            "         (11, 3) :     0 :   0.0 :  None : False : False : NonNegativeIntegers\n",
            "         (11, 4) :     0 :   1.0 :  None : False : False : NonNegativeIntegers\n",
            "         (11, 5) :     0 :   0.0 :  None : False : False : NonNegativeIntegers\n",
            "         (11, 6) :     0 :   0.0 :  None : False : False : NonNegativeIntegers\n",
            "         (11, 7) :     0 :   0.0 :  None : False : False : NonNegativeIntegers\n",
            "         (11, 8) :     0 :   0.0 :  None : False : False : NonNegativeIntegers\n",
            "         (11, 9) :     0 :   0.0 :  None : False : False : NonNegativeIntegers\n",
            "        (11, 10) :     0 :   0.0 :  None : False : False : NonNegativeIntegers\n",
            "        (11, 11) :     0 :   0.0 :  None : False : False : NonNegativeIntegers\n",
            "\n",
            "1 Objective Declarations\n",
            "    objective : Size=1, Index=None, Active=True\n",
            "        Key  : Active : Sense    : Expression\n",
            "        None :   True : minimize : 21.0*x[0,0] + 25.0*x[0,1] + 18.0*x[0,2] + 19.0*x[0,3] + 23.0*x[0,4] + 24.0*x[0,5] + 16.0*x[0,6] + 17.0*x[0,7] + 21.0*x[0,8] + 23.0*x[0,9] + 19.0*x[0,10] + 21.0*x[0,11] + 19.0*x[1,0] + 22.0*x[1,1] + 19.0*x[1,2] + 19.0*x[1,3] + 23.0*x[1,4] + 21.0*x[1,5] + 15.0*x[1,6] + 20.0*x[1,7] + 16.0*x[1,8] + 17.0*x[1,9] + 17.0*x[1,10] + 24.0*x[1,11] + 21.0*x[2,0] + 19.0*x[2,1] + 20.0*x[2,2] + 200000000.0*x[2,3] + 22.0*x[2,4] + 24.0*x[2,5] + 14.0*x[2,6] + 16.0*x[2,7] + 18.0*x[2,8] + 16.0*x[2,9] + 20.0*x[2,10] + 24.0*x[2,11] + 19.0*x[3,0] + 22.0*x[3,1] + 17.0*x[3,2] + 17.0*x[3,3] + 22.0*x[3,4] + 22.0*x[3,5] + 18.0*x[3,6] + 18.0*x[3,7] + 20.0*x[3,8] + 200000000.0*x[3,9] + 23.0*x[3,10] + 23.0*x[3,11] + 18.0*x[4,0] + 22.0*x[4,1] + 15.0*x[4,2] + 15.0*x[4,3] + 23.0*x[4,4] + 23.0*x[4,5] + 21.0*x[4,6] + 25.0*x[4,7] + 24.0*x[4,8] + 19.0*x[4,9] + 21.0*x[4,10] + 23.0*x[4,11] + 23.0*x[5,0] + 19.0*x[5,1] + 19.0*x[5,2] + 14.0*x[5,3] + 24.0*x[5,4] + 21.0*x[5,5] + 23.0*x[5,6] + 21.0*x[5,7] + 20.0*x[5,8] + 20.0*x[5,9] + 22.0*x[5,10] + 19.0*x[5,11] + 21.0*x[6,0] + 16.0*x[6,1] + 27.0*x[6,2] + 17.0*x[6,3] + 26.0*x[6,4] + 27.0*x[6,5] + 16.0*x[6,6] + 19.0*x[6,7] + 24.0*x[6,8] + 20.0*x[6,9] + 20.0*x[6,10] + 23.0*x[6,11] + 22.0*x[7,0] + 17.0*x[7,1] + 21.0*x[7,2] + 15.0*x[7,3] + 23.0*x[7,4] + 24.0*x[7,5] + 24.0*x[7,6] + 20.0*x[7,7] + 22.0*x[7,8] + 19.0*x[7,9] + 23.0*x[7,10] + 21.0*x[7,11] + 23.0*x[8,0] + 24.0*x[8,1] + 18.0*x[8,2] + 19.0*x[8,3] + 22.0*x[8,4] + 23.0*x[8,5] + 300000000.0*x[8,6] + 18.0*x[8,7] + 23.0*x[8,8] + 15.0*x[8,9] + 25.0*x[8,10] + 21.0*x[8,11] + 18.0*x[9,0] + 21.0*x[9,1] + 21.0*x[9,2] + 18.0*x[9,3] + 26.0*x[9,4] + 24.0*x[9,5] + 18.0*x[9,6] + 17.0*x[9,7] + 18.0*x[9,8] + 20.0*x[9,9] + 21.0*x[9,10] + 20.0*x[9,11] + 19.0*x[10,0] + 12.0*x[10,1] + 21.0*x[10,2] + 19.0*x[10,3] + 23.0*x[10,4] + 20.0*x[10,5] + 22.0*x[10,6] + 19.0*x[10,7] + 17.0*x[10,8] + 19.0*x[10,9] + 20.0*x[10,10] + 24.0*x[10,11] + 18.0*x[11,0] + 22.0*x[11,1] + 24.0*x[11,2] + 17.0*x[11,3] + 21.0*x[11,4] + 28.0*x[11,5] + 18.0*x[11,6] + 16.0*x[11,7] + 22.0*x[11,8] + 24.0*x[11,9] + 25.0*x[11,10] + 24.0*x[11,11]\n",
            "\n",
            "1 Constraint Declarations\n",
            "    constraints : Size=24, Index=constraints_index, Active=True\n",
            "        Key : Lower : Body                                                                                                                    : Upper : Active\n",
            "          1 :   1.0 :             x[0,0] + x[0,1] + x[0,2] + x[0,3] + x[0,4] + x[0,5] + x[0,6] + x[0,7] + x[0,8] + x[0,9] + x[0,10] + x[0,11] :   1.0 :   True\n",
            "          2 :   1.0 :             x[1,0] + x[1,1] + x[1,2] + x[1,3] + x[1,4] + x[1,5] + x[1,6] + x[1,7] + x[1,8] + x[1,9] + x[1,10] + x[1,11] :   1.0 :   True\n",
            "          3 :   1.0 :             x[2,0] + x[2,1] + x[2,2] + x[2,3] + x[2,4] + x[2,5] + x[2,6] + x[2,7] + x[2,8] + x[2,9] + x[2,10] + x[2,11] :   1.0 :   True\n",
            "          4 :   1.0 :             x[3,0] + x[3,1] + x[3,2] + x[3,3] + x[3,4] + x[3,5] + x[3,6] + x[3,7] + x[3,8] + x[3,9] + x[3,10] + x[3,11] :   1.0 :   True\n",
            "          5 :   1.0 :             x[4,0] + x[4,1] + x[4,2] + x[4,3] + x[4,4] + x[4,5] + x[4,6] + x[4,7] + x[4,8] + x[4,9] + x[4,10] + x[4,11] :   1.0 :   True\n",
            "          6 :   1.0 :             x[5,0] + x[5,1] + x[5,2] + x[5,3] + x[5,4] + x[5,5] + x[5,6] + x[5,7] + x[5,8] + x[5,9] + x[5,10] + x[5,11] :   1.0 :   True\n",
            "          7 :   1.0 :             x[6,0] + x[6,1] + x[6,2] + x[6,3] + x[6,4] + x[6,5] + x[6,6] + x[6,7] + x[6,8] + x[6,9] + x[6,10] + x[6,11] :   1.0 :   True\n",
            "          8 :   1.0 :             x[7,0] + x[7,1] + x[7,2] + x[7,3] + x[7,4] + x[7,5] + x[7,6] + x[7,7] + x[7,8] + x[7,9] + x[7,10] + x[7,11] :   1.0 :   True\n",
            "          9 :   1.0 :             x[8,0] + x[8,1] + x[8,2] + x[8,3] + x[8,4] + x[8,5] + x[8,6] + x[8,7] + x[8,8] + x[8,9] + x[8,10] + x[8,11] :   1.0 :   True\n",
            "         10 :   1.0 :             x[9,0] + x[9,1] + x[9,2] + x[9,3] + x[9,4] + x[9,5] + x[9,6] + x[9,7] + x[9,8] + x[9,9] + x[9,10] + x[9,11] :   1.0 :   True\n",
            "         11 :   1.0 : x[10,0] + x[10,1] + x[10,2] + x[10,3] + x[10,4] + x[10,5] + x[10,6] + x[10,7] + x[10,8] + x[10,9] + x[10,10] + x[10,11] :   1.0 :   True\n",
            "         12 :   1.0 : x[11,0] + x[11,1] + x[11,2] + x[11,3] + x[11,4] + x[11,5] + x[11,6] + x[11,7] + x[11,8] + x[11,9] + x[11,10] + x[11,11] :   1.0 :   True\n",
            "         13 :   1.0 :             x[0,0] + x[1,0] + x[2,0] + x[3,0] + x[4,0] + x[5,0] + x[6,0] + x[7,0] + x[8,0] + x[9,0] + x[10,0] + x[11,0] :   1.0 :   True\n",
            "         14 :   1.0 :             x[0,1] + x[1,1] + x[2,1] + x[3,1] + x[4,1] + x[5,1] + x[6,1] + x[7,1] + x[8,1] + x[9,1] + x[10,1] + x[11,1] :   1.0 :   True\n",
            "         15 :   1.0 :             x[0,2] + x[1,2] + x[2,2] + x[3,2] + x[4,2] + x[5,2] + x[6,2] + x[7,2] + x[8,2] + x[9,2] + x[10,2] + x[11,2] :   1.0 :   True\n",
            "         16 :   1.0 :             x[0,3] + x[1,3] + x[2,3] + x[3,3] + x[4,3] + x[5,3] + x[6,3] + x[7,3] + x[8,3] + x[9,3] + x[10,3] + x[11,3] :   1.0 :   True\n",
            "         17 :   1.0 :             x[0,4] + x[1,4] + x[2,4] + x[3,4] + x[4,4] + x[5,4] + x[6,4] + x[7,4] + x[8,4] + x[9,4] + x[10,4] + x[11,4] :   1.0 :   True\n",
            "         18 :   1.0 :             x[0,5] + x[1,5] + x[2,5] + x[3,5] + x[4,5] + x[5,5] + x[6,5] + x[7,5] + x[8,5] + x[9,5] + x[10,5] + x[11,5] :   1.0 :   True\n",
            "         19 :   1.0 :             x[0,6] + x[1,6] + x[2,6] + x[3,6] + x[4,6] + x[5,6] + x[6,6] + x[7,6] + x[8,6] + x[9,6] + x[10,6] + x[11,6] :   1.0 :   True\n",
            "         20 :   1.0 :             x[0,7] + x[1,7] + x[2,7] + x[3,7] + x[4,7] + x[5,7] + x[6,7] + x[7,7] + x[8,7] + x[9,7] + x[10,7] + x[11,7] :   1.0 :   True\n",
            "         21 :   1.0 :             x[0,8] + x[1,8] + x[2,8] + x[3,8] + x[4,8] + x[5,8] + x[6,8] + x[7,8] + x[8,8] + x[9,8] + x[10,8] + x[11,8] :   1.0 :   True\n",
            "         22 :   1.0 :             x[0,9] + x[1,9] + x[2,9] + x[3,9] + x[4,9] + x[5,9] + x[6,9] + x[7,9] + x[8,9] + x[9,9] + x[10,9] + x[11,9] :   1.0 :   True\n",
            "         23 :   1.0 : x[0,10] + x[1,10] + x[2,10] + x[3,10] + x[4,10] + x[5,10] + x[6,10] + x[7,10] + x[8,10] + x[9,10] + x[10,10] + x[11,10] :   1.0 :   True\n",
            "         24 :   1.0 : x[0,11] + x[1,11] + x[2,11] + x[3,11] + x[4,11] + x[5,11] + x[6,11] + x[7,11] + x[8,11] + x[9,11] + x[10,11] + x[11,11] :   1.0 :   True\n",
            "\n",
            "7 Declarations: x_index_0 x_index_1 x_index x constraints_index constraints objective\n"
          ]
        }
      ]
    },
    {
      "cell_type": "code",
      "source": [
        "result = opt_cbc.solve(model_lab6_ex2)\n",
        "print('Solver status:', result.solver.status)\n",
        "print('Solver termination condition:',result.solver.termination_condition)"
      ],
      "metadata": {
        "id": "XpwPR4sqTyOg",
        "outputId": "7684134f-a83e-4ff5-e6ae-39b8d0aff064",
        "colab": {
          "base_uri": "https://localhost:8080/"
        }
      },
      "execution_count": 29,
      "outputs": [
        {
          "output_type": "stream",
          "name": "stdout",
          "text": [
            "Solver status: ok\n",
            "Solver termination condition: optimal\n"
          ]
        }
      ]
    },
    {
      "cell_type": "code",
      "source": [
        "# display solution\n",
        "print('\\nObjective = ', model_lab6_ex2.objective())\n",
        "\n",
        "print('\\nDecision Variables')\n",
        "for i in row_indices:\n",
        "  for j in col_indices:\n",
        "    if model_lab6_ex2.x[i, j].value == 1:\n",
        "      print('Factory', i+1, 'is to be located at', j+1)\n",
        "\n",
        "print('\\nConstraints')\n",
        "model_lab6_ex2.constraints.display()"
      ],
      "metadata": {
        "id": "mUNfFsDLT3zU",
        "outputId": "31ef429b-2b69-462f-efa7-d8ccacbf66f2",
        "colab": {
          "base_uri": "https://localhost:8080/"
        }
      },
      "execution_count": 30,
      "outputs": [
        {
          "output_type": "stream",
          "name": "stdout",
          "text": [
            "\n",
            "Objective =  204.0\n",
            "\n",
            "Decision Variables\n",
            "Factory 1 is to be located at 11\n",
            "Factory 2 is to be located at 9\n",
            "Factory 3 is to be located at 8\n",
            "Factory 4 is to be located at 6\n",
            "Factory 5 is to be located at 3\n",
            "Factory 6 is to be located at 12\n",
            "Factory 7 is to be located at 7\n",
            "Factory 8 is to be located at 4\n",
            "Factory 9 is to be located at 10\n",
            "Factory 10 is to be located at 1\n",
            "Factory 11 is to be located at 2\n",
            "Factory 12 is to be located at 5\n",
            "\n",
            "Constraints\n",
            "constraints : Size=24\n",
            "    Key : Lower : Body : Upper\n",
            "      1 :   1.0 :  1.0 :   1.0\n",
            "      2 :   1.0 :  1.0 :   1.0\n",
            "      3 :   1.0 :  1.0 :   1.0\n",
            "      4 :   1.0 :  1.0 :   1.0\n",
            "      5 :   1.0 :  1.0 :   1.0\n",
            "      6 :   1.0 :  1.0 :   1.0\n",
            "      7 :   1.0 :  1.0 :   1.0\n",
            "      8 :   1.0 :  1.0 :   1.0\n",
            "      9 :   1.0 :  1.0 :   1.0\n",
            "     10 :   1.0 :  1.0 :   1.0\n",
            "     11 :   1.0 :  1.0 :   1.0\n",
            "     12 :   1.0 :  1.0 :   1.0\n",
            "     13 :   1.0 :  1.0 :   1.0\n",
            "     14 :   1.0 :  1.0 :   1.0\n",
            "     15 :   1.0 :  1.0 :   1.0\n",
            "     16 :   1.0 :  1.0 :   1.0\n",
            "     17 :   1.0 :  1.0 :   1.0\n",
            "     18 :   1.0 :  1.0 :   1.0\n",
            "     19 :   1.0 :  1.0 :   1.0\n",
            "     20 :   1.0 :  1.0 :   1.0\n",
            "     21 :   1.0 :  1.0 :   1.0\n",
            "     22 :   1.0 :  1.0 :   1.0\n",
            "     23 :   1.0 :  1.0 :   1.0\n",
            "     24 :   1.0 :  1.0 :   1.0\n"
          ]
        }
      ]
    },
    {
      "cell_type": "code",
      "source": [
        "#we will now put some real values of cost \n",
        "data_txtfile[2, 4] = 22.67\n",
        "data_txtfile[5, 6] = 21.83\n",
        "data_txtfile[3, 7] = 17.78"
      ],
      "metadata": {
        "id": "JtjrX0D9JK3F"
      },
      "execution_count": 31,
      "outputs": []
    },
    {
      "cell_type": "code",
      "source": [
        "model_lab6_ex2.objective = Objective(expr=sum(data_txtfile[i,j]*model_lab6_ex2.x[i,j] for i in row_indices for j in col_indices),sense=minimize)"
      ],
      "metadata": {
        "colab": {
          "base_uri": "https://localhost:8080/"
        },
        "id": "pHbBh2f_J70i",
        "outputId": "de171149-b4ad-42a0-c8a9-3bd303015067"
      },
      "execution_count": 32,
      "outputs": [
        {
          "output_type": "stream",
          "name": "stderr",
          "text": [
            "WARNING:pyomo.core:Implicitly replacing the Component attribute objective (type=<class 'pyomo.core.base.objective.ScalarObjective'>) on block unknown with a new Component (type=<class 'pyomo.core.base.objective.ScalarObjective'>).\n",
            "This is usually indicative of a modelling error.\n",
            "To avoid this warning, use block.del_component() and block.add_component().\n"
          ]
        }
      ]
    },
    {
      "cell_type": "code",
      "source": [
        "result = opt_cbc.solve(model_lab6_ex2)\n",
        "print('Solver status:', result.solver.status)\n",
        "print('Solver termination condition:',result.solver.termination_condition)"
      ],
      "metadata": {
        "colab": {
          "base_uri": "https://localhost:8080/"
        },
        "id": "WvT7vzd5J8LS",
        "outputId": "91e4c46a-5eb5-430d-cd9e-cbf4934d2d36"
      },
      "execution_count": 33,
      "outputs": [
        {
          "output_type": "stream",
          "name": "stdout",
          "text": [
            "Solver status: ok\n",
            "Solver termination condition: optimal\n"
          ]
        }
      ]
    },
    {
      "cell_type": "code",
      "source": [
        "# display solution\n",
        "print('\\nObjective = ', model_lab6_ex2.objective())\n",
        "\n",
        "print('\\nDecision Variables')\n",
        "for i in row_indices:\n",
        "  for j in col_indices:\n",
        "    if model_lab6_ex2.x[i, j].value == 1:\n",
        "      print('Factory', i+1, 'is to be located at', j+1)\n",
        "\n",
        "print('\\nConstraints')\n",
        "model_lab6_ex2.constraints.display()"
      ],
      "metadata": {
        "colab": {
          "base_uri": "https://localhost:8080/"
        },
        "id": "qdvJ2_inKFMp",
        "outputId": "aa69e9d2-f955-44ad-a6ea-00785536afac"
      },
      "execution_count": 34,
      "outputs": [
        {
          "output_type": "stream",
          "name": "stdout",
          "text": [
            "\n",
            "Objective =  204.0\n",
            "\n",
            "Decision Variables\n",
            "Factory 1 is to be located at 11\n",
            "Factory 2 is to be located at 9\n",
            "Factory 3 is to be located at 8\n",
            "Factory 4 is to be located at 6\n",
            "Factory 5 is to be located at 3\n",
            "Factory 6 is to be located at 12\n",
            "Factory 7 is to be located at 7\n",
            "Factory 8 is to be located at 4\n",
            "Factory 9 is to be located at 10\n",
            "Factory 10 is to be located at 1\n",
            "Factory 11 is to be located at 2\n",
            "Factory 12 is to be located at 5\n",
            "\n",
            "Constraints\n",
            "constraints : Size=24\n",
            "    Key : Lower : Body : Upper\n",
            "      1 :   1.0 :  1.0 :   1.0\n",
            "      2 :   1.0 :  1.0 :   1.0\n",
            "      3 :   1.0 :  1.0 :   1.0\n",
            "      4 :   1.0 :  1.0 :   1.0\n",
            "      5 :   1.0 :  1.0 :   1.0\n",
            "      6 :   1.0 :  1.0 :   1.0\n",
            "      7 :   1.0 :  1.0 :   1.0\n",
            "      8 :   1.0 :  1.0 :   1.0\n",
            "      9 :   1.0 :  1.0 :   1.0\n",
            "     10 :   1.0 :  1.0 :   1.0\n",
            "     11 :   1.0 :  1.0 :   1.0\n",
            "     12 :   1.0 :  1.0 :   1.0\n",
            "     13 :   1.0 :  1.0 :   1.0\n",
            "     14 :   1.0 :  1.0 :   1.0\n",
            "     15 :   1.0 :  1.0 :   1.0\n",
            "     16 :   1.0 :  1.0 :   1.0\n",
            "     17 :   1.0 :  1.0 :   1.0\n",
            "     18 :   1.0 :  1.0 :   1.0\n",
            "     19 :   1.0 :  1.0 :   1.0\n",
            "     20 :   1.0 :  1.0 :   1.0\n",
            "     21 :   1.0 :  1.0 :   1.0\n",
            "     22 :   1.0 :  1.0 :   1.0\n",
            "     23 :   1.0 :  1.0 :   1.0\n",
            "     24 :   1.0 :  1.0 :   1.0\n"
          ]
        }
      ]
    },
    {
      "cell_type": "markdown",
      "source": [
        "**Report on Exercise 2 part 1:**\n",
        "\n",
        "The LP formulation of the given problem is as follows:\n",
        "\n",
        "$ min \\sum_{i=1}^n\\sum_{j=1}^n C(i,j)*x_{ij} $\n",
        "\n",
        "$s.t. \\sum_{i=1}^nx_{ij}=1 ∀iϵ${ 1,2,....n }\n",
        "\n",
        "$ \\sum_{j=1}^nx_{ij} <= 1  ∀ jϵ${1,2,....n}\n",
        "\n",
        "$ x_{ij}>= 0 ∀i,j ϵ$ {1,2,....,n}\n",
        "\n",
        "where C(i, j) is the cost of locating factory i to location j and $x_{ij}$ is the indicator variable which indicates that whether the factory i is located to location j or not."
      ],
      "metadata": {
        "id": "ecoGbFKCPW7Y"
      }
    },
    {
      "cell_type": "markdown",
      "source": [
        "**Report on Exercise 2 part 8:**\n",
        "\n",
        "**Objective** =  204.0\n",
        "\n",
        "**Decision Variables:**\n",
        "\n",
        "Factory 1 is to be located at 11\n",
        "\n",
        "Factory 2 is to be located at 9\n",
        "\n",
        "Factory 3 is to be located at 8\n",
        "\n",
        "Factory 4 is to be located at 6\n",
        "\n",
        "Factory 5 is to be located at 3\n",
        "\n",
        "Factory 6 is to be located at 12\n",
        "\n",
        "Factory 7 is to be located at 7\n",
        "\n",
        "Factory 8 is to be located at 4\n",
        "\n",
        "Factory 9 is to be located at 10\n",
        "\n",
        "Factory 10 is to be located at 1\n",
        "\n",
        "Factory 11 is to be located at 2\n",
        "\n",
        "Factory 12 is to be located at 5\n",
        "\n",
        "**Constraints**\n",
        "\n",
        "constraints : Size=24\n",
        "\n",
        "    Key : Lower : Body : Upper\n",
        "      1 :   1.0 :  1.0 :   1.0\n",
        "      2 :   1.0 :  1.0 :   1.0\n",
        "      3 :   1.0 :  1.0 :   1.0\n",
        "      4 :   1.0 :  1.0 :   1.0\n",
        "      5 :   1.0 :  1.0 :   1.0\n",
        "      6 :   1.0 :  1.0 :   1.0\n",
        "      7 :   1.0 :  1.0 :   1.0\n",
        "      8 :   1.0 :  1.0 :   1.0\n",
        "      9 :   1.0 :  1.0 :   1.0\n",
        "     10 :   1.0 :  1.0 :   1.0\n",
        "     11 :   1.0 :  1.0 :   1.0\n",
        "     12 :   1.0 :  1.0 :   1.0\n",
        "     13 :   1.0 :  1.0 :   1.0\n",
        "     14 :   1.0 :  1.0 :   1.0\n",
        "     15 :   1.0 :  1.0 :   1.0\n",
        "     16 :   1.0 :  1.0 :   1.0\n",
        "     17 :   1.0 :  1.0 :   1.0\n",
        "     18 :   1.0 :  1.0 :   1.0\n",
        "     19 :   1.0 :  1.0 :   1.0\n",
        "     20 :   1.0 :  1.0 :   1.0\n",
        "     21 :   1.0 :  1.0 :   1.0\n",
        "     22 :   1.0 :  1.0 :   1.0\n",
        "     23 :   1.0 :  1.0 :   1.0\n",
        "     24 :   1.0 :  1.0 :   1.0"
      ],
      "metadata": {
        "id": "TpB1JCRB0ONc"
      }
    },
    {
      "cell_type": "markdown",
      "source": [
        "**Report on Exercise 2 part 9:**\n",
        "\n",
        "The new solution after changing the domain to NonNegativeReals is as follows:\n",
        "\n",
        "**Objective** =  204.0\n",
        "\n",
        "**Decision Variables:**\n",
        "\n",
        "Factory 1 is to be located at 11\n",
        "\n",
        "Factory 2 is to be located at 9\n",
        "\n",
        "Factory 3 is to be located at 8\n",
        "\n",
        "Factory 4 is to be located at 6\n",
        "\n",
        "Factory 5 is to be located at 3\n",
        "\n",
        "Factory 6 is to be located at 12\n",
        "\n",
        "Factory 7 is to be located at 7\n",
        "\n",
        "Factory 8 is to be located at 4\n",
        "\n",
        "Factory 9 is to be located at 10\n",
        "\n",
        "Factory 10 is to be located at 1\n",
        "\n",
        "Factory 11 is to be located at 2\n",
        "\n",
        "Factory 12 is to be located at 5\n",
        "\n",
        "**Constraints**\n",
        "\n",
        "constraints : Size=24\n",
        "\n",
        "    Key : Lower : Body : Upper\n",
        "      1 :   1.0 :  1.0 :   1.0\n",
        "      2 :   1.0 :  1.0 :   1.0\n",
        "      3 :   1.0 :  1.0 :   1.0\n",
        "      4 :   1.0 :  1.0 :   1.0\n",
        "      5 :   1.0 :  1.0 :   1.0\n",
        "      6 :   1.0 :  1.0 :   1.0\n",
        "      7 :   1.0 :  1.0 :   1.0\n",
        "      8 :   1.0 :  1.0 :   1.0\n",
        "      9 :   1.0 :  1.0 :   1.0\n",
        "     10 :   1.0 :  1.0 :   1.0\n",
        "     11 :   1.0 :  1.0 :   1.0\n",
        "     12 :   1.0 :  1.0 :   1.0\n",
        "     13 :   1.0 :  1.0 :   1.0\n",
        "     14 :   1.0 :  1.0 :   1.0\n",
        "     15 :   1.0 :  1.0 :   1.0\n",
        "     16 :   1.0 :  1.0 :   1.0\n",
        "     17 :   1.0 :  1.0 :   1.0\n",
        "     18 :   1.0 :  1.0 :   1.0\n",
        "     19 :   1.0 :  1.0 :   1.0\n",
        "     20 :   1.0 :  1.0 :   1.0\n",
        "     21 :   1.0 :  1.0 :   1.0\n",
        "     22 :   1.0 :  1.0 :   1.0\n",
        "     23 :   1.0 :  1.0 :   1.0\n",
        "     24 :   1.0 :  1.0 :   1.0"
      ],
      "metadata": {
        "id": "HS9PISJG1EEg"
      }
    },
    {
      "cell_type": "markdown",
      "source": [
        "**Report on Exercise 2 part 10:**\n",
        "\n",
        "Yes, after changing the domain variables from NonNegativeIntegers to NonNegativeReals, the optimal cost and solution is same. This is because we can locate only one factory to a location and assigning the fractional values to the decision variables may not lead to the minimum cost. It will increase the total cost i.e., the solution would not remain optimal anymore."
      ],
      "metadata": {
        "id": "omOoKM8V11NM"
      }
    },
    {
      "cell_type": "markdown",
      "source": [
        "**Report on Exercise 2 part 12:**\n",
        "\n",
        "Since facility 3, 9 and 6 can not be located at locations 4, 6 and 10 respectively so, I'll make changes in the lab6_ex2.txt file.\n",
        "\n",
        "I'll increase the cost of locating the given facilities(3,9,6) at the given locations(4,6,10) respectively in such a way that if Factory 3 is assigned to location 4 initially then it got changed and similarly with the other two factories.\n",
        "\n",
        "**The solution after these changes is as follows:**\n",
        "\n",
        "**Objective** =  204.0\n",
        "\n",
        "**Decision Variables:**\n",
        "\n",
        "Factory 1 is to be located at 11\n",
        "\n",
        "Factory 2 is to be located at 9\n",
        "\n",
        "Factory 3 is to be located at 8\n",
        "\n",
        "Factory 4 is to be located at 6\n",
        "\n",
        "Factory 5 is to be located at 3\n",
        "\n",
        "Factory 6 is to be located at 12\n",
        "\n",
        "Factory 7 is to be located at 7\n",
        "\n",
        "Factory 8 is to be located at 4\n",
        "\n",
        "Factory 9 is to be located at 10\n",
        "\n",
        "Factory 10 is to be located at 1\n",
        "\n",
        "Factory 11 is to be located at 2\n",
        "\n",
        "Factory 12 is to be located at 5\n",
        "\n",
        "**Constraints**\n",
        "\n",
        "constraints : Size=24\n",
        "\n",
        "    Key : Lower : Body : Upper\n",
        "      1 :   1.0 :  1.0 :   1.0\n",
        "      2 :   1.0 :  1.0 :   1.0\n",
        "      3 :   1.0 :  1.0 :   1.0\n",
        "      4 :   1.0 :  1.0 :   1.0\n",
        "      5 :   1.0 :  1.0 :   1.0\n",
        "      6 :   1.0 :  1.0 :   1.0\n",
        "      7 :   1.0 :  1.0 :   1.0\n",
        "      8 :   1.0 :  1.0 :   1.0\n",
        "      9 :   1.0 :  1.0 :   1.0\n",
        "     10 :   1.0 :  1.0 :   1.0\n",
        "     11 :   1.0 :  1.0 :   1.0\n",
        "     12 :   1.0 :  1.0 :   1.0\n",
        "     13 :   1.0 :  1.0 :   1.0\n",
        "     14 :   1.0 :  1.0 :   1.0\n",
        "     15 :   1.0 :  1.0 :   1.0\n",
        "     16 :   1.0 :  1.0 :   1.0\n",
        "     17 :   1.0 :  1.0 :   1.0\n",
        "     18 :   1.0 :  1.0 :   1.0\n",
        "     19 :   1.0 :  1.0 :   1.0\n",
        "     20 :   1.0 :  1.0 :   1.0\n",
        "     21 :   1.0 :  1.0 :   1.0\n",
        "     22 :   1.0 :  1.0 :   1.0\n",
        "     23 :   1.0 :  1.0 :   1.0\n",
        "     24 :   1.0 :  1.0 :   1.0\n",
        "\n",
        "\n",
        "**Observations from the result:**\n",
        "\n",
        "After changing the file according to the given condition i.e., increasing the costs, I observed that the optimal solution is exactly the same i.e., the factories are still assigned to the same location with the same total cost because these factories (3, 9, 6) already were not located to the given locations i.e., 4, 6 and 10.\n",
        "\n"
      ],
      "metadata": {
        "id": "m3NIODGr3qsW"
      }
    }
  ]
}